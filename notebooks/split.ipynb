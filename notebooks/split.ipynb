{
 "cells": [
  {
   "cell_type": "markdown",
   "metadata": {},
   "source": [
    "# split into midas,tame,tmu"
   ]
  },
  {
   "cell_type": "code",
   "execution_count": 1,
   "metadata": {},
   "outputs": [],
   "source": [
    "library(data.table)"
   ]
  },
  {
   "cell_type": "code",
   "execution_count": 2,
   "metadata": {},
   "outputs": [
    {
     "data": {
      "text/html": [
       "<table>\n",
       "<thead><tr><th scope=col>site_id</th><th scope=col>site_name</th><th scope=col>report_date</th><th scope=col>time_period_end</th><th scope=col>interval</th><th scope=col>len_0_520_cm</th><th scope=col>len_521_660_cm</th><th scope=col>len_661_1160_cm</th><th scope=col>len_1160_plus_cm</th><th scope=col>speed_0_10_mph</th><th scope=col>⋯</th><th scope=col>speed_80_plus_mph</th><th scope=col>speed_avg_mph</th><th scope=col>total_vol</th><th scope=col>longitude</th><th scope=col>latitude</th><th scope=col>status</th><th scope=col>type</th><th scope=col>direction</th><th scope=col>easting</th><th scope=col>northing</th></tr></thead>\n",
       "<tbody>\n",
       "\t<tr><td>10000              </td><td>M3/2055L           </td><td>2018-11-01T00:00:00</td><td>00:14:00           </td><td>0                  </td><td>6                  </td><td>0                  </td><td>0                  </td><td>0                  </td><td>NA                 </td><td>⋯                  </td><td>NA                 </td><td>53                 </td><td> 6                 </td><td>-1.303344          </td><td>51.04742           </td><td>Active             </td><td>midas              </td><td>eastbound          </td><td>448931             </td><td>127795             </td></tr>\n",
       "\t<tr><td>10000              </td><td>M3/2055L           </td><td>2018-11-01T00:00:00</td><td>00:29:00           </td><td>1                  </td><td>5                  </td><td>0                  </td><td>0                  </td><td>0                  </td><td>NA                 </td><td>⋯                  </td><td>NA                 </td><td>65                 </td><td> 5                 </td><td>-1.303344          </td><td>51.04742           </td><td>Active             </td><td>midas              </td><td>eastbound          </td><td>448931             </td><td>127795             </td></tr>\n",
       "\t<tr><td>10000              </td><td>M3/2055L           </td><td>2018-11-01T00:00:00</td><td>00:44:00           </td><td>2                  </td><td>4                  </td><td>0                  </td><td>0                  </td><td>0                  </td><td>NA                 </td><td>⋯                  </td><td>NA                 </td><td>54                 </td><td> 4                 </td><td>-1.303344          </td><td>51.04742           </td><td>Active             </td><td>midas              </td><td>eastbound          </td><td>448931             </td><td>127795             </td></tr>\n",
       "\t<tr><td>10000              </td><td>M3/2055L           </td><td>2018-11-01T00:00:00</td><td>00:59:00           </td><td>3                  </td><td>1                  </td><td>2                  </td><td>0                  </td><td>1                  </td><td>NA                 </td><td>⋯                  </td><td>NA                 </td><td>53                 </td><td> 4                 </td><td>-1.303344          </td><td>51.04742           </td><td>Active             </td><td>midas              </td><td>eastbound          </td><td>448931             </td><td>127795             </td></tr>\n",
       "\t<tr><td>10000              </td><td>M3/2055L           </td><td>2018-11-01T00:00:00</td><td>01:14:00           </td><td>4                  </td><td>1                  </td><td>0                  </td><td>0                  </td><td>0                  </td><td>NA                 </td><td>⋯                  </td><td>NA                 </td><td>54                 </td><td> 1                 </td><td>-1.303344          </td><td>51.04742           </td><td>Active             </td><td>midas              </td><td>eastbound          </td><td>448931             </td><td>127795             </td></tr>\n",
       "\t<tr><td>10000              </td><td>M3/2055L           </td><td>2018-11-01T00:00:00</td><td>01:29:00           </td><td>5                  </td><td>7                  </td><td>2                  </td><td>1                  </td><td>1                  </td><td>NA                 </td><td>⋯                  </td><td>NA                 </td><td>52                 </td><td>11                 </td><td>-1.303344          </td><td>51.04742           </td><td>Active             </td><td>midas              </td><td>eastbound          </td><td>448931             </td><td>127795             </td></tr>\n",
       "</tbody>\n",
       "</table>\n"
      ],
      "text/latex": [
       "\\begin{tabular}{r|llllllllllllllllllllllllllllllll}\n",
       " site\\_id & site\\_name & report\\_date & time\\_period\\_end & interval & len\\_0\\_520\\_cm & len\\_521\\_660\\_cm & len\\_661\\_1160\\_cm & len\\_1160\\_plus\\_cm & speed\\_0\\_10\\_mph & ⋯ & speed\\_80\\_plus\\_mph & speed\\_avg\\_mph & total\\_vol & longitude & latitude & status & type & direction & easting & northing\\\\\n",
       "\\hline\n",
       "\t 10000               & M3/2055L            & 2018-11-01T00:00:00 & 00:14:00            & 0                   & 6                   & 0                   & 0                   & 0                   & NA                  & ⋯                   & NA                  & 53                  &  6                  & -1.303344           & 51.04742            & Active              & midas               & eastbound           & 448931              & 127795             \\\\\n",
       "\t 10000               & M3/2055L            & 2018-11-01T00:00:00 & 00:29:00            & 1                   & 5                   & 0                   & 0                   & 0                   & NA                  & ⋯                   & NA                  & 65                  &  5                  & -1.303344           & 51.04742            & Active              & midas               & eastbound           & 448931              & 127795             \\\\\n",
       "\t 10000               & M3/2055L            & 2018-11-01T00:00:00 & 00:44:00            & 2                   & 4                   & 0                   & 0                   & 0                   & NA                  & ⋯                   & NA                  & 54                  &  4                  & -1.303344           & 51.04742            & Active              & midas               & eastbound           & 448931              & 127795             \\\\\n",
       "\t 10000               & M3/2055L            & 2018-11-01T00:00:00 & 00:59:00            & 3                   & 1                   & 2                   & 0                   & 1                   & NA                  & ⋯                   & NA                  & 53                  &  4                  & -1.303344           & 51.04742            & Active              & midas               & eastbound           & 448931              & 127795             \\\\\n",
       "\t 10000               & M3/2055L            & 2018-11-01T00:00:00 & 01:14:00            & 4                   & 1                   & 0                   & 0                   & 0                   & NA                  & ⋯                   & NA                  & 54                  &  1                  & -1.303344           & 51.04742            & Active              & midas               & eastbound           & 448931              & 127795             \\\\\n",
       "\t 10000               & M3/2055L            & 2018-11-01T00:00:00 & 01:29:00            & 5                   & 7                   & 2                   & 1                   & 1                   & NA                  & ⋯                   & NA                  & 52                  & 11                  & -1.303344           & 51.04742            & Active              & midas               & eastbound           & 448931              & 127795             \\\\\n",
       "\\end{tabular}\n"
      ],
      "text/markdown": [
       "\n",
       "site_id | site_name | report_date | time_period_end | interval | len_0_520_cm | len_521_660_cm | len_661_1160_cm | len_1160_plus_cm | speed_0_10_mph | ⋯ | speed_80_plus_mph | speed_avg_mph | total_vol | longitude | latitude | status | type | direction | easting | northing | \n",
       "|---|---|---|---|---|---|\n",
       "| 10000               | M3/2055L            | 2018-11-01T00:00:00 | 00:14:00            | 0                   | 6                   | 0                   | 0                   | 0                   | NA                  | ⋯                   | NA                  | 53                  |  6                  | -1.303344           | 51.04742            | Active              | midas               | eastbound           | 448931              | 127795              | \n",
       "| 10000               | M3/2055L            | 2018-11-01T00:00:00 | 00:29:00            | 1                   | 5                   | 0                   | 0                   | 0                   | NA                  | ⋯                   | NA                  | 65                  |  5                  | -1.303344           | 51.04742            | Active              | midas               | eastbound           | 448931              | 127795              | \n",
       "| 10000               | M3/2055L            | 2018-11-01T00:00:00 | 00:44:00            | 2                   | 4                   | 0                   | 0                   | 0                   | NA                  | ⋯                   | NA                  | 54                  |  4                  | -1.303344           | 51.04742            | Active              | midas               | eastbound           | 448931              | 127795              | \n",
       "| 10000               | M3/2055L            | 2018-11-01T00:00:00 | 00:59:00            | 3                   | 1                   | 2                   | 0                   | 1                   | NA                  | ⋯                   | NA                  | 53                  |  4                  | -1.303344           | 51.04742            | Active              | midas               | eastbound           | 448931              | 127795              | \n",
       "| 10000               | M3/2055L            | 2018-11-01T00:00:00 | 01:14:00            | 4                   | 1                   | 0                   | 0                   | 0                   | NA                  | ⋯                   | NA                  | 54                  |  1                  | -1.303344           | 51.04742            | Active              | midas               | eastbound           | 448931              | 127795              | \n",
       "| 10000               | M3/2055L            | 2018-11-01T00:00:00 | 01:29:00            | 5                   | 7                   | 2                   | 1                   | 1                   | NA                  | ⋯                   | NA                  | 52                  | 11                  | -1.303344           | 51.04742            | Active              | midas               | eastbound           | 448931              | 127795              | \n",
       "\n",
       "\n"
      ],
      "text/plain": [
       "  site_id site_name report_date         time_period_end interval len_0_520_cm\n",
       "1 10000   M3/2055L  2018-11-01T00:00:00 00:14:00        0        6           \n",
       "2 10000   M3/2055L  2018-11-01T00:00:00 00:29:00        1        5           \n",
       "3 10000   M3/2055L  2018-11-01T00:00:00 00:44:00        2        4           \n",
       "4 10000   M3/2055L  2018-11-01T00:00:00 00:59:00        3        1           \n",
       "5 10000   M3/2055L  2018-11-01T00:00:00 01:14:00        4        1           \n",
       "6 10000   M3/2055L  2018-11-01T00:00:00 01:29:00        5        7           \n",
       "  len_521_660_cm len_661_1160_cm len_1160_plus_cm speed_0_10_mph ⋯\n",
       "1 0              0               0                NA             ⋯\n",
       "2 0              0               0                NA             ⋯\n",
       "3 0              0               0                NA             ⋯\n",
       "4 2              0               1                NA             ⋯\n",
       "5 0              0               0                NA             ⋯\n",
       "6 2              1               1                NA             ⋯\n",
       "  speed_80_plus_mph speed_avg_mph total_vol longitude latitude status type \n",
       "1 NA                53             6        -1.303344 51.04742 Active midas\n",
       "2 NA                65             5        -1.303344 51.04742 Active midas\n",
       "3 NA                54             4        -1.303344 51.04742 Active midas\n",
       "4 NA                53             4        -1.303344 51.04742 Active midas\n",
       "5 NA                54             1        -1.303344 51.04742 Active midas\n",
       "6 NA                52            11        -1.303344 51.04742 Active midas\n",
       "  direction easting northing\n",
       "1 eastbound 448931  127795  \n",
       "2 eastbound 448931  127795  \n",
       "3 eastbound 448931  127795  \n",
       "4 eastbound 448931  127795  \n",
       "5 eastbound 448931  127795  \n",
       "6 eastbound 448931  127795  "
      ]
     },
     "metadata": {},
     "output_type": "display_data"
    }
   ],
   "source": [
    "x <- fread(\"readings_combo.csv\", stringsAsFactors=F)\n",
    "head(x)"
   ]
  },
  {
   "cell_type": "code",
   "execution_count": 9,
   "metadata": {},
   "outputs": [
    {
     "data": {
      "text/html": [
       "<table>\n",
       "<thead><tr><th></th><th scope=col>used</th><th scope=col>(Mb)</th><th scope=col>gc trigger</th><th scope=col>(Mb)</th><th scope=col>max used</th><th scope=col>(Mb)</th></tr></thead>\n",
       "<tbody>\n",
       "\t<tr><th scope=row>Ncells</th><td>    583238</td><td>   31.2   </td><td>   1202557</td><td>   64.3   </td><td>   1202557</td><td>   64.3   </td></tr>\n",
       "\t<tr><th scope=row>Vcells</th><td>2347077947</td><td>17906.8   </td><td>5264589221</td><td>40165.7   </td><td>4831427816</td><td>36860.9   </td></tr>\n",
       "</tbody>\n",
       "</table>\n"
      ],
      "text/latex": [
       "\\begin{tabular}{r|llllll}\n",
       "  & used & (Mb) & gc trigger & (Mb) & max used & (Mb)\\\\\n",
       "\\hline\n",
       "\tNcells &     583238 &    31.2    &    1202557 &    64.3    &    1202557 &    64.3   \\\\\n",
       "\tVcells & 2347077947 & 17906.8    & 5264589221 & 40165.7    & 4831427816 & 36860.9   \\\\\n",
       "\\end{tabular}\n"
      ],
      "text/markdown": [
       "\n",
       "| <!--/--> | used | (Mb) | gc trigger | (Mb) | max used | (Mb) | \n",
       "|---|---|\n",
       "| Ncells |     583238 |    31.2    |    1202557 |    64.3    |    1202557 |    64.3    | \n",
       "| Vcells | 2347077947 | 17906.8    | 5264589221 | 40165.7    | 4831427816 | 36860.9    | \n",
       "\n",
       "\n"
      ],
      "text/plain": [
       "       used       (Mb)    gc trigger (Mb)    max used   (Mb)   \n",
       "Ncells     583238    31.2    1202557    64.3    1202557    64.3\n",
       "Vcells 2347077947 17906.8 5264589221 40165.7 4831427816 36860.9"
      ]
     },
     "metadata": {},
     "output_type": "display_data"
    }
   ],
   "source": [
    "keep.cols <- ! colnames(x) %in% c(\"type\", \"status\")\n",
    "midas <- x[x$type == \"midas\", ..keep.cols]\n",
    "tame <- x[x$type == \"tame\", ..keep.cols]\n",
    "tmu <- x[x$type == \"tmu\", ..keep.cols]\n",
    "rm(x)\n",
    "gc()"
   ]
  },
  {
   "cell_type": "code",
   "execution_count": 10,
   "metadata": {},
   "outputs": [
    {
     "data": {
      "text/html": [
       "82439136"
      ],
      "text/latex": [
       "82439136"
      ],
      "text/markdown": [
       "82439136"
      ],
      "text/plain": [
       "[1] 82439136"
      ]
     },
     "metadata": {},
     "output_type": "display_data"
    },
    {
     "data": {
      "text/html": [
       "9673344"
      ],
      "text/latex": [
       "9673344"
      ],
      "text/markdown": [
       "9673344"
      ],
      "text/plain": [
       "[1] 9673344"
      ]
     },
     "metadata": {},
     "output_type": "display_data"
    },
    {
     "data": {
      "text/html": [
       "25579776"
      ],
      "text/latex": [
       "25579776"
      ],
      "text/markdown": [
       "25579776"
      ],
      "text/plain": [
       "[1] 25579776"
      ]
     },
     "metadata": {},
     "output_type": "display_data"
    }
   ],
   "source": [
    "nrow(midas)\n",
    "nrow(tame)\n",
    "nrow(tmu)"
   ]
  },
  {
   "cell_type": "code",
   "execution_count": 13,
   "metadata": {},
   "outputs": [],
   "source": [
    "fwrite(midas, \"midas.csv\", row.names=F, quote=F)\n",
    "fwrite(tame, \"tame.csv\", row.names=F, quote=F)\n",
    "fwrite(tmu, \"tmu.csv\", row.names=F, quote=F)"
   ]
  },
  {
   "cell_type": "code",
   "execution_count": null,
   "metadata": {},
   "outputs": [],
   "source": []
  }
 ],
 "metadata": {
  "kernelspec": {
   "display_name": "R",
   "language": "R",
   "name": "ir"
  },
  "language_info": {
   "codemirror_mode": "r",
   "file_extension": ".r",
   "mimetype": "text/x-r-source",
   "name": "R",
   "pygments_lexer": "r",
   "version": "3.5.3"
  }
 },
 "nbformat": 4,
 "nbformat_minor": 2
}
