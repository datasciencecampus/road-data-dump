{
 "cells": [
  {
   "cell_type": "markdown",
   "metadata": {},
   "source": [
    "# split into midas,tame,tmu"
   ]
  },
  {
   "cell_type": "code",
   "execution_count": 6,
   "metadata": {},
   "outputs": [],
   "source": [
    "library(data.table)"
   ]
  },
  {
   "cell_type": "code",
   "execution_count": 7,
   "metadata": {},
   "outputs": [
    {
     "data": {
      "text/html": [
       "<table>\n",
       "<caption>A data.table: 6 × 32</caption>\n",
       "<thead>\n",
       "\t<tr><th scope=col>site_id</th><th scope=col>site_name</th><th scope=col>report_date</th><th scope=col>time_period_end</th><th scope=col>interval</th><th scope=col>len_0_520_cm</th><th scope=col>len_521_660_cm</th><th scope=col>len_661_1160_cm</th><th scope=col>len_1160_plus_cm</th><th scope=col>speed_0_10_mph</th><th scope=col>⋯</th><th scope=col>speed_80_plus_mph</th><th scope=col>speed_avg_mph</th><th scope=col>total_vol</th><th scope=col>longitude</th><th scope=col>latitude</th><th scope=col>status</th><th scope=col>type</th><th scope=col>direction</th><th scope=col>easting</th><th scope=col>northing</th></tr>\n",
       "\t<tr><th scope=col>&lt;int&gt;</th><th scope=col>&lt;chr&gt;</th><th scope=col>&lt;chr&gt;</th><th scope=col>&lt;chr&gt;</th><th scope=col>&lt;int&gt;</th><th scope=col>&lt;int&gt;</th><th scope=col>&lt;int&gt;</th><th scope=col>&lt;int&gt;</th><th scope=col>&lt;int&gt;</th><th scope=col>&lt;int&gt;</th><th scope=col>⋯</th><th scope=col>&lt;int&gt;</th><th scope=col>&lt;int&gt;</th><th scope=col>&lt;int&gt;</th><th scope=col>&lt;dbl&gt;</th><th scope=col>&lt;dbl&gt;</th><th scope=col>&lt;chr&gt;</th><th scope=col>&lt;chr&gt;</th><th scope=col>&lt;chr&gt;</th><th scope=col>&lt;int&gt;</th><th scope=col>&lt;int&gt;</th></tr>\n",
       "</thead>\n",
       "<tbody>\n",
       "\t<tr><td>10000</td><td>M3/2055L</td><td>2019-04-01T00:00:00</td><td>00:14:00</td><td>0</td><td>8</td><td>0</td><td>0</td><td>0</td><td>NA</td><td>⋯</td><td>NA</td><td>57</td><td>8</td><td>-1.303344</td><td>51.04742</td><td>Active</td><td>midas</td><td>eastbound</td><td>448931</td><td>127795</td></tr>\n",
       "\t<tr><td>10000</td><td>M3/2055L</td><td>2019-04-01T00:00:00</td><td>00:29:00</td><td>1</td><td>5</td><td>1</td><td>0</td><td>0</td><td>NA</td><td>⋯</td><td>NA</td><td>55</td><td>6</td><td>-1.303344</td><td>51.04742</td><td>Active</td><td>midas</td><td>eastbound</td><td>448931</td><td>127795</td></tr>\n",
       "\t<tr><td>10000</td><td>M3/2055L</td><td>2019-04-01T00:00:00</td><td>00:44:00</td><td>2</td><td>3</td><td>0</td><td>0</td><td>0</td><td>NA</td><td>⋯</td><td>NA</td><td>62</td><td>3</td><td>-1.303344</td><td>51.04742</td><td>Active</td><td>midas</td><td>eastbound</td><td>448931</td><td>127795</td></tr>\n",
       "\t<tr><td>10000</td><td>M3/2055L</td><td>2019-04-01T00:00:00</td><td>00:59:00</td><td>3</td><td>1</td><td>0</td><td>0</td><td>0</td><td>NA</td><td>⋯</td><td>NA</td><td>57</td><td>1</td><td>-1.303344</td><td>51.04742</td><td>Active</td><td>midas</td><td>eastbound</td><td>448931</td><td>127795</td></tr>\n",
       "\t<tr><td>10000</td><td>M3/2055L</td><td>2019-04-01T00:00:00</td><td>01:14:00</td><td>4</td><td>0</td><td>0</td><td>0</td><td>0</td><td>NA</td><td>⋯</td><td>NA</td><td> 0</td><td>0</td><td>-1.303344</td><td>51.04742</td><td>Active</td><td>midas</td><td>eastbound</td><td>448931</td><td>127795</td></tr>\n",
       "\t<tr><td>10000</td><td>M3/2055L</td><td>2019-04-01T00:00:00</td><td>01:29:00</td><td>5</td><td>1</td><td>0</td><td>0</td><td>0</td><td>NA</td><td>⋯</td><td>NA</td><td>57</td><td>1</td><td>-1.303344</td><td>51.04742</td><td>Active</td><td>midas</td><td>eastbound</td><td>448931</td><td>127795</td></tr>\n",
       "</tbody>\n",
       "</table>\n"
      ],
      "text/latex": [
       "A data.table: 6 × 32\n",
       "\\begin{tabular}{r|llllllllllllllllllllllllllllllll}\n",
       " site\\_id & site\\_name & report\\_date & time\\_period\\_end & interval & len\\_0\\_520\\_cm & len\\_521\\_660\\_cm & len\\_661\\_1160\\_cm & len\\_1160\\_plus\\_cm & speed\\_0\\_10\\_mph & speed\\_11\\_15\\_mph & speed\\_16\\_20\\_mph & speed\\_21\\_25\\_mph & speed\\_26\\_30\\_mph & sped\\_31\\_35\\_mph & speed\\_36\\_40\\_mph & speed\\_41\\_45\\_mph & speed\\_46\\_50\\_mph & speed\\_51\\_55\\_mph & speed\\_56\\_60\\_mph & speed\\_61\\_70\\_mph & speed\\_71\\_80\\_mph & speed\\_80\\_plus\\_mph & speed\\_avg\\_mph & total\\_vol & longitude & latitude & status & type & direction & easting & northing\\\\\n",
       " <int> & <chr> & <chr> & <chr> & <int> & <int> & <int> & <int> & <int> & <int> & <int> & <int> & <int> & <int> & <int> & <int> & <int> & <int> & <int> & <int> & <int> & <int> & <int> & <int> & <int> & <dbl> & <dbl> & <chr> & <chr> & <chr> & <int> & <int>\\\\\n",
       "\\hline\n",
       "\t 10000 & M3/2055L & 2019-04-01T00:00:00 & 00:14:00 & 0 & 8 & 0 & 0 & 0 & NA & NA & NA & NA & NA & NA & NA & NA & NA & NA & NA & NA & NA & NA & 57 & 8 & -1.303344 & 51.04742 & Active & midas & eastbound & 448931 & 127795\\\\\n",
       "\t 10000 & M3/2055L & 2019-04-01T00:00:00 & 00:29:00 & 1 & 5 & 1 & 0 & 0 & NA & NA & NA & NA & NA & NA & NA & NA & NA & NA & NA & NA & NA & NA & 55 & 6 & -1.303344 & 51.04742 & Active & midas & eastbound & 448931 & 127795\\\\\n",
       "\t 10000 & M3/2055L & 2019-04-01T00:00:00 & 00:44:00 & 2 & 3 & 0 & 0 & 0 & NA & NA & NA & NA & NA & NA & NA & NA & NA & NA & NA & NA & NA & NA & 62 & 3 & -1.303344 & 51.04742 & Active & midas & eastbound & 448931 & 127795\\\\\n",
       "\t 10000 & M3/2055L & 2019-04-01T00:00:00 & 00:59:00 & 3 & 1 & 0 & 0 & 0 & NA & NA & NA & NA & NA & NA & NA & NA & NA & NA & NA & NA & NA & NA & 57 & 1 & -1.303344 & 51.04742 & Active & midas & eastbound & 448931 & 127795\\\\\n",
       "\t 10000 & M3/2055L & 2019-04-01T00:00:00 & 01:14:00 & 4 & 0 & 0 & 0 & 0 & NA & NA & NA & NA & NA & NA & NA & NA & NA & NA & NA & NA & NA & NA &  0 & 0 & -1.303344 & 51.04742 & Active & midas & eastbound & 448931 & 127795\\\\\n",
       "\t 10000 & M3/2055L & 2019-04-01T00:00:00 & 01:29:00 & 5 & 1 & 0 & 0 & 0 & NA & NA & NA & NA & NA & NA & NA & NA & NA & NA & NA & NA & NA & NA & 57 & 1 & -1.303344 & 51.04742 & Active & midas & eastbound & 448931 & 127795\\\\\n",
       "\\end{tabular}\n"
      ],
      "text/markdown": [
       "\n",
       "A data.table: 6 × 32\n",
       "\n",
       "| site_id &lt;int&gt; | site_name &lt;chr&gt; | report_date &lt;chr&gt; | time_period_end &lt;chr&gt; | interval &lt;int&gt; | len_0_520_cm &lt;int&gt; | len_521_660_cm &lt;int&gt; | len_661_1160_cm &lt;int&gt; | len_1160_plus_cm &lt;int&gt; | speed_0_10_mph &lt;int&gt; | ⋯ ⋯ | speed_80_plus_mph &lt;int&gt; | speed_avg_mph &lt;int&gt; | total_vol &lt;int&gt; | longitude &lt;dbl&gt; | latitude &lt;dbl&gt; | status &lt;chr&gt; | type &lt;chr&gt; | direction &lt;chr&gt; | easting &lt;int&gt; | northing &lt;int&gt; |\n",
       "|---|---|---|---|---|---|---|---|---|---|---|---|---|---|---|---|---|---|---|---|---|\n",
       "| 10000 | M3/2055L | 2019-04-01T00:00:00 | 00:14:00 | 0 | 8 | 0 | 0 | 0 | NA | ⋯ | NA | 57 | 8 | -1.303344 | 51.04742 | Active | midas | eastbound | 448931 | 127795 |\n",
       "| 10000 | M3/2055L | 2019-04-01T00:00:00 | 00:29:00 | 1 | 5 | 1 | 0 | 0 | NA | ⋯ | NA | 55 | 6 | -1.303344 | 51.04742 | Active | midas | eastbound | 448931 | 127795 |\n",
       "| 10000 | M3/2055L | 2019-04-01T00:00:00 | 00:44:00 | 2 | 3 | 0 | 0 | 0 | NA | ⋯ | NA | 62 | 3 | -1.303344 | 51.04742 | Active | midas | eastbound | 448931 | 127795 |\n",
       "| 10000 | M3/2055L | 2019-04-01T00:00:00 | 00:59:00 | 3 | 1 | 0 | 0 | 0 | NA | ⋯ | NA | 57 | 1 | -1.303344 | 51.04742 | Active | midas | eastbound | 448931 | 127795 |\n",
       "| 10000 | M3/2055L | 2019-04-01T00:00:00 | 01:14:00 | 4 | 0 | 0 | 0 | 0 | NA | ⋯ | NA |  0 | 0 | -1.303344 | 51.04742 | Active | midas | eastbound | 448931 | 127795 |\n",
       "| 10000 | M3/2055L | 2019-04-01T00:00:00 | 01:29:00 | 5 | 1 | 0 | 0 | 0 | NA | ⋯ | NA | 57 | 1 | -1.303344 | 51.04742 | Active | midas | eastbound | 448931 | 127795 |\n",
       "\n"
      ],
      "text/plain": [
       "  site_id site_name report_date         time_period_end interval len_0_520_cm\n",
       "1 10000   M3/2055L  2019-04-01T00:00:00 00:14:00        0        8           \n",
       "2 10000   M3/2055L  2019-04-01T00:00:00 00:29:00        1        5           \n",
       "3 10000   M3/2055L  2019-04-01T00:00:00 00:44:00        2        3           \n",
       "4 10000   M3/2055L  2019-04-01T00:00:00 00:59:00        3        1           \n",
       "5 10000   M3/2055L  2019-04-01T00:00:00 01:14:00        4        0           \n",
       "6 10000   M3/2055L  2019-04-01T00:00:00 01:29:00        5        1           \n",
       "  len_521_660_cm len_661_1160_cm len_1160_plus_cm speed_0_10_mph ⋯\n",
       "1 0              0               0                NA             ⋯\n",
       "2 1              0               0                NA             ⋯\n",
       "3 0              0               0                NA             ⋯\n",
       "4 0              0               0                NA             ⋯\n",
       "5 0              0               0                NA             ⋯\n",
       "6 0              0               0                NA             ⋯\n",
       "  speed_80_plus_mph speed_avg_mph total_vol longitude latitude status type \n",
       "1 NA                57            8         -1.303344 51.04742 Active midas\n",
       "2 NA                55            6         -1.303344 51.04742 Active midas\n",
       "3 NA                62            3         -1.303344 51.04742 Active midas\n",
       "4 NA                57            1         -1.303344 51.04742 Active midas\n",
       "5 NA                 0            0         -1.303344 51.04742 Active midas\n",
       "6 NA                57            1         -1.303344 51.04742 Active midas\n",
       "  direction easting northing\n",
       "1 eastbound 448931  127795  \n",
       "2 eastbound 448931  127795  \n",
       "3 eastbound 448931  127795  \n",
       "4 eastbound 448931  127795  \n",
       "5 eastbound 448931  127795  \n",
       "6 eastbound 448931  127795  "
      ]
     },
     "metadata": {},
     "output_type": "display_data"
    }
   ],
   "source": [
    "x <- fread(\"../readings_combo.csv\", stringsAsFactors=F)\n",
    "head(x)"
   ]
  },
  {
   "cell_type": "code",
   "execution_count": 8,
   "metadata": {},
   "outputs": [
    {
     "data": {
      "text/html": [
       "<table>\n",
       "<caption>A matrix: 2 × 6 of type dbl</caption>\n",
       "<thead>\n",
       "\t<tr><th></th><th scope=col>used</th><th scope=col>(Mb)</th><th scope=col>gc trigger</th><th scope=col>(Mb)</th><th scope=col>max used</th><th scope=col>(Mb)</th></tr>\n",
       "</thead>\n",
       "<tbody>\n",
       "\t<tr><th scope=row>Ncells</th><td>   621454</td><td>  33.2</td><td>   1156197</td><td>   61.8</td><td>   1156197</td><td>   61.8</td></tr>\n",
       "\t<tr><th scope=row>Vcells</th><td>629237086</td><td>4800.7</td><td>1891107662</td><td>14428.1</td><td>1794875278</td><td>13693.9</td></tr>\n",
       "</tbody>\n",
       "</table>\n"
      ],
      "text/latex": [
       "A matrix: 2 × 6 of type dbl\n",
       "\\begin{tabular}{r|llllll}\n",
       "  & used & (Mb) & gc trigger & (Mb) & max used & (Mb)\\\\\n",
       "\\hline\n",
       "\tNcells &    621454 &   33.2 &    1156197 &    61.8 &    1156197 &    61.8\\\\\n",
       "\tVcells & 629237086 & 4800.7 & 1891107662 & 14428.1 & 1794875278 & 13693.9\\\\\n",
       "\\end{tabular}\n"
      ],
      "text/markdown": [
       "\n",
       "A matrix: 2 × 6 of type dbl\n",
       "\n",
       "| <!--/--> | used | (Mb) | gc trigger | (Mb) | max used | (Mb) |\n",
       "|---|---|---|---|---|---|---|\n",
       "| Ncells |    621454 |   33.2 |    1156197 |    61.8 |    1156197 |    61.8 |\n",
       "| Vcells | 629237086 | 4800.7 | 1891107662 | 14428.1 | 1794875278 | 13693.9 |\n",
       "\n"
      ],
      "text/plain": [
       "       used      (Mb)   gc trigger (Mb)    max used   (Mb)   \n",
       "Ncells    621454   33.2    1156197    61.8    1156197    61.8\n",
       "Vcells 629237086 4800.7 1891107662 14428.1 1794875278 13693.9"
      ]
     },
     "metadata": {},
     "output_type": "display_data"
    }
   ],
   "source": [
    "keep.cols <- ! colnames(x) %in% c(\"type\", \"status\")\n",
    "midas <- x[x$type == \"midas\", ..keep.cols]\n",
    "tame <- x[x$type == \"tame\", ..keep.cols]\n",
    "tmu <- x[x$type == \"tmu\", ..keep.cols]\n",
    "rm(x)\n",
    "gc()"
   ]
  },
  {
   "cell_type": "code",
   "execution_count": 9,
   "metadata": {},
   "outputs": [
    {
     "data": {
      "text/html": [
       "19964064"
      ],
      "text/latex": [
       "19964064"
      ],
      "text/markdown": [
       "19964064"
      ],
      "text/plain": [
       "[1] 19964064"
      ]
     },
     "metadata": {},
     "output_type": "display_data"
    },
    {
     "data": {
      "text/html": [
       "2416320"
      ],
      "text/latex": [
       "2416320"
      ],
      "text/markdown": [
       "2416320"
      ],
      "text/plain": [
       "[1] 2416320"
      ]
     },
     "metadata": {},
     "output_type": "display_data"
    },
    {
     "data": {
      "text/html": [
       "6399360"
      ],
      "text/latex": [
       "6399360"
      ],
      "text/markdown": [
       "6399360"
      ],
      "text/plain": [
       "[1] 6399360"
      ]
     },
     "metadata": {},
     "output_type": "display_data"
    }
   ],
   "source": [
    "nrow(midas)\n",
    "nrow(tame)\n",
    "nrow(tmu)"
   ]
  },
  {
   "cell_type": "code",
   "execution_count": 10,
   "metadata": {},
   "outputs": [],
   "source": [
    "fwrite(midas, \"../output/midas.csv\", row.names=F, quote=F)\n",
    "fwrite(tame, \"../output/tame.csv\", row.names=F, quote=F)\n",
    "fwrite(tmu, \"../output/tmu.csv\", row.names=F, quote=F)"
   ]
  }
 ],
 "metadata": {
  "kernelspec": {
   "display_name": "R",
   "language": "R",
   "name": "ir"
  },
  "language_info": {
   "codemirror_mode": "r",
   "file_extension": ".r",
   "mimetype": "text/x-r-source",
   "name": "R",
   "pygments_lexer": "r",
   "version": "3.6.0"
  }
 },
 "nbformat": 4,
 "nbformat_minor": 2
}
