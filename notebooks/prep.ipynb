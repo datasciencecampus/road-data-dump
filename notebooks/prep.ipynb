{
 "cells": [
  {
   "cell_type": "markdown",
   "metadata": {},
   "source": [
    "```bash\n",
    "cd webtri.sh\n",
    "./webtri.sh -f get_site_types\n",
    "id,description\n",
    "1,MIDAS\n",
    "2,TAME\n",
    "3,TMU\n",
    "4,Legacy\n",
    "5,NONE\n",
    "```"
   ]
  },
  {
   "cell_type": "markdown",
   "metadata": {},
   "source": [
    "```bash\n",
    "./webtri.sh -f get_site_by_type -a 1 > ../site_midas.csv\n",
    "./webtri.sh -f get_site_by_type -a 2 > ../site_tame.csv\n",
    "./webtri.sh -f get_site_by_type -a 3 > ../site_tmu.csv\n",
    "```"
   ]
  },
  {
   "cell_type": "code",
   "execution_count": 1,
   "metadata": {},
   "outputs": [],
   "source": [
    "library(data.table)"
   ]
  },
  {
   "cell_type": "markdown",
   "metadata": {},
   "source": [
    "# read stuff in\n",
    "\n",
    "`data/combo.csv` is the result of combining individual CSVs:\n",
    "\n",
    "```bash\n",
    "cd data/\n",
    "echo \"site_id,\"$(head -1 1.csv) > x\n",
    "for i in $(ls *.csv) ;do tail -n+2 $i |sed \"s/^/$i,/; s/.csv//\" >> x ;done\n",
    "mv -v x combo.csv\n",
    "```"
   ]
  },
  {
   "cell_type": "code",
   "execution_count": 2,
   "metadata": {},
   "outputs": [
    {
     "data": {
      "text/html": [
       "<table>\n",
       "<thead><tr><th></th><th scope=col>id</th><th scope=col>name</th><th scope=col>description</th><th scope=col>longitude</th><th scope=col>latitude</th><th scope=col>status</th><th scope=col>type</th></tr></thead>\n",
       "<tbody>\n",
       "\t<tr><th scope=row>11776</th><td>17672                                                                                   </td><td>MIDAS site at M180/1119A priority 1 on link 116003101; GPS Ref: 478540;408686; Eastbound</td><td>M180/1119A                                                                              </td><td>-0.8155268                                                                              </td><td>53.56893                                                                                </td><td>Active                                                                                  </td><td>midas                                                                                   </td></tr>\n",
       "\t<tr><th scope=row>11777</th><td>17675                                                                                   </td><td>MIDAS site at M54/3154M priority 1 on link 111030902; GPS Ref: 391910;304529; Eastbound </td><td>M54/3154M                                                                               </td><td>-2.1209772                                                                              </td><td>52.63846                                                                                </td><td>Active                                                                                  </td><td>midas                                                                                   </td></tr>\n",
       "\t<tr><th scope=row>11778</th><td>17676                                                                                   </td><td>MIDAS site at M54/3155B priority 1 on link 200119801; GPS Ref: 391811;304504; Eastbound </td><td>M54/3155B                                                                               </td><td>-2.1224395                                                                              </td><td>52.63823                                                                                </td><td>Active                                                                                  </td><td>midas                                                                                   </td></tr>\n",
       "\t<tr><th scope=row>11779</th><td>17677                                                                                   </td><td>MIDAS site at M54/3160B priority 1 on link 200119801; GPS Ref: 391314;304488; Eastbound </td><td>M54/3160B                                                                               </td><td>-2.1297835                                                                              </td><td>52.63808                                                                                </td><td>Active                                                                                  </td><td>midas                                                                                   </td></tr>\n",
       "\t<tr><th scope=row>11780</th><td>17678                                                                                   </td><td>MIDAS site at M60/9314J priority 1 on link 115017301; GPS Ref: 382539;405788; Clockwise </td><td>M60/9314J                                                                               </td><td>-2.2649961                                                                              </td><td>53.54845                                                                                </td><td>Active                                                                                  </td><td>midas                                                                                   </td></tr>\n",
       "\t<tr><th scope=row>11781</th><td>17680                                                                                   </td><td>MIDAS site at M1/3924B priority 1 on link 107026401; GPS Ref: 447190;334381; Southbound </td><td>M1/3924B                                                                                </td><td>-1.2998282                                                                              </td><td>52.90482                                                                                </td><td>Active                                                                                  </td><td>midas                                                                                   </td></tr>\n",
       "</tbody>\n",
       "</table>\n"
      ],
      "text/latex": [
       "\\begin{tabular}{r|lllllll}\n",
       "  & id & name & description & longitude & latitude & status & type\\\\\n",
       "\\hline\n",
       "\t11776 & 17672                                                                                    & MIDAS site at M180/1119A priority 1 on link 116003101; GPS Ref: 478540;408686; Eastbound & M180/1119A                                                                               & -0.8155268                                                                               & 53.56893                                                                                 & Active                                                                                   & midas                                                                                   \\\\\n",
       "\t11777 & 17675                                                                                    & MIDAS site at M54/3154M priority 1 on link 111030902; GPS Ref: 391910;304529; Eastbound  & M54/3154M                                                                                & -2.1209772                                                                               & 52.63846                                                                                 & Active                                                                                   & midas                                                                                   \\\\\n",
       "\t11778 & 17676                                                                                    & MIDAS site at M54/3155B priority 1 on link 200119801; GPS Ref: 391811;304504; Eastbound  & M54/3155B                                                                                & -2.1224395                                                                               & 52.63823                                                                                 & Active                                                                                   & midas                                                                                   \\\\\n",
       "\t11779 & 17677                                                                                    & MIDAS site at M54/3160B priority 1 on link 200119801; GPS Ref: 391314;304488; Eastbound  & M54/3160B                                                                                & -2.1297835                                                                               & 52.63808                                                                                 & Active                                                                                   & midas                                                                                   \\\\\n",
       "\t11780 & 17678                                                                                    & MIDAS site at M60/9314J priority 1 on link 115017301; GPS Ref: 382539;405788; Clockwise  & M60/9314J                                                                                & -2.2649961                                                                               & 53.54845                                                                                 & Active                                                                                   & midas                                                                                   \\\\\n",
       "\t11781 & 17680                                                                                    & MIDAS site at M1/3924B priority 1 on link 107026401; GPS Ref: 447190;334381; Southbound  & M1/3924B                                                                                 & -1.2998282                                                                               & 52.90482                                                                                 & Active                                                                                   & midas                                                                                   \\\\\n",
       "\\end{tabular}\n"
      ],
      "text/markdown": [
       "\n",
       "| <!--/--> | id | name | description | longitude | latitude | status | type | \n",
       "|---|---|---|---|---|---|\n",
       "| 11776 | 17672                                                                                    | MIDAS site at M180/1119A priority 1 on link 116003101; GPS Ref: 478540;408686; Eastbound | M180/1119A                                                                               | -0.8155268                                                                               | 53.56893                                                                                 | Active                                                                                   | midas                                                                                    | \n",
       "| 11777 | 17675                                                                                    | MIDAS site at M54/3154M priority 1 on link 111030902; GPS Ref: 391910;304529; Eastbound  | M54/3154M                                                                                | -2.1209772                                                                               | 52.63846                                                                                 | Active                                                                                   | midas                                                                                    | \n",
       "| 11778 | 17676                                                                                    | MIDAS site at M54/3155B priority 1 on link 200119801; GPS Ref: 391811;304504; Eastbound  | M54/3155B                                                                                | -2.1224395                                                                               | 52.63823                                                                                 | Active                                                                                   | midas                                                                                    | \n",
       "| 11779 | 17677                                                                                    | MIDAS site at M54/3160B priority 1 on link 200119801; GPS Ref: 391314;304488; Eastbound  | M54/3160B                                                                                | -2.1297835                                                                               | 52.63808                                                                                 | Active                                                                                   | midas                                                                                    | \n",
       "| 11780 | 17678                                                                                    | MIDAS site at M60/9314J priority 1 on link 115017301; GPS Ref: 382539;405788; Clockwise  | M60/9314J                                                                                | -2.2649961                                                                               | 53.54845                                                                                 | Active                                                                                   | midas                                                                                    | \n",
       "| 11781 | 17680                                                                                    | MIDAS site at M1/3924B priority 1 on link 107026401; GPS Ref: 447190;334381; Southbound  | M1/3924B                                                                                 | -1.2998282                                                                               | 52.90482                                                                                 | Active                                                                                   | midas                                                                                    | \n",
       "\n",
       "\n"
      ],
      "text/plain": [
       "      id   \n",
       "11776 17672\n",
       "11777 17675\n",
       "11778 17676\n",
       "11779 17677\n",
       "11780 17678\n",
       "11781 17680\n",
       "      name                                                                                    \n",
       "11776 MIDAS site at M180/1119A priority 1 on link 116003101; GPS Ref: 478540;408686; Eastbound\n",
       "11777 MIDAS site at M54/3154M priority 1 on link 111030902; GPS Ref: 391910;304529; Eastbound \n",
       "11778 MIDAS site at M54/3155B priority 1 on link 200119801; GPS Ref: 391811;304504; Eastbound \n",
       "11779 MIDAS site at M54/3160B priority 1 on link 200119801; GPS Ref: 391314;304488; Eastbound \n",
       "11780 MIDAS site at M60/9314J priority 1 on link 115017301; GPS Ref: 382539;405788; Clockwise \n",
       "11781 MIDAS site at M1/3924B priority 1 on link 107026401; GPS Ref: 447190;334381; Southbound \n",
       "      description longitude  latitude status type \n",
       "11776 M180/1119A  -0.8155268 53.56893 Active midas\n",
       "11777 M54/3154M   -2.1209772 52.63846 Active midas\n",
       "11778 M54/3155B   -2.1224395 52.63823 Active midas\n",
       "11779 M54/3160B   -2.1297835 52.63808 Active midas\n",
       "11780 M60/9314J   -2.2649961 53.54845 Active midas\n",
       "11781 M1/3924B    -1.2998282 52.90482 Active midas"
      ]
     },
     "metadata": {},
     "output_type": "display_data"
    }
   ],
   "source": [
    "site.midas <- read.csv(\"site_midas.csv\", stringsAsFactor=F)\n",
    "site.midas$type <- \"midas\"\n",
    "tail(site.midas)"
   ]
  },
  {
   "cell_type": "code",
   "execution_count": 3,
   "metadata": {},
   "outputs": [
    {
     "data": {
      "text/html": [
       "<table>\n",
       "<thead><tr><th></th><th scope=col>id</th><th scope=col>name</th><th scope=col>description</th><th scope=col>longitude</th><th scope=col>latitude</th><th scope=col>status</th><th scope=col>type</th></tr></thead>\n",
       "<tbody>\n",
       "\t<tr><th scope=row>854</th><td>14004                                                                                                                            </td><td>TAME Site 30362511 on link A38 eastbound within the A374 near Plymouth junction; GPS Ref: 251361;56956; Eastbound                </td><td>30362511                                                                                                                         </td><td>-4.092551                                                                                                                        </td><td>50.39363                                                                                                                         </td><td>Active                                                                                                                           </td><td>tame                                                                                                                             </td></tr>\n",
       "\t<tr><th scope=row>855</th><td>14307                                                                                                                            </td><td>TAME Site 30362502 on link Connector at A31/A338 near Ringwood (west); GPS Ref: 412871;104170; Eastbound                         </td><td>30362502                                                                                                                         </td><td>-1.818580                                                                                                                        </td><td>50.83691                                                                                                                         </td><td>Active                                                                                                                           </td><td>tame                                                                                                                             </td></tr>\n",
       "\t<tr><th scope=row>856</th><td>14308                                                                                                                            </td><td>TAME Site 30362503 on link A31 westbound exit for A338 near Ringwood (west); GPS Ref: 413287;104404; Westbound                   </td><td>30362503                                                                                                                         </td><td>-1.812664                                                                                                                        </td><td>50.83900                                                                                                                         </td><td>Active                                                                                                                           </td><td>tame                                                                                                                             </td></tr>\n",
       "\t<tr><th scope=row>857</th><td>14309                                                                                                                            </td><td>TAME Site 30362504 on link Fast slip link at A31 westbound exit for A338 near Ringwood (west); GPS Ref: 413296;104381; Westbound </td><td>30362504                                                                                                                         </td><td>-1.812537                                                                                                                        </td><td>50.83880                                                                                                                         </td><td>Active                                                                                                                           </td><td>tame                                                                                                                             </td></tr>\n",
       "\t<tr><th scope=row>858</th><td>14376                                                                                                                            </td><td>TAME Site 30362513 on link A21 northbound within the M25/A25 junction after exit for A25 east; GPS Ref: 549833;155937; Northbound</td><td>30362513                                                                                                                         </td><td> 0.147077                                                                                                                        </td><td>51.28287                                                                                                                         </td><td>Active                                                                                                                           </td><td>tame                                                                                                                             </td></tr>\n",
       "\t<tr><th scope=row>859</th><td>17679                                                                                                                            </td><td>TAME Site 30362514 on link A31 eastbound exit for A338 near Ringwood (west); GPS Ref: 412870;104170; Eastbound                   </td><td>30362514                                                                                                                         </td><td>-1.818594                                                                                                                        </td><td>50.83691                                                                                                                         </td><td>Active                                                                                                                           </td><td>tame                                                                                                                             </td></tr>\n",
       "</tbody>\n",
       "</table>\n"
      ],
      "text/latex": [
       "\\begin{tabular}{r|lllllll}\n",
       "  & id & name & description & longitude & latitude & status & type\\\\\n",
       "\\hline\n",
       "\t854 & 14004                                                                                                                             & TAME Site 30362511 on link A38 eastbound within the A374 near Plymouth junction; GPS Ref: 251361;56956; Eastbound                 & 30362511                                                                                                                          & -4.092551                                                                                                                         & 50.39363                                                                                                                          & Active                                                                                                                            & tame                                                                                                                             \\\\\n",
       "\t855 & 14307                                                                                                                             & TAME Site 30362502 on link Connector at A31/A338 near Ringwood (west); GPS Ref: 412871;104170; Eastbound                          & 30362502                                                                                                                          & -1.818580                                                                                                                         & 50.83691                                                                                                                          & Active                                                                                                                            & tame                                                                                                                             \\\\\n",
       "\t856 & 14308                                                                                                                             & TAME Site 30362503 on link A31 westbound exit for A338 near Ringwood (west); GPS Ref: 413287;104404; Westbound                    & 30362503                                                                                                                          & -1.812664                                                                                                                         & 50.83900                                                                                                                          & Active                                                                                                                            & tame                                                                                                                             \\\\\n",
       "\t857 & 14309                                                                                                                             & TAME Site 30362504 on link Fast slip link at A31 westbound exit for A338 near Ringwood (west); GPS Ref: 413296;104381; Westbound  & 30362504                                                                                                                          & -1.812537                                                                                                                         & 50.83880                                                                                                                          & Active                                                                                                                            & tame                                                                                                                             \\\\\n",
       "\t858 & 14376                                                                                                                             & TAME Site 30362513 on link A21 northbound within the M25/A25 junction after exit for A25 east; GPS Ref: 549833;155937; Northbound & 30362513                                                                                                                          &  0.147077                                                                                                                         & 51.28287                                                                                                                          & Active                                                                                                                            & tame                                                                                                                             \\\\\n",
       "\t859 & 17679                                                                                                                             & TAME Site 30362514 on link A31 eastbound exit for A338 near Ringwood (west); GPS Ref: 412870;104170; Eastbound                    & 30362514                                                                                                                          & -1.818594                                                                                                                         & 50.83691                                                                                                                          & Active                                                                                                                            & tame                                                                                                                             \\\\\n",
       "\\end{tabular}\n"
      ],
      "text/markdown": [
       "\n",
       "| <!--/--> | id | name | description | longitude | latitude | status | type | \n",
       "|---|---|---|---|---|---|\n",
       "| 854 | 14004                                                                                                                             | TAME Site 30362511 on link A38 eastbound within the A374 near Plymouth junction; GPS Ref: 251361;56956; Eastbound                 | 30362511                                                                                                                          | -4.092551                                                                                                                         | 50.39363                                                                                                                          | Active                                                                                                                            | tame                                                                                                                              | \n",
       "| 855 | 14307                                                                                                                             | TAME Site 30362502 on link Connector at A31/A338 near Ringwood (west); GPS Ref: 412871;104170; Eastbound                          | 30362502                                                                                                                          | -1.818580                                                                                                                         | 50.83691                                                                                                                          | Active                                                                                                                            | tame                                                                                                                              | \n",
       "| 856 | 14308                                                                                                                             | TAME Site 30362503 on link A31 westbound exit for A338 near Ringwood (west); GPS Ref: 413287;104404; Westbound                    | 30362503                                                                                                                          | -1.812664                                                                                                                         | 50.83900                                                                                                                          | Active                                                                                                                            | tame                                                                                                                              | \n",
       "| 857 | 14309                                                                                                                             | TAME Site 30362504 on link Fast slip link at A31 westbound exit for A338 near Ringwood (west); GPS Ref: 413296;104381; Westbound  | 30362504                                                                                                                          | -1.812537                                                                                                                         | 50.83880                                                                                                                          | Active                                                                                                                            | tame                                                                                                                              | \n",
       "| 858 | 14376                                                                                                                             | TAME Site 30362513 on link A21 northbound within the M25/A25 junction after exit for A25 east; GPS Ref: 549833;155937; Northbound | 30362513                                                                                                                          |  0.147077                                                                                                                         | 51.28287                                                                                                                          | Active                                                                                                                            | tame                                                                                                                              | \n",
       "| 859 | 17679                                                                                                                             | TAME Site 30362514 on link A31 eastbound exit for A338 near Ringwood (west); GPS Ref: 412870;104170; Eastbound                    | 30362514                                                                                                                          | -1.818594                                                                                                                         | 50.83691                                                                                                                          | Active                                                                                                                            | tame                                                                                                                              | \n",
       "\n",
       "\n"
      ],
      "text/plain": [
       "    id   \n",
       "854 14004\n",
       "855 14307\n",
       "856 14308\n",
       "857 14309\n",
       "858 14376\n",
       "859 17679\n",
       "    name                                                                                                                             \n",
       "854 TAME Site 30362511 on link A38 eastbound within the A374 near Plymouth junction; GPS Ref: 251361;56956; Eastbound                \n",
       "855 TAME Site 30362502 on link Connector at A31/A338 near Ringwood (west); GPS Ref: 412871;104170; Eastbound                         \n",
       "856 TAME Site 30362503 on link A31 westbound exit for A338 near Ringwood (west); GPS Ref: 413287;104404; Westbound                   \n",
       "857 TAME Site 30362504 on link Fast slip link at A31 westbound exit for A338 near Ringwood (west); GPS Ref: 413296;104381; Westbound \n",
       "858 TAME Site 30362513 on link A21 northbound within the M25/A25 junction after exit for A25 east; GPS Ref: 549833;155937; Northbound\n",
       "859 TAME Site 30362514 on link A31 eastbound exit for A338 near Ringwood (west); GPS Ref: 412870;104170; Eastbound                   \n",
       "    description longitude latitude status type\n",
       "854 30362511    -4.092551 50.39363 Active tame\n",
       "855 30362502    -1.818580 50.83691 Active tame\n",
       "856 30362503    -1.812664 50.83900 Active tame\n",
       "857 30362504    -1.812537 50.83880 Active tame\n",
       "858 30362513     0.147077 51.28287 Active tame\n",
       "859 30362514    -1.818594 50.83691 Active tame"
      ]
     },
     "metadata": {},
     "output_type": "display_data"
    }
   ],
   "source": [
    "site.tame <- read.csv(\"site_tame.csv\", stringsAsFactor=F)\n",
    "site.tame$type <- \"tame\"\n",
    "tail(site.tame)"
   ]
  },
  {
   "cell_type": "code",
   "execution_count": 4,
   "metadata": {},
   "outputs": [
    {
     "data": {
      "text/html": [
       "<table>\n",
       "<thead><tr><th></th><th scope=col>id</th><th scope=col>name</th><th scope=col>description</th><th scope=col>longitude</th><th scope=col>latitude</th><th scope=col>status</th><th scope=col>type</th></tr></thead>\n",
       "<tbody>\n",
       "\t<tr><th scope=row>2790</th><td>16935                                                                                                                        </td><td>TMU 7068/2 on A1(M) southbound within J42 on road A1(M) Southbound at location 53.765282677041000,-1.283889018408000         </td><td>NO TMU ID                                                                                                                    </td><td>-1.2838890                                                                                                                   </td><td>53.76528                                                                                                                     </td><td>Inactive                                                                                                                     </td><td>tmu                                                                                                                          </td></tr>\n",
       "\t<tr><th scope=row>2791</th><td>16936                                                                                                                        </td><td>TMU 7069/1 on A1(M) northbound between J42 and J43 on road A1(M) Northbound at location 53.792111151099000,-1.322338625921000</td><td>NO TMU ID                                                                                                                    </td><td>-1.3223386                                                                                                                   </td><td>53.79211                                                                                                                     </td><td>Inactive                                                                                                                     </td><td>tmu                                                                                                                          </td></tr>\n",
       "\t<tr><th scope=row>2792</th><td>17668                                                                                                                        </td><td>TMU Site 9967/1 on link A5 northbound between B4100 and A4146 near Bletchley (south); GPS Ref: 490291;232886; Northbound     </td><td>9967/1                                                                                                                       </td><td>-0.6865507                                                                                                                   </td><td>51.98711                                                                                                                     </td><td>Inactive                                                                                                                     </td><td>tmu                                                                                                                          </td></tr>\n",
       "\t<tr><th scope=row>2793</th><td>17669                                                                                                                        </td><td>TMU Site 9967/2 on link A5 southbound between A4146 near Bletchley (south) and B4100; GPS Ref: 490300;232907; Southbound     </td><td>9967/2                                                                                                                       </td><td>-0.6864142                                                                                                                   </td><td>51.98730                                                                                                                     </td><td>Inactive                                                                                                                     </td><td>tmu                                                                                                                          </td></tr>\n",
       "\t<tr><th scope=row>2794</th><td>17673                                                                                                                        </td><td>TMU Site 9968/1 on link A421 northbound between A600 and A603; GPS Ref: 507840;248078; Northbound                            </td><td>9968/1                                                                                                                       </td><td>-0.4263033                                                                                                                   </td><td>52.12052                                                                                                                     </td><td>Active                                                                                                                       </td><td>tmu                                                                                                                          </td></tr>\n",
       "\t<tr><th scope=row>2795</th><td>17674                                                                                                                        </td><td>TMU Site 9968/2 on link A421 southbound between A603 and A600; GPS Ref: 507852;248068; Southbound                            </td><td>9968/2                                                                                                                       </td><td>-0.4261312                                                                                                                   </td><td>52.12043                                                                                                                     </td><td>Active                                                                                                                       </td><td>tmu                                                                                                                          </td></tr>\n",
       "</tbody>\n",
       "</table>\n"
      ],
      "text/latex": [
       "\\begin{tabular}{r|lllllll}\n",
       "  & id & name & description & longitude & latitude & status & type\\\\\n",
       "\\hline\n",
       "\t2790 & 16935                                                                                                                         & TMU 7068/2 on A1(M) southbound within J42 on road A1(M) Southbound at location 53.765282677041000,-1.283889018408000          & NO TMU ID                                                                                                                     & -1.2838890                                                                                                                    & 53.76528                                                                                                                      & Inactive                                                                                                                      & tmu                                                                                                                          \\\\\n",
       "\t2791 & 16936                                                                                                                         & TMU 7069/1 on A1(M) northbound between J42 and J43 on road A1(M) Northbound at location 53.792111151099000,-1.322338625921000 & NO TMU ID                                                                                                                     & -1.3223386                                                                                                                    & 53.79211                                                                                                                      & Inactive                                                                                                                      & tmu                                                                                                                          \\\\\n",
       "\t2792 & 17668                                                                                                                         & TMU Site 9967/1 on link A5 northbound between B4100 and A4146 near Bletchley (south); GPS Ref: 490291;232886; Northbound      & 9967/1                                                                                                                        & -0.6865507                                                                                                                    & 51.98711                                                                                                                      & Inactive                                                                                                                      & tmu                                                                                                                          \\\\\n",
       "\t2793 & 17669                                                                                                                         & TMU Site 9967/2 on link A5 southbound between A4146 near Bletchley (south) and B4100; GPS Ref: 490300;232907; Southbound      & 9967/2                                                                                                                        & -0.6864142                                                                                                                    & 51.98730                                                                                                                      & Inactive                                                                                                                      & tmu                                                                                                                          \\\\\n",
       "\t2794 & 17673                                                                                                                         & TMU Site 9968/1 on link A421 northbound between A600 and A603; GPS Ref: 507840;248078; Northbound                             & 9968/1                                                                                                                        & -0.4263033                                                                                                                    & 52.12052                                                                                                                      & Active                                                                                                                        & tmu                                                                                                                          \\\\\n",
       "\t2795 & 17674                                                                                                                         & TMU Site 9968/2 on link A421 southbound between A603 and A600; GPS Ref: 507852;248068; Southbound                             & 9968/2                                                                                                                        & -0.4261312                                                                                                                    & 52.12043                                                                                                                      & Active                                                                                                                        & tmu                                                                                                                          \\\\\n",
       "\\end{tabular}\n"
      ],
      "text/markdown": [
       "\n",
       "| <!--/--> | id | name | description | longitude | latitude | status | type | \n",
       "|---|---|---|---|---|---|\n",
       "| 2790 | 16935                                                                                                                         | TMU 7068/2 on A1(M) southbound within J42 on road A1(M) Southbound at location 53.765282677041000,-1.283889018408000          | NO TMU ID                                                                                                                     | -1.2838890                                                                                                                    | 53.76528                                                                                                                      | Inactive                                                                                                                      | tmu                                                                                                                           | \n",
       "| 2791 | 16936                                                                                                                         | TMU 7069/1 on A1(M) northbound between J42 and J43 on road A1(M) Northbound at location 53.792111151099000,-1.322338625921000 | NO TMU ID                                                                                                                     | -1.3223386                                                                                                                    | 53.79211                                                                                                                      | Inactive                                                                                                                      | tmu                                                                                                                           | \n",
       "| 2792 | 17668                                                                                                                         | TMU Site 9967/1 on link A5 northbound between B4100 and A4146 near Bletchley (south); GPS Ref: 490291;232886; Northbound      | 9967/1                                                                                                                        | -0.6865507                                                                                                                    | 51.98711                                                                                                                      | Inactive                                                                                                                      | tmu                                                                                                                           | \n",
       "| 2793 | 17669                                                                                                                         | TMU Site 9967/2 on link A5 southbound between A4146 near Bletchley (south) and B4100; GPS Ref: 490300;232907; Southbound      | 9967/2                                                                                                                        | -0.6864142                                                                                                                    | 51.98730                                                                                                                      | Inactive                                                                                                                      | tmu                                                                                                                           | \n",
       "| 2794 | 17673                                                                                                                         | TMU Site 9968/1 on link A421 northbound between A600 and A603; GPS Ref: 507840;248078; Northbound                             | 9968/1                                                                                                                        | -0.4263033                                                                                                                    | 52.12052                                                                                                                      | Active                                                                                                                        | tmu                                                                                                                           | \n",
       "| 2795 | 17674                                                                                                                         | TMU Site 9968/2 on link A421 southbound between A603 and A600; GPS Ref: 507852;248068; Southbound                             | 9968/2                                                                                                                        | -0.4261312                                                                                                                    | 52.12043                                                                                                                      | Active                                                                                                                        | tmu                                                                                                                           | \n",
       "\n",
       "\n"
      ],
      "text/plain": [
       "     id   \n",
       "2790 16935\n",
       "2791 16936\n",
       "2792 17668\n",
       "2793 17669\n",
       "2794 17673\n",
       "2795 17674\n",
       "     name                                                                                                                         \n",
       "2790 TMU 7068/2 on A1(M) southbound within J42 on road A1(M) Southbound at location 53.765282677041000,-1.283889018408000         \n",
       "2791 TMU 7069/1 on A1(M) northbound between J42 and J43 on road A1(M) Northbound at location 53.792111151099000,-1.322338625921000\n",
       "2792 TMU Site 9967/1 on link A5 northbound between B4100 and A4146 near Bletchley (south); GPS Ref: 490291;232886; Northbound     \n",
       "2793 TMU Site 9967/2 on link A5 southbound between A4146 near Bletchley (south) and B4100; GPS Ref: 490300;232907; Southbound     \n",
       "2794 TMU Site 9968/1 on link A421 northbound between A600 and A603; GPS Ref: 507840;248078; Northbound                            \n",
       "2795 TMU Site 9968/2 on link A421 southbound between A603 and A600; GPS Ref: 507852;248068; Southbound                            \n",
       "     description longitude  latitude status   type\n",
       "2790 NO TMU ID   -1.2838890 53.76528 Inactive tmu \n",
       "2791 NO TMU ID   -1.3223386 53.79211 Inactive tmu \n",
       "2792 9967/1      -0.6865507 51.98711 Inactive tmu \n",
       "2793 9967/2      -0.6864142 51.98730 Inactive tmu \n",
       "2794 9968/1      -0.4263033 52.12052 Active   tmu \n",
       "2795 9968/2      -0.4261312 52.12043 Active   tmu "
      ]
     },
     "metadata": {},
     "output_type": "display_data"
    }
   ],
   "source": [
    "site.tmu <- read.csv(\"site_tmu.csv\", stringsAsFactor=F)\n",
    "site.tmu$type <- \"tmu\"\n",
    "tail(site.tmu)"
   ]
  },
  {
   "cell_type": "code",
   "execution_count": 5,
   "metadata": {},
   "outputs": [],
   "source": [
    "# combine\n",
    "sites <- rbind(site.midas, site.tame, site.tmu)"
   ]
  },
  {
   "cell_type": "code",
   "execution_count": 6,
   "metadata": {},
   "outputs": [],
   "source": [
    "readings <- fread(\"data/combo.csv\", stringsAsFactor=F)"
   ]
  },
  {
   "cell_type": "code",
   "execution_count": 7,
   "metadata": {},
   "outputs": [
    {
     "data": {
      "text/html": [
       "<table>\n",
       "<thead><tr><th scope=col>site_id</th><th scope=col>site_name</th><th scope=col>report_date</th><th scope=col>time_period_end</th><th scope=col>interval</th><th scope=col>len_0_520_cm</th><th scope=col>len_521_660_cm</th><th scope=col>len_661_1160_cm</th><th scope=col>len_1160_plus_cm</th><th scope=col>speed_0_10_mph</th><th scope=col>⋯</th><th scope=col>speed_36_40_mph</th><th scope=col>speed_41_45_mph</th><th scope=col>speed_46_50_mph</th><th scope=col>speed_51_55_mph</th><th scope=col>speed_56_60_mph</th><th scope=col>speed_61_70_mph</th><th scope=col>speed_71_80_mph</th><th scope=col>speed_80_plus_mph</th><th scope=col>speed_avg_mph</th><th scope=col>total_vol</th></tr></thead>\n",
       "<tbody>\n",
       "\t<tr><td>99                 </td><td>M1/2501A           </td><td>2019-02-28T00:00:00</td><td>22:44:00           </td><td>90                 </td><td>368                </td><td>41                 </td><td>20                 </td><td>56                 </td><td>NA                 </td><td>⋯                  </td><td>NA                 </td><td>NA                 </td><td>NA                 </td><td>NA                 </td><td>NA                 </td><td>NA                 </td><td>NA                 </td><td>NA                 </td><td>57                 </td><td>485                </td></tr>\n",
       "\t<tr><td>99                 </td><td>M1/2501A           </td><td>2019-02-28T00:00:00</td><td>22:59:00           </td><td>91                 </td><td>301                </td><td>42                 </td><td>18                 </td><td>62                 </td><td>NA                 </td><td>⋯                  </td><td>NA                 </td><td>NA                 </td><td>NA                 </td><td>NA                 </td><td>NA                 </td><td>NA                 </td><td>NA                 </td><td>NA                 </td><td>58                 </td><td>423                </td></tr>\n",
       "\t<tr><td>99                 </td><td>M1/2501A           </td><td>2019-02-28T00:00:00</td><td>23:14:00           </td><td>92                 </td><td>364                </td><td>23                 </td><td>11                 </td><td>60                 </td><td>NA                 </td><td>⋯                  </td><td>NA                 </td><td>NA                 </td><td>NA                 </td><td>NA                 </td><td>NA                 </td><td>NA                 </td><td>NA                 </td><td>NA                 </td><td>58                 </td><td>458                </td></tr>\n",
       "\t<tr><td>99                 </td><td>M1/2501A           </td><td>2019-02-28T00:00:00</td><td>23:29:00           </td><td>93                 </td><td>300                </td><td>32                 </td><td>18                 </td><td>78                 </td><td>NA                 </td><td>⋯                  </td><td>NA                 </td><td>NA                 </td><td>NA                 </td><td>NA                 </td><td>NA                 </td><td>NA                 </td><td>NA                 </td><td>NA                 </td><td>59                 </td><td>428                </td></tr>\n",
       "\t<tr><td>99                 </td><td>M1/2501A           </td><td>2019-02-28T00:00:00</td><td>23:44:00           </td><td>94                 </td><td>309                </td><td>34                 </td><td>21                 </td><td>70                 </td><td>NA                 </td><td>⋯                  </td><td>NA                 </td><td>NA                 </td><td>NA                 </td><td>NA                 </td><td>NA                 </td><td>NA                 </td><td>NA                 </td><td>NA                 </td><td>60                 </td><td>434                </td></tr>\n",
       "\t<tr><td>99                 </td><td>M1/2501A           </td><td>2019-02-28T00:00:00</td><td>23:59:00           </td><td>95                 </td><td>279                </td><td>41                 </td><td>18                 </td><td>78                 </td><td>NA                 </td><td>⋯                  </td><td>NA                 </td><td>NA                 </td><td>NA                 </td><td>NA                 </td><td>NA                 </td><td>NA                 </td><td>NA                 </td><td>NA                 </td><td>60                 </td><td>416                </td></tr>\n",
       "</tbody>\n",
       "</table>\n"
      ],
      "text/latex": [
       "\\begin{tabular}{r|lllllllllllllllllllllllll}\n",
       " site\\_id & site\\_name & report\\_date & time\\_period\\_end & interval & len\\_0\\_520\\_cm & len\\_521\\_660\\_cm & len\\_661\\_1160\\_cm & len\\_1160\\_plus\\_cm & speed\\_0\\_10\\_mph & ⋯ & speed\\_36\\_40\\_mph & speed\\_41\\_45\\_mph & speed\\_46\\_50\\_mph & speed\\_51\\_55\\_mph & speed\\_56\\_60\\_mph & speed\\_61\\_70\\_mph & speed\\_71\\_80\\_mph & speed\\_80\\_plus\\_mph & speed\\_avg\\_mph & total\\_vol\\\\\n",
       "\\hline\n",
       "\t 99                  & M1/2501A            & 2019-02-28T00:00:00 & 22:44:00            & 90                  & 368                 & 41                  & 20                  & 56                  & NA                  & ⋯                   & NA                  & NA                  & NA                  & NA                  & NA                  & NA                  & NA                  & NA                  & 57                  & 485                \\\\\n",
       "\t 99                  & M1/2501A            & 2019-02-28T00:00:00 & 22:59:00            & 91                  & 301                 & 42                  & 18                  & 62                  & NA                  & ⋯                   & NA                  & NA                  & NA                  & NA                  & NA                  & NA                  & NA                  & NA                  & 58                  & 423                \\\\\n",
       "\t 99                  & M1/2501A            & 2019-02-28T00:00:00 & 23:14:00            & 92                  & 364                 & 23                  & 11                  & 60                  & NA                  & ⋯                   & NA                  & NA                  & NA                  & NA                  & NA                  & NA                  & NA                  & NA                  & 58                  & 458                \\\\\n",
       "\t 99                  & M1/2501A            & 2019-02-28T00:00:00 & 23:29:00            & 93                  & 300                 & 32                  & 18                  & 78                  & NA                  & ⋯                   & NA                  & NA                  & NA                  & NA                  & NA                  & NA                  & NA                  & NA                  & 59                  & 428                \\\\\n",
       "\t 99                  & M1/2501A            & 2019-02-28T00:00:00 & 23:44:00            & 94                  & 309                 & 34                  & 21                  & 70                  & NA                  & ⋯                   & NA                  & NA                  & NA                  & NA                  & NA                  & NA                  & NA                  & NA                  & 60                  & 434                \\\\\n",
       "\t 99                  & M1/2501A            & 2019-02-28T00:00:00 & 23:59:00            & 95                  & 279                 & 41                  & 18                  & 78                  & NA                  & ⋯                   & NA                  & NA                  & NA                  & NA                  & NA                  & NA                  & NA                  & NA                  & 60                  & 416                \\\\\n",
       "\\end{tabular}\n"
      ],
      "text/markdown": [
       "\n",
       "site_id | site_name | report_date | time_period_end | interval | len_0_520_cm | len_521_660_cm | len_661_1160_cm | len_1160_plus_cm | speed_0_10_mph | ⋯ | speed_36_40_mph | speed_41_45_mph | speed_46_50_mph | speed_51_55_mph | speed_56_60_mph | speed_61_70_mph | speed_71_80_mph | speed_80_plus_mph | speed_avg_mph | total_vol | \n",
       "|---|---|---|---|---|---|\n",
       "| 99                  | M1/2501A            | 2019-02-28T00:00:00 | 22:44:00            | 90                  | 368                 | 41                  | 20                  | 56                  | NA                  | ⋯                   | NA                  | NA                  | NA                  | NA                  | NA                  | NA                  | NA                  | NA                  | 57                  | 485                 | \n",
       "| 99                  | M1/2501A            | 2019-02-28T00:00:00 | 22:59:00            | 91                  | 301                 | 42                  | 18                  | 62                  | NA                  | ⋯                   | NA                  | NA                  | NA                  | NA                  | NA                  | NA                  | NA                  | NA                  | 58                  | 423                 | \n",
       "| 99                  | M1/2501A            | 2019-02-28T00:00:00 | 23:14:00            | 92                  | 364                 | 23                  | 11                  | 60                  | NA                  | ⋯                   | NA                  | NA                  | NA                  | NA                  | NA                  | NA                  | NA                  | NA                  | 58                  | 458                 | \n",
       "| 99                  | M1/2501A            | 2019-02-28T00:00:00 | 23:29:00            | 93                  | 300                 | 32                  | 18                  | 78                  | NA                  | ⋯                   | NA                  | NA                  | NA                  | NA                  | NA                  | NA                  | NA                  | NA                  | 59                  | 428                 | \n",
       "| 99                  | M1/2501A            | 2019-02-28T00:00:00 | 23:44:00            | 94                  | 309                 | 34                  | 21                  | 70                  | NA                  | ⋯                   | NA                  | NA                  | NA                  | NA                  | NA                  | NA                  | NA                  | NA                  | 60                  | 434                 | \n",
       "| 99                  | M1/2501A            | 2019-02-28T00:00:00 | 23:59:00            | 95                  | 279                 | 41                  | 18                  | 78                  | NA                  | ⋯                   | NA                  | NA                  | NA                  | NA                  | NA                  | NA                  | NA                  | NA                  | 60                  | 416                 | \n",
       "\n",
       "\n"
      ],
      "text/plain": [
       "  site_id site_name report_date         time_period_end interval len_0_520_cm\n",
       "1 99      M1/2501A  2019-02-28T00:00:00 22:44:00        90       368         \n",
       "2 99      M1/2501A  2019-02-28T00:00:00 22:59:00        91       301         \n",
       "3 99      M1/2501A  2019-02-28T00:00:00 23:14:00        92       364         \n",
       "4 99      M1/2501A  2019-02-28T00:00:00 23:29:00        93       300         \n",
       "5 99      M1/2501A  2019-02-28T00:00:00 23:44:00        94       309         \n",
       "6 99      M1/2501A  2019-02-28T00:00:00 23:59:00        95       279         \n",
       "  len_521_660_cm len_661_1160_cm len_1160_plus_cm speed_0_10_mph ⋯\n",
       "1 41             20              56               NA             ⋯\n",
       "2 42             18              62               NA             ⋯\n",
       "3 23             11              60               NA             ⋯\n",
       "4 32             18              78               NA             ⋯\n",
       "5 34             21              70               NA             ⋯\n",
       "6 41             18              78               NA             ⋯\n",
       "  speed_36_40_mph speed_41_45_mph speed_46_50_mph speed_51_55_mph\n",
       "1 NA              NA              NA              NA             \n",
       "2 NA              NA              NA              NA             \n",
       "3 NA              NA              NA              NA             \n",
       "4 NA              NA              NA              NA             \n",
       "5 NA              NA              NA              NA             \n",
       "6 NA              NA              NA              NA             \n",
       "  speed_56_60_mph speed_61_70_mph speed_71_80_mph speed_80_plus_mph\n",
       "1 NA              NA              NA              NA               \n",
       "2 NA              NA              NA              NA               \n",
       "3 NA              NA              NA              NA               \n",
       "4 NA              NA              NA              NA               \n",
       "5 NA              NA              NA              NA               \n",
       "6 NA              NA              NA              NA               \n",
       "  speed_avg_mph total_vol\n",
       "1 57            485      \n",
       "2 58            423      \n",
       "3 58            458      \n",
       "4 59            428      \n",
       "5 60            434      \n",
       "6 60            416      "
      ]
     },
     "metadata": {},
     "output_type": "display_data"
    }
   ],
   "source": [
    "tail(readings)"
   ]
  },
  {
   "cell_type": "code",
   "execution_count": 8,
   "metadata": {},
   "outputs": [
    {
     "data": {
      "text/html": [
       "117692256"
      ],
      "text/latex": [
       "117692256"
      ],
      "text/markdown": [
       "117692256"
      ],
      "text/plain": [
       "[1] 117692256"
      ]
     },
     "metadata": {},
     "output_type": "display_data"
    }
   ],
   "source": [
    "nrow(readings)"
   ]
  },
  {
   "cell_type": "code",
   "execution_count": 9,
   "metadata": {},
   "outputs": [
    {
     "data": {
      "text/html": [
       "<table>\n",
       "<thead><tr><th></th><th scope=col>used</th><th scope=col>(Mb)</th><th scope=col>gc trigger</th><th scope=col>(Mb)</th><th scope=col>max used</th><th scope=col>(Mb)</th></tr></thead>\n",
       "<tbody>\n",
       "\t<tr><th scope=row>Ncells</th><td>    600358</td><td>   32.1   </td><td>   1202528</td><td>   64.3   </td><td>   1202528</td><td>   64.3   </td></tr>\n",
       "\t<tr><th scope=row>Vcells</th><td>1968126887</td><td>15015.7   </td><td>2634322208</td><td>20098.3   </td><td>1968594115</td><td>15019.2   </td></tr>\n",
       "</tbody>\n",
       "</table>\n"
      ],
      "text/latex": [
       "\\begin{tabular}{r|llllll}\n",
       "  & used & (Mb) & gc trigger & (Mb) & max used & (Mb)\\\\\n",
       "\\hline\n",
       "\tNcells &     600358 &    32.1    &    1202528 &    64.3    &    1202528 &    64.3   \\\\\n",
       "\tVcells & 1968126887 & 15015.7    & 2634322208 & 20098.3    & 1968594115 & 15019.2   \\\\\n",
       "\\end{tabular}\n"
      ],
      "text/markdown": [
       "\n",
       "| <!--/--> | used | (Mb) | gc trigger | (Mb) | max used | (Mb) | \n",
       "|---|---|\n",
       "| Ncells |     600358 |    32.1    |    1202528 |    64.3    |    1202528 |    64.3    | \n",
       "| Vcells | 1968126887 | 15015.7    | 2634322208 | 20098.3    | 1968594115 | 15019.2    | \n",
       "\n",
       "\n"
      ],
      "text/plain": [
       "       used       (Mb)    gc trigger (Mb)    max used   (Mb)   \n",
       "Ncells     600358    32.1    1202528    64.3    1202528    64.3\n",
       "Vcells 1968126887 15015.7 2634322208 20098.3 1968594115 15019.2"
      ]
     },
     "metadata": {},
     "output_type": "display_data"
    }
   ],
   "source": [
    "gc()"
   ]
  },
  {
   "cell_type": "markdown",
   "metadata": {},
   "source": [
    "# unwrap embedded site meta info\n",
    "\n",
    "`name` column contains extra `;` delimited info.\n",
    "example `ex`:"
   ]
  },
  {
   "cell_type": "code",
   "execution_count": 10,
   "metadata": {},
   "outputs": [
    {
     "data": {
      "text/html": [
       "<table>\n",
       "<thead><tr><th></th><th scope=col>id</th><th scope=col>name</th><th scope=col>description</th><th scope=col>longitude</th><th scope=col>latitude</th><th scope=col>status</th><th scope=col>type</th></tr></thead>\n",
       "<tbody>\n",
       "\t<tr><th scope=row>2014</th><td> 2016                                                                                                                                  </td><td>MIDAS site at M6/5349B priority 1 on link 107034301; GPS Ref: 453816;278971; Southbound                                                </td><td>M6/5349B                                                                                                                               </td><td>-1.21033876                                                                                                                            </td><td>52.40613                                                                                                                               </td><td>Inactive                                                                                                                               </td><td>midas                                                                                                                                  </td></tr>\n",
       "\t<tr><th scope=row>13046</th><td> 7641                                                                                                                                  </td><td>TMU Site 5634/2 on link M4 eastbound within J7; GPS Ref: 493332;180058; Eastbound                                                      </td><td>5634/2                                                                                                                                 </td><td>-0.65644602                                                                                                                            </td><td>51.51175                                                                                                                               </td><td>Inactive                                                                                                                               </td><td>tmu                                                                                                                                    </td></tr>\n",
       "\t<tr><th scope=row>3505</th><td> 3510                                                                                                                                  </td><td>MIDAS site at M1/3805A priority 7 on link 107031701; GPS Ref: 447168;322994; Northbound                                                </td><td>M1/3805A                                                                                                                               </td><td>-1.30179723                                                                                                                            </td><td>52.80247                                                                                                                               </td><td>Active                                                                                                                                 </td><td>midas                                                                                                                                  </td></tr>\n",
       "\t<tr><th scope=row>6345</th><td> 9672                                                                                                                                  </td><td>MIDAS site at M11/6462M priority 1 on link 200029245; GPS Ref: 551335;221064; Carriageway Connector                                    </td><td>M11/6462M                                                                                                                              </td><td> 0.19663284                                                                                                                            </td><td>51.86764                                                                                                                               </td><td>Active                                                                                                                                 </td><td>midas                                                                                                                                  </td></tr>\n",
       "\t<tr><th scope=row>9467</th><td>12953                                                                                                                                  </td><td>                                                                                                                                       </td><td>M6/6799B                                                                                                                               </td><td>-2.39419047                                                                                                                            </td><td>53.22671                                                                                                                               </td><td>Inactive                                                                                                                               </td><td>midas                                                                                                                                  </td></tr>\n",
       "\t<tr><th scope=row>11259</th><td>17153                                                                                                                                  </td><td>MIDAS site at M4/3836A, 074/7/121/315 on M4 westbound between J19 and J20 on road M4  at location 51.527411347716000,-2.529639971485000</td><td>NO MIDAS ID                                                                                                                            </td><td>-2.52963997                                                                                                                            </td><td>51.52741                                                                                                                               </td><td>Inactive                                                                                                                               </td><td>midas                                                                                                                                  </td></tr>\n",
       "\t<tr><th scope=row>5225</th><td> 5230                                                                                                                                  </td><td>MIDAS site at A2/9078A priority 1 on link 125024601; GPS Ref: 622561;148818; Eastbound                                                 </td><td>A2/9078A                                                                                                                               </td><td> 1.18404896                                                                                                                            </td><td>51.19522                                                                                                                               </td><td>Inactive                                                                                                                               </td><td>midas                                                                                                                                  </td></tr>\n",
       "\t<tr><th scope=row>6099</th><td> 6105                                                                                                                                  </td><td>MIDAS site at M25/4405A priority 1 on link 199121802; GPS Ref: 536293;152773; Clockwise                                                </td><td>M25/4405A                                                                                                                              </td><td>-0.04815074                                                                                                                            </td><td>51.25783                                                                                                                               </td><td>Active                                                                                                                                 </td><td>midas                                                                                                                                  </td></tr>\n",
       "\t<tr><th scope=row>8408</th><td>11894                                                                                                                                  </td><td>                                                                                                                                       </td><td>M11/6430A                                                                                                                              </td><td> 0.19097120                                                                                                                            </td><td>51.84170                                                                                                                               </td><td>Inactive                                                                                                                               </td><td>midas                                                                                                                                  </td></tr>\n",
       "\t<tr><th scope=row>4842</th><td> 4847                                                                                                                                  </td><td>MIDAS site at M4/3402B priority 1 on link 102004801; GPS Ref: 403598;183179; Eastbound                                                 </td><td>M4/3402B                                                                                                                               </td><td>-1.94949843                                                                                                                            </td><td>51.54749                                                                                                                               </td><td>Active                                                                                                                                 </td><td>midas                                                                                                                                  </td></tr>\n",
       "</tbody>\n",
       "</table>\n"
      ],
      "text/latex": [
       "\\begin{tabular}{r|lllllll}\n",
       "  & id & name & description & longitude & latitude & status & type\\\\\n",
       "\\hline\n",
       "\t2014 &  2016                                                                                                                                   & MIDAS site at M6/5349B priority 1 on link 107034301; GPS Ref: 453816;278971; Southbound                                                 & M6/5349B                                                                                                                                & -1.21033876                                                                                                                             & 52.40613                                                                                                                                & Inactive                                                                                                                                & midas                                                                                                                                  \\\\\n",
       "\t13046 &  7641                                                                                                                                   & TMU Site 5634/2 on link M4 eastbound within J7; GPS Ref: 493332;180058; Eastbound                                                       & 5634/2                                                                                                                                  & -0.65644602                                                                                                                             & 51.51175                                                                                                                                & Inactive                                                                                                                                & tmu                                                                                                                                    \\\\\n",
       "\t3505 &  3510                                                                                                                                   & MIDAS site at M1/3805A priority 7 on link 107031701; GPS Ref: 447168;322994; Northbound                                                 & M1/3805A                                                                                                                                & -1.30179723                                                                                                                             & 52.80247                                                                                                                                & Active                                                                                                                                  & midas                                                                                                                                  \\\\\n",
       "\t6345 &  9672                                                                                                                                   & MIDAS site at M11/6462M priority 1 on link 200029245; GPS Ref: 551335;221064; Carriageway Connector                                     & M11/6462M                                                                                                                               &  0.19663284                                                                                                                             & 51.86764                                                                                                                                & Active                                                                                                                                  & midas                                                                                                                                  \\\\\n",
       "\t9467 & 12953                                                                                                                                   &                                                                                                                                         & M6/6799B                                                                                                                                & -2.39419047                                                                                                                             & 53.22671                                                                                                                                & Inactive                                                                                                                                & midas                                                                                                                                  \\\\\n",
       "\t11259 & 17153                                                                                                                                   & MIDAS site at M4/3836A, 074/7/121/315 on M4 westbound between J19 and J20 on road M4  at location 51.527411347716000,-2.529639971485000 & NO MIDAS ID                                                                                                                             & -2.52963997                                                                                                                             & 51.52741                                                                                                                                & Inactive                                                                                                                                & midas                                                                                                                                  \\\\\n",
       "\t5225 &  5230                                                                                                                                   & MIDAS site at A2/9078A priority 1 on link 125024601; GPS Ref: 622561;148818; Eastbound                                                  & A2/9078A                                                                                                                                &  1.18404896                                                                                                                             & 51.19522                                                                                                                                & Inactive                                                                                                                                & midas                                                                                                                                  \\\\\n",
       "\t6099 &  6105                                                                                                                                   & MIDAS site at M25/4405A priority 1 on link 199121802; GPS Ref: 536293;152773; Clockwise                                                 & M25/4405A                                                                                                                               & -0.04815074                                                                                                                             & 51.25783                                                                                                                                & Active                                                                                                                                  & midas                                                                                                                                  \\\\\n",
       "\t8408 & 11894                                                                                                                                   &                                                                                                                                         & M11/6430A                                                                                                                               &  0.19097120                                                                                                                             & 51.84170                                                                                                                                & Inactive                                                                                                                                & midas                                                                                                                                  \\\\\n",
       "\t4842 &  4847                                                                                                                                   & MIDAS site at M4/3402B priority 1 on link 102004801; GPS Ref: 403598;183179; Eastbound                                                  & M4/3402B                                                                                                                                & -1.94949843                                                                                                                             & 51.54749                                                                                                                                & Active                                                                                                                                  & midas                                                                                                                                  \\\\\n",
       "\\end{tabular}\n"
      ],
      "text/markdown": [
       "\n",
       "| <!--/--> | id | name | description | longitude | latitude | status | type | \n",
       "|---|---|---|---|---|---|---|---|---|---|\n",
       "| 2014 |  2016                                                                                                                                   | MIDAS site at M6/5349B priority 1 on link 107034301; GPS Ref: 453816;278971; Southbound                                                 | M6/5349B                                                                                                                                | -1.21033876                                                                                                                             | 52.40613                                                                                                                                | Inactive                                                                                                                                | midas                                                                                                                                   | \n",
       "| 13046 |  7641                                                                                                                                   | TMU Site 5634/2 on link M4 eastbound within J7; GPS Ref: 493332;180058; Eastbound                                                       | 5634/2                                                                                                                                  | -0.65644602                                                                                                                             | 51.51175                                                                                                                                | Inactive                                                                                                                                | tmu                                                                                                                                     | \n",
       "| 3505 |  3510                                                                                                                                   | MIDAS site at M1/3805A priority 7 on link 107031701; GPS Ref: 447168;322994; Northbound                                                 | M1/3805A                                                                                                                                | -1.30179723                                                                                                                             | 52.80247                                                                                                                                | Active                                                                                                                                  | midas                                                                                                                                   | \n",
       "| 6345 |  9672                                                                                                                                   | MIDAS site at M11/6462M priority 1 on link 200029245; GPS Ref: 551335;221064; Carriageway Connector                                     | M11/6462M                                                                                                                               |  0.19663284                                                                                                                             | 51.86764                                                                                                                                | Active                                                                                                                                  | midas                                                                                                                                   | \n",
       "| 9467 | 12953                                                                                                                                   |                                                                                                                                         | M6/6799B                                                                                                                                | -2.39419047                                                                                                                             | 53.22671                                                                                                                                | Inactive                                                                                                                                | midas                                                                                                                                   | \n",
       "| 11259 | 17153                                                                                                                                   | MIDAS site at M4/3836A, 074/7/121/315 on M4 westbound between J19 and J20 on road M4  at location 51.527411347716000,-2.529639971485000 | NO MIDAS ID                                                                                                                             | -2.52963997                                                                                                                             | 51.52741                                                                                                                                | Inactive                                                                                                                                | midas                                                                                                                                   | \n",
       "| 5225 |  5230                                                                                                                                   | MIDAS site at A2/9078A priority 1 on link 125024601; GPS Ref: 622561;148818; Eastbound                                                  | A2/9078A                                                                                                                                |  1.18404896                                                                                                                             | 51.19522                                                                                                                                | Inactive                                                                                                                                | midas                                                                                                                                   | \n",
       "| 6099 |  6105                                                                                                                                   | MIDAS site at M25/4405A priority 1 on link 199121802; GPS Ref: 536293;152773; Clockwise                                                 | M25/4405A                                                                                                                               | -0.04815074                                                                                                                             | 51.25783                                                                                                                                | Active                                                                                                                                  | midas                                                                                                                                   | \n",
       "| 8408 | 11894                                                                                                                                   |                                                                                                                                         | M11/6430A                                                                                                                               |  0.19097120                                                                                                                             | 51.84170                                                                                                                                | Inactive                                                                                                                                | midas                                                                                                                                   | \n",
       "| 4842 |  4847                                                                                                                                   | MIDAS site at M4/3402B priority 1 on link 102004801; GPS Ref: 403598;183179; Eastbound                                                  | M4/3402B                                                                                                                                | -1.94949843                                                                                                                             | 51.54749                                                                                                                                | Active                                                                                                                                  | midas                                                                                                                                   | \n",
       "\n",
       "\n"
      ],
      "text/plain": [
       "      id   \n",
       "2014   2016\n",
       "13046  7641\n",
       "3505   3510\n",
       "6345   9672\n",
       "9467  12953\n",
       "11259 17153\n",
       "5225   5230\n",
       "6099   6105\n",
       "8408  11894\n",
       "4842   4847\n",
       "      name                                                                                                                                   \n",
       "2014  MIDAS site at M6/5349B priority 1 on link 107034301; GPS Ref: 453816;278971; Southbound                                                \n",
       "13046 TMU Site 5634/2 on link M4 eastbound within J7; GPS Ref: 493332;180058; Eastbound                                                      \n",
       "3505  MIDAS site at M1/3805A priority 7 on link 107031701; GPS Ref: 447168;322994; Northbound                                                \n",
       "6345  MIDAS site at M11/6462M priority 1 on link 200029245; GPS Ref: 551335;221064; Carriageway Connector                                    \n",
       "9467                                                                                                                                         \n",
       "11259 MIDAS site at M4/3836A, 074/7/121/315 on M4 westbound between J19 and J20 on road M4  at location 51.527411347716000,-2.529639971485000\n",
       "5225  MIDAS site at A2/9078A priority 1 on link 125024601; GPS Ref: 622561;148818; Eastbound                                                 \n",
       "6099  MIDAS site at M25/4405A priority 1 on link 199121802; GPS Ref: 536293;152773; Clockwise                                                \n",
       "8408                                                                                                                                         \n",
       "4842  MIDAS site at M4/3402B priority 1 on link 102004801; GPS Ref: 403598;183179; Eastbound                                                 \n",
       "      description longitude   latitude status   type \n",
       "2014  M6/5349B    -1.21033876 52.40613 Inactive midas\n",
       "13046 5634/2      -0.65644602 51.51175 Inactive tmu  \n",
       "3505  M1/3805A    -1.30179723 52.80247 Active   midas\n",
       "6345  M11/6462M    0.19663284 51.86764 Active   midas\n",
       "9467  M6/6799B    -2.39419047 53.22671 Inactive midas\n",
       "11259 NO MIDAS ID -2.52963997 51.52741 Inactive midas\n",
       "5225  A2/9078A     1.18404896 51.19522 Inactive midas\n",
       "6099  M25/4405A   -0.04815074 51.25783 Active   midas\n",
       "8408  M11/6430A    0.19097120 51.84170 Inactive midas\n",
       "4842  M4/3402B    -1.94949843 51.54749 Active   midas"
      ]
     },
     "metadata": {},
     "output_type": "display_data"
    }
   ],
   "source": [
    "ex <- sites[sample(1:nrow(sites), 10), ]\n",
    "ex"
   ]
  },
  {
   "cell_type": "markdown",
   "metadata": {},
   "source": [
    "## sensor direction"
   ]
  },
  {
   "cell_type": "code",
   "execution_count": 11,
   "metadata": {},
   "outputs": [],
   "source": [
    "# extract north,east,west,south(bound) or anti-clockwise/clockwise.\n",
    "direction <- function(x) {\n",
    "    m <- regexpr(\"(([A-Za-z]+)bound)|([A-Za-z\\\\-]+wise)\", x, perl=T)\n",
    "    matches <- tolower(regmatches(x, m))\n",
    "    # matches does not include NA. do cumsum trick to map NAs:\n",
    "    # m is a vector of match positions, where -nv = no match found.\n",
    "    # cumsum over sign of m where -1 replaced with 0, so that non-matches are repeated.\n",
    "    # then replace repeated with NA, as to get matches same length as input.\n",
    "    matches[ifelse(m > 0, cumsum(ifelse(m > 0, 1, 0)), NA)]\n",
    "}"
   ]
  },
  {
   "cell_type": "code",
   "execution_count": 12,
   "metadata": {},
   "outputs": [
    {
     "data": {
      "text/html": [
       "<ol class=list-inline>\n",
       "\t<li>'southbound'</li>\n",
       "\t<li>'eastbound'</li>\n",
       "\t<li>'northbound'</li>\n",
       "\t<li>NA</li>\n",
       "\t<li>NA</li>\n",
       "\t<li>'westbound'</li>\n",
       "\t<li>'eastbound'</li>\n",
       "\t<li>'clockwise'</li>\n",
       "\t<li>NA</li>\n",
       "\t<li>'eastbound'</li>\n",
       "</ol>\n"
      ],
      "text/latex": [
       "\\begin{enumerate*}\n",
       "\\item 'southbound'\n",
       "\\item 'eastbound'\n",
       "\\item 'northbound'\n",
       "\\item NA\n",
       "\\item NA\n",
       "\\item 'westbound'\n",
       "\\item 'eastbound'\n",
       "\\item 'clockwise'\n",
       "\\item NA\n",
       "\\item 'eastbound'\n",
       "\\end{enumerate*}\n"
      ],
      "text/markdown": [
       "1. 'southbound'\n",
       "2. 'eastbound'\n",
       "3. 'northbound'\n",
       "4. NA\n",
       "5. NA\n",
       "6. 'westbound'\n",
       "7. 'eastbound'\n",
       "8. 'clockwise'\n",
       "9. NA\n",
       "10. 'eastbound'\n",
       "\n",
       "\n"
      ],
      "text/plain": [
       " [1] \"southbound\" \"eastbound\"  \"northbound\" NA           NA          \n",
       " [6] \"westbound\"  \"eastbound\"  \"clockwise\"  NA           \"eastbound\" "
      ]
     },
     "metadata": {},
     "output_type": "display_data"
    }
   ],
   "source": [
    "direction(ex$name)"
   ]
  },
  {
   "cell_type": "code",
   "execution_count": 13,
   "metadata": {},
   "outputs": [
    {
     "data": {
      "text/plain": [
       "\n",
       "anti-clockwise      clockwise      eastbound     northbound      souhbound \n",
       "           752            778           2055           3344              1 \n",
       "    southbound      westbound \n",
       "          3326           2079 "
      ]
     },
     "metadata": {},
     "output_type": "display_data"
    }
   ],
   "source": [
    "sites$direction <- direction(sites$name)\n",
    "table(sites$direction)"
   ]
  },
  {
   "cell_type": "code",
   "execution_count": 14,
   "metadata": {},
   "outputs": [
    {
     "data": {
      "text/html": [
       "<table>\n",
       "<thead><tr><th></th><th scope=col>id</th><th scope=col>name</th><th scope=col>description</th><th scope=col>longitude</th><th scope=col>latitude</th><th scope=col>status</th><th scope=col>type</th><th scope=col>direction</th></tr></thead>\n",
       "<tbody>\n",
       "\t<tr><th scope=row>12581</th><td>7187                                                                                                              </td><td>TAME Site 30360339 on link Marlow Road souhbound between Cressex Road and A404; GPS Ref: 485338;191297; Southbound</td><td>30360339                                                                                                          </td><td>-0.7688845                                                                                                        </td><td>51.61405                                                                                                          </td><td>Active                                                                                                            </td><td>tame                                                                                                              </td><td>souhbound                                                                                                         </td></tr>\n",
       "</tbody>\n",
       "</table>\n"
      ],
      "text/latex": [
       "\\begin{tabular}{r|llllllll}\n",
       "  & id & name & description & longitude & latitude & status & type & direction\\\\\n",
       "\\hline\n",
       "\t12581 & 7187                                                                                                               & TAME Site 30360339 on link Marlow Road souhbound between Cressex Road and A404; GPS Ref: 485338;191297; Southbound & 30360339                                                                                                           & -0.7688845                                                                                                         & 51.61405                                                                                                           & Active                                                                                                             & tame                                                                                                               & souhbound                                                                                                         \\\\\n",
       "\\end{tabular}\n"
      ],
      "text/markdown": [
       "\n",
       "| <!--/--> | id | name | description | longitude | latitude | status | type | direction | \n",
       "|---|\n",
       "| 12581 | 7187                                                                                                               | TAME Site 30360339 on link Marlow Road souhbound between Cressex Road and A404; GPS Ref: 485338;191297; Southbound | 30360339                                                                                                           | -0.7688845                                                                                                         | 51.61405                                                                                                           | Active                                                                                                             | tame                                                                                                               | souhbound                                                                                                          | \n",
       "\n",
       "\n"
      ],
      "text/plain": [
       "      id  \n",
       "12581 7187\n",
       "      name                                                                                                              \n",
       "12581 TAME Site 30360339 on link Marlow Road souhbound between Cressex Road and A404; GPS Ref: 485338;191297; Southbound\n",
       "      description longitude  latitude status type direction\n",
       "12581 30360339    -0.7688845 51.61405 Active tame souhbound"
      ]
     },
     "metadata": {},
     "output_type": "display_data"
    }
   ],
   "source": [
    "# fix sensor typo\n",
    "sites[which(sites$direction == \"souhbound\"), ]"
   ]
  },
  {
   "cell_type": "code",
   "execution_count": 15,
   "metadata": {},
   "outputs": [
    {
     "data": {
      "text/plain": [
       "\n",
       "anti-clockwise      clockwise      eastbound     northbound     southbound \n",
       "           752            778           2055           3344           3327 \n",
       "     westbound \n",
       "          2079 "
      ]
     },
     "metadata": {},
     "output_type": "display_data"
    }
   ],
   "source": [
    "sites[which(sites$direction == \"souhbound\"), ]$direction <- \"southbound\"\n",
    "table(sites$direction)"
   ]
  },
  {
   "cell_type": "markdown",
   "metadata": {},
   "source": [
    "## eastings, northings"
   ]
  },
  {
   "cell_type": "code",
   "execution_count": 16,
   "metadata": {},
   "outputs": [],
   "source": [
    "# extract easting and northing matrix\n",
    "easting_northing <- function(x) {\n",
    "    m <- regexpr(\"GPS Ref: [0-9]+;[0-9]+\", x, perl=T)\n",
    "    matches <- matrix(unlist(strsplit(sub(\"^.*: \", \"\", regmatches(x, m)), \";\")), ncol=2, byrow=T)\n",
    "    matches <- matches[ifelse(m > 0, cumsum(ifelse(m > 0, 1, 0)), NA), ]\n",
    "    colnames(matches) <- c(\"easting\", \"northing\")\n",
    "    matches\n",
    "}"
   ]
  },
  {
   "cell_type": "code",
   "execution_count": 17,
   "metadata": {},
   "outputs": [
    {
     "data": {
      "text/html": [
       "<table>\n",
       "<thead><tr><th scope=col>easting</th><th scope=col>northing</th></tr></thead>\n",
       "<tbody>\n",
       "\t<tr><td>453816</td><td>278971</td></tr>\n",
       "\t<tr><td>493332</td><td>180058</td></tr>\n",
       "\t<tr><td>447168</td><td>322994</td></tr>\n",
       "\t<tr><td>551335</td><td>221064</td></tr>\n",
       "\t<tr><td>NA    </td><td>NA    </td></tr>\n",
       "\t<tr><td>NA    </td><td>NA    </td></tr>\n",
       "\t<tr><td>622561</td><td>148818</td></tr>\n",
       "\t<tr><td>536293</td><td>152773</td></tr>\n",
       "\t<tr><td>NA    </td><td>NA    </td></tr>\n",
       "\t<tr><td>403598</td><td>183179</td></tr>\n",
       "</tbody>\n",
       "</table>\n"
      ],
      "text/latex": [
       "\\begin{tabular}{ll}\n",
       " easting & northing\\\\\n",
       "\\hline\n",
       "\t 453816 & 278971\\\\\n",
       "\t 493332 & 180058\\\\\n",
       "\t 447168 & 322994\\\\\n",
       "\t 551335 & 221064\\\\\n",
       "\t NA     & NA    \\\\\n",
       "\t NA     & NA    \\\\\n",
       "\t 622561 & 148818\\\\\n",
       "\t 536293 & 152773\\\\\n",
       "\t NA     & NA    \\\\\n",
       "\t 403598 & 183179\\\\\n",
       "\\end{tabular}\n"
      ],
      "text/markdown": [
       "\n",
       "easting | northing | \n",
       "|---|---|---|---|---|---|---|---|---|---|\n",
       "| 453816 | 278971 | \n",
       "| 493332 | 180058 | \n",
       "| 447168 | 322994 | \n",
       "| 551335 | 221064 | \n",
       "| NA     | NA     | \n",
       "| NA     | NA     | \n",
       "| 622561 | 148818 | \n",
       "| 536293 | 152773 | \n",
       "| NA     | NA     | \n",
       "| 403598 | 183179 | \n",
       "\n",
       "\n"
      ],
      "text/plain": [
       "      easting northing\n",
       " [1,] 453816  278971  \n",
       " [2,] 493332  180058  \n",
       " [3,] 447168  322994  \n",
       " [4,] 551335  221064  \n",
       " [5,] NA      NA      \n",
       " [6,] NA      NA      \n",
       " [7,] 622561  148818  \n",
       " [8,] 536293  152773  \n",
       " [9,] NA      NA      \n",
       "[10,] 403598  183179  "
      ]
     },
     "metadata": {},
     "output_type": "display_data"
    }
   ],
   "source": [
    "easting_northing(ex$name)"
   ]
  },
  {
   "cell_type": "code",
   "execution_count": 18,
   "metadata": {},
   "outputs": [
    {
     "data": {
      "text/html": [
       "<table>\n",
       "<thead><tr><th></th><th scope=col>id</th><th scope=col>name</th><th scope=col>description</th><th scope=col>longitude</th><th scope=col>latitude</th><th scope=col>status</th><th scope=col>type</th><th scope=col>direction</th><th scope=col>easting</th><th scope=col>northing</th></tr></thead>\n",
       "<tbody>\n",
       "\t<tr><th scope=row>15426</th><td>16931                                                                                                                        </td><td>TMU 7067/1 on A1(M) J42 northbound exit on road A1(M)  at location 53.760906315412000,-1.281035879562000                     </td><td>NO TMU ID                                                                                                                    </td><td>-1.2810359                                                                                                                   </td><td>53.76091                                                                                                                     </td><td>Inactive                                                                                                                     </td><td>tmu                                                                                                                          </td><td>northbound                                                                                                                   </td><td>NA                                                                                                                           </td><td>NA                                                                                                                           </td></tr>\n",
       "\t<tr><th scope=row>15427</th><td>16932                                                                                                                        </td><td>TMU 7067/1 on A1(M) J42 northbound exit on road A1(M) Northbound at location 53.760906315412000,-1.281035879562000           </td><td>NO TMU ID                                                                                                                    </td><td>-1.2810359                                                                                                                   </td><td>53.76091                                                                                                                     </td><td>Inactive                                                                                                                     </td><td>tmu                                                                                                                          </td><td>northbound                                                                                                                   </td><td>NA                                                                                                                           </td><td>NA                                                                                                                           </td></tr>\n",
       "\t<tr><th scope=row>15428</th><td>16933                                                                                                                        </td><td>TMU 7067/2 on A1(M) northbound within J42 on road A1(M) Northbound at location 53.760959238603000,-1.280868119338000         </td><td>NO TMU ID                                                                                                                    </td><td>-1.2808681                                                                                                                   </td><td>53.76096                                                                                                                     </td><td>Inactive                                                                                                                     </td><td>tmu                                                                                                                          </td><td>northbound                                                                                                                   </td><td>NA                                                                                                                           </td><td>NA                                                                                                                           </td></tr>\n",
       "\t<tr><th scope=row>15429</th><td>16934                                                                                                                        </td><td>TMU 7068/1 on A1(M) J42 southbound exit on road A1(M) Southbound at location 53.765353306873000,-1.283675431969000           </td><td>NO TMU ID                                                                                                                    </td><td>-1.2836754                                                                                                                   </td><td>53.76535                                                                                                                     </td><td>Inactive                                                                                                                     </td><td>tmu                                                                                                                          </td><td>southbound                                                                                                                   </td><td>NA                                                                                                                           </td><td>NA                                                                                                                           </td></tr>\n",
       "\t<tr><th scope=row>15430</th><td>16935                                                                                                                        </td><td>TMU 7068/2 on A1(M) southbound within J42 on road A1(M) Southbound at location 53.765282677041000,-1.283889018408000         </td><td>NO TMU ID                                                                                                                    </td><td>-1.2838890                                                                                                                   </td><td>53.76528                                                                                                                     </td><td>Inactive                                                                                                                     </td><td>tmu                                                                                                                          </td><td>southbound                                                                                                                   </td><td>NA                                                                                                                           </td><td>NA                                                                                                                           </td></tr>\n",
       "\t<tr><th scope=row>15431</th><td>16936                                                                                                                        </td><td>TMU 7069/1 on A1(M) northbound between J42 and J43 on road A1(M) Northbound at location 53.792111151099000,-1.322338625921000</td><td>NO TMU ID                                                                                                                    </td><td>-1.3223386                                                                                                                   </td><td>53.79211                                                                                                                     </td><td>Inactive                                                                                                                     </td><td>tmu                                                                                                                          </td><td>northbound                                                                                                                   </td><td>NA                                                                                                                           </td><td>NA                                                                                                                           </td></tr>\n",
       "\t<tr><th scope=row>15432</th><td>17668                                                                                                                        </td><td>TMU Site 9967/1 on link A5 northbound between B4100 and A4146 near Bletchley (south); GPS Ref: 490291;232886; Northbound     </td><td>9967/1                                                                                                                       </td><td>-0.6865507                                                                                                                   </td><td>51.98711                                                                                                                     </td><td>Inactive                                                                                                                     </td><td>tmu                                                                                                                          </td><td>northbound                                                                                                                   </td><td>490291                                                                                                                       </td><td>232886                                                                                                                       </td></tr>\n",
       "\t<tr><th scope=row>15433</th><td>17669                                                                                                                        </td><td>TMU Site 9967/2 on link A5 southbound between A4146 near Bletchley (south) and B4100; GPS Ref: 490300;232907; Southbound     </td><td>9967/2                                                                                                                       </td><td>-0.6864142                                                                                                                   </td><td>51.98730                                                                                                                     </td><td>Inactive                                                                                                                     </td><td>tmu                                                                                                                          </td><td>southbound                                                                                                                   </td><td>490300                                                                                                                       </td><td>232907                                                                                                                       </td></tr>\n",
       "\t<tr><th scope=row>15434</th><td>17673                                                                                                                        </td><td>TMU Site 9968/1 on link A421 northbound between A600 and A603; GPS Ref: 507840;248078; Northbound                            </td><td>9968/1                                                                                                                       </td><td>-0.4263033                                                                                                                   </td><td>52.12052                                                                                                                     </td><td>Active                                                                                                                       </td><td>tmu                                                                                                                          </td><td>northbound                                                                                                                   </td><td>507840                                                                                                                       </td><td>248078                                                                                                                       </td></tr>\n",
       "\t<tr><th scope=row>15435</th><td>17674                                                                                                                        </td><td>TMU Site 9968/2 on link A421 southbound between A603 and A600; GPS Ref: 507852;248068; Southbound                            </td><td>9968/2                                                                                                                       </td><td>-0.4261312                                                                                                                   </td><td>52.12043                                                                                                                     </td><td>Active                                                                                                                       </td><td>tmu                                                                                                                          </td><td>southbound                                                                                                                   </td><td>507852                                                                                                                       </td><td>248068                                                                                                                       </td></tr>\n",
       "</tbody>\n",
       "</table>\n"
      ],
      "text/latex": [
       "\\begin{tabular}{r|llllllllll}\n",
       "  & id & name & description & longitude & latitude & status & type & direction & easting & northing\\\\\n",
       "\\hline\n",
       "\t15426 & 16931                                                                                                                         & TMU 7067/1 on A1(M) J42 northbound exit on road A1(M)  at location 53.760906315412000,-1.281035879562000                      & NO TMU ID                                                                                                                     & -1.2810359                                                                                                                    & 53.76091                                                                                                                      & Inactive                                                                                                                      & tmu                                                                                                                           & northbound                                                                                                                    & NA                                                                                                                            & NA                                                                                                                           \\\\\n",
       "\t15427 & 16932                                                                                                                         & TMU 7067/1 on A1(M) J42 northbound exit on road A1(M) Northbound at location 53.760906315412000,-1.281035879562000            & NO TMU ID                                                                                                                     & -1.2810359                                                                                                                    & 53.76091                                                                                                                      & Inactive                                                                                                                      & tmu                                                                                                                           & northbound                                                                                                                    & NA                                                                                                                            & NA                                                                                                                           \\\\\n",
       "\t15428 & 16933                                                                                                                         & TMU 7067/2 on A1(M) northbound within J42 on road A1(M) Northbound at location 53.760959238603000,-1.280868119338000          & NO TMU ID                                                                                                                     & -1.2808681                                                                                                                    & 53.76096                                                                                                                      & Inactive                                                                                                                      & tmu                                                                                                                           & northbound                                                                                                                    & NA                                                                                                                            & NA                                                                                                                           \\\\\n",
       "\t15429 & 16934                                                                                                                         & TMU 7068/1 on A1(M) J42 southbound exit on road A1(M) Southbound at location 53.765353306873000,-1.283675431969000            & NO TMU ID                                                                                                                     & -1.2836754                                                                                                                    & 53.76535                                                                                                                      & Inactive                                                                                                                      & tmu                                                                                                                           & southbound                                                                                                                    & NA                                                                                                                            & NA                                                                                                                           \\\\\n",
       "\t15430 & 16935                                                                                                                         & TMU 7068/2 on A1(M) southbound within J42 on road A1(M) Southbound at location 53.765282677041000,-1.283889018408000          & NO TMU ID                                                                                                                     & -1.2838890                                                                                                                    & 53.76528                                                                                                                      & Inactive                                                                                                                      & tmu                                                                                                                           & southbound                                                                                                                    & NA                                                                                                                            & NA                                                                                                                           \\\\\n",
       "\t15431 & 16936                                                                                                                         & TMU 7069/1 on A1(M) northbound between J42 and J43 on road A1(M) Northbound at location 53.792111151099000,-1.322338625921000 & NO TMU ID                                                                                                                     & -1.3223386                                                                                                                    & 53.79211                                                                                                                      & Inactive                                                                                                                      & tmu                                                                                                                           & northbound                                                                                                                    & NA                                                                                                                            & NA                                                                                                                           \\\\\n",
       "\t15432 & 17668                                                                                                                         & TMU Site 9967/1 on link A5 northbound between B4100 and A4146 near Bletchley (south); GPS Ref: 490291;232886; Northbound      & 9967/1                                                                                                                        & -0.6865507                                                                                                                    & 51.98711                                                                                                                      & Inactive                                                                                                                      & tmu                                                                                                                           & northbound                                                                                                                    & 490291                                                                                                                        & 232886                                                                                                                       \\\\\n",
       "\t15433 & 17669                                                                                                                         & TMU Site 9967/2 on link A5 southbound between A4146 near Bletchley (south) and B4100; GPS Ref: 490300;232907; Southbound      & 9967/2                                                                                                                        & -0.6864142                                                                                                                    & 51.98730                                                                                                                      & Inactive                                                                                                                      & tmu                                                                                                                           & southbound                                                                                                                    & 490300                                                                                                                        & 232907                                                                                                                       \\\\\n",
       "\t15434 & 17673                                                                                                                         & TMU Site 9968/1 on link A421 northbound between A600 and A603; GPS Ref: 507840;248078; Northbound                             & 9968/1                                                                                                                        & -0.4263033                                                                                                                    & 52.12052                                                                                                                      & Active                                                                                                                        & tmu                                                                                                                           & northbound                                                                                                                    & 507840                                                                                                                        & 248078                                                                                                                       \\\\\n",
       "\t15435 & 17674                                                                                                                         & TMU Site 9968/2 on link A421 southbound between A603 and A600; GPS Ref: 507852;248068; Southbound                             & 9968/2                                                                                                                        & -0.4261312                                                                                                                    & 52.12043                                                                                                                      & Active                                                                                                                        & tmu                                                                                                                           & southbound                                                                                                                    & 507852                                                                                                                        & 248068                                                                                                                       \\\\\n",
       "\\end{tabular}\n"
      ],
      "text/markdown": [
       "\n",
       "| <!--/--> | id | name | description | longitude | latitude | status | type | direction | easting | northing | \n",
       "|---|---|---|---|---|---|---|---|---|---|\n",
       "| 15426 | 16931                                                                                                                         | TMU 7067/1 on A1(M) J42 northbound exit on road A1(M)  at location 53.760906315412000,-1.281035879562000                      | NO TMU ID                                                                                                                     | -1.2810359                                                                                                                    | 53.76091                                                                                                                      | Inactive                                                                                                                      | tmu                                                                                                                           | northbound                                                                                                                    | NA                                                                                                                            | NA                                                                                                                            | \n",
       "| 15427 | 16932                                                                                                                         | TMU 7067/1 on A1(M) J42 northbound exit on road A1(M) Northbound at location 53.760906315412000,-1.281035879562000            | NO TMU ID                                                                                                                     | -1.2810359                                                                                                                    | 53.76091                                                                                                                      | Inactive                                                                                                                      | tmu                                                                                                                           | northbound                                                                                                                    | NA                                                                                                                            | NA                                                                                                                            | \n",
       "| 15428 | 16933                                                                                                                         | TMU 7067/2 on A1(M) northbound within J42 on road A1(M) Northbound at location 53.760959238603000,-1.280868119338000          | NO TMU ID                                                                                                                     | -1.2808681                                                                                                                    | 53.76096                                                                                                                      | Inactive                                                                                                                      | tmu                                                                                                                           | northbound                                                                                                                    | NA                                                                                                                            | NA                                                                                                                            | \n",
       "| 15429 | 16934                                                                                                                         | TMU 7068/1 on A1(M) J42 southbound exit on road A1(M) Southbound at location 53.765353306873000,-1.283675431969000            | NO TMU ID                                                                                                                     | -1.2836754                                                                                                                    | 53.76535                                                                                                                      | Inactive                                                                                                                      | tmu                                                                                                                           | southbound                                                                                                                    | NA                                                                                                                            | NA                                                                                                                            | \n",
       "| 15430 | 16935                                                                                                                         | TMU 7068/2 on A1(M) southbound within J42 on road A1(M) Southbound at location 53.765282677041000,-1.283889018408000          | NO TMU ID                                                                                                                     | -1.2838890                                                                                                                    | 53.76528                                                                                                                      | Inactive                                                                                                                      | tmu                                                                                                                           | southbound                                                                                                                    | NA                                                                                                                            | NA                                                                                                                            | \n",
       "| 15431 | 16936                                                                                                                         | TMU 7069/1 on A1(M) northbound between J42 and J43 on road A1(M) Northbound at location 53.792111151099000,-1.322338625921000 | NO TMU ID                                                                                                                     | -1.3223386                                                                                                                    | 53.79211                                                                                                                      | Inactive                                                                                                                      | tmu                                                                                                                           | northbound                                                                                                                    | NA                                                                                                                            | NA                                                                                                                            | \n",
       "| 15432 | 17668                                                                                                                         | TMU Site 9967/1 on link A5 northbound between B4100 and A4146 near Bletchley (south); GPS Ref: 490291;232886; Northbound      | 9967/1                                                                                                                        | -0.6865507                                                                                                                    | 51.98711                                                                                                                      | Inactive                                                                                                                      | tmu                                                                                                                           | northbound                                                                                                                    | 490291                                                                                                                        | 232886                                                                                                                        | \n",
       "| 15433 | 17669                                                                                                                         | TMU Site 9967/2 on link A5 southbound between A4146 near Bletchley (south) and B4100; GPS Ref: 490300;232907; Southbound      | 9967/2                                                                                                                        | -0.6864142                                                                                                                    | 51.98730                                                                                                                      | Inactive                                                                                                                      | tmu                                                                                                                           | southbound                                                                                                                    | 490300                                                                                                                        | 232907                                                                                                                        | \n",
       "| 15434 | 17673                                                                                                                         | TMU Site 9968/1 on link A421 northbound between A600 and A603; GPS Ref: 507840;248078; Northbound                             | 9968/1                                                                                                                        | -0.4263033                                                                                                                    | 52.12052                                                                                                                      | Active                                                                                                                        | tmu                                                                                                                           | northbound                                                                                                                    | 507840                                                                                                                        | 248078                                                                                                                        | \n",
       "| 15435 | 17674                                                                                                                         | TMU Site 9968/2 on link A421 southbound between A603 and A600; GPS Ref: 507852;248068; Southbound                             | 9968/2                                                                                                                        | -0.4261312                                                                                                                    | 52.12043                                                                                                                      | Active                                                                                                                        | tmu                                                                                                                           | southbound                                                                                                                    | 507852                                                                                                                        | 248068                                                                                                                        | \n",
       "\n",
       "\n"
      ],
      "text/plain": [
       "      id   \n",
       "15426 16931\n",
       "15427 16932\n",
       "15428 16933\n",
       "15429 16934\n",
       "15430 16935\n",
       "15431 16936\n",
       "15432 17668\n",
       "15433 17669\n",
       "15434 17673\n",
       "15435 17674\n",
       "      name                                                                                                                         \n",
       "15426 TMU 7067/1 on A1(M) J42 northbound exit on road A1(M)  at location 53.760906315412000,-1.281035879562000                     \n",
       "15427 TMU 7067/1 on A1(M) J42 northbound exit on road A1(M) Northbound at location 53.760906315412000,-1.281035879562000           \n",
       "15428 TMU 7067/2 on A1(M) northbound within J42 on road A1(M) Northbound at location 53.760959238603000,-1.280868119338000         \n",
       "15429 TMU 7068/1 on A1(M) J42 southbound exit on road A1(M) Southbound at location 53.765353306873000,-1.283675431969000           \n",
       "15430 TMU 7068/2 on A1(M) southbound within J42 on road A1(M) Southbound at location 53.765282677041000,-1.283889018408000         \n",
       "15431 TMU 7069/1 on A1(M) northbound between J42 and J43 on road A1(M) Northbound at location 53.792111151099000,-1.322338625921000\n",
       "15432 TMU Site 9967/1 on link A5 northbound between B4100 and A4146 near Bletchley (south); GPS Ref: 490291;232886; Northbound     \n",
       "15433 TMU Site 9967/2 on link A5 southbound between A4146 near Bletchley (south) and B4100; GPS Ref: 490300;232907; Southbound     \n",
       "15434 TMU Site 9968/1 on link A421 northbound between A600 and A603; GPS Ref: 507840;248078; Northbound                            \n",
       "15435 TMU Site 9968/2 on link A421 southbound between A603 and A600; GPS Ref: 507852;248068; Southbound                            \n",
       "      description longitude  latitude status   type direction  easting northing\n",
       "15426 NO TMU ID   -1.2810359 53.76091 Inactive tmu  northbound NA      NA      \n",
       "15427 NO TMU ID   -1.2810359 53.76091 Inactive tmu  northbound NA      NA      \n",
       "15428 NO TMU ID   -1.2808681 53.76096 Inactive tmu  northbound NA      NA      \n",
       "15429 NO TMU ID   -1.2836754 53.76535 Inactive tmu  southbound NA      NA      \n",
       "15430 NO TMU ID   -1.2838890 53.76528 Inactive tmu  southbound NA      NA      \n",
       "15431 NO TMU ID   -1.3223386 53.79211 Inactive tmu  northbound NA      NA      \n",
       "15432 9967/1      -0.6865507 51.98711 Inactive tmu  northbound 490291  232886  \n",
       "15433 9967/2      -0.6864142 51.98730 Inactive tmu  southbound 490300  232907  \n",
       "15434 9968/1      -0.4263033 52.12052 Active   tmu  northbound 507840  248078  \n",
       "15435 9968/2      -0.4261312 52.12043 Active   tmu  southbound 507852  248068  "
      ]
     },
     "metadata": {},
     "output_type": "display_data"
    }
   ],
   "source": [
    "sites <- cbind(sites, easting_northing(sites$name))\n",
    "tail(sites, 10)"
   ]
  },
  {
   "cell_type": "markdown",
   "metadata": {},
   "source": [
    "## combine site info with readings, split into midas, tame, tmu files"
   ]
  },
  {
   "cell_type": "code",
   "execution_count": 19,
   "metadata": {},
   "outputs": [
    {
     "data": {
      "text/html": [
       "FALSE"
      ],
      "text/latex": [
       "FALSE"
      ],
      "text/markdown": [
       "FALSE"
      ],
      "text/plain": [
       "[1] FALSE"
      ]
     },
     "metadata": {},
     "output_type": "display_data"
    }
   ],
   "source": [
    "# sensor reading -> sensor mapping\n",
    "mapping <- match(readings$site_id, sites$id)\n",
    "any(is.na(mapping))"
   ]
  },
  {
   "cell_type": "code",
   "execution_count": 20,
   "metadata": {},
   "outputs": [
    {
     "data": {
      "text/html": [
       "<table>\n",
       "<thead><tr><th></th><th scope=col>used</th><th scope=col>(Mb)</th><th scope=col>gc trigger</th><th scope=col>(Mb)</th><th scope=col>max used</th><th scope=col>(Mb)</th></tr></thead>\n",
       "<tbody>\n",
       "\t<tr><th scope=row>Ncells</th><td>    627761</td><td>   33.6   </td><td>   1202528</td><td>   64.3   </td><td>   1202528</td><td>   64.3   </td></tr>\n",
       "\t<tr><th scope=row>Vcells</th><td>2027052134</td><td>15465.2   </td><td>3161266649</td><td>24118.6   </td><td>2145166714</td><td>16366.4   </td></tr>\n",
       "</tbody>\n",
       "</table>\n"
      ],
      "text/latex": [
       "\\begin{tabular}{r|llllll}\n",
       "  & used & (Mb) & gc trigger & (Mb) & max used & (Mb)\\\\\n",
       "\\hline\n",
       "\tNcells &     627761 &    33.6    &    1202528 &    64.3    &    1202528 &    64.3   \\\\\n",
       "\tVcells & 2027052134 & 15465.2    & 3161266649 & 24118.6    & 2145166714 & 16366.4   \\\\\n",
       "\\end{tabular}\n"
      ],
      "text/markdown": [
       "\n",
       "| <!--/--> | used | (Mb) | gc trigger | (Mb) | max used | (Mb) | \n",
       "|---|---|\n",
       "| Ncells |     627761 |    33.6    |    1202528 |    64.3    |    1202528 |    64.3    | \n",
       "| Vcells | 2027052134 | 15465.2    | 3161266649 | 24118.6    | 2145166714 | 16366.4    | \n",
       "\n",
       "\n"
      ],
      "text/plain": [
       "       used       (Mb)    gc trigger (Mb)    max used   (Mb)   \n",
       "Ncells     627761    33.6    1202528    64.3    1202528    64.3\n",
       "Vcells 2027052134 15465.2 3161266649 24118.6 2145166714 16366.4"
      ]
     },
     "metadata": {},
     "output_type": "display_data"
    }
   ],
   "source": [
    "gc()"
   ]
  },
  {
   "cell_type": "code",
   "execution_count": 21,
   "metadata": {},
   "outputs": [
    {
     "data": {
      "text/html": [
       "<table>\n",
       "<thead><tr><th scope=col>site_id</th><th scope=col>site_name</th><th scope=col>report_date</th><th scope=col>time_period_end</th><th scope=col>interval</th><th scope=col>len_0_520_cm</th><th scope=col>len_521_660_cm</th><th scope=col>len_661_1160_cm</th><th scope=col>len_1160_plus_cm</th><th scope=col>speed_0_10_mph</th><th scope=col>⋯</th><th scope=col>speed_80_plus_mph</th><th scope=col>speed_avg_mph</th><th scope=col>total_vol</th><th scope=col>longitude</th><th scope=col>latitude</th><th scope=col>status</th><th scope=col>type</th><th scope=col>direction</th><th scope=col>easting</th><th scope=col>northing</th></tr></thead>\n",
       "<tbody>\n",
       "\t<tr><td> 3922              </td><td>M25/5464B          </td><td>2019-01-28T00:00:00</td><td>16:44:00           </td><td>66                 </td><td>717                </td><td>270                </td><td>162                </td><td>144                </td><td>NA                 </td><td>⋯                  </td><td>NA                 </td><td>55                 </td><td>1293               </td><td>-0.06102875        </td><td>51.68250           </td><td>Active             </td><td>midas              </td><td>anti-clockwise     </td><td>534144             </td><td>199972             </td></tr>\n",
       "\t<tr><td> 9479              </td><td>7131/1             </td><td>2019-02-20T00:00:00</td><td>02:14:00           </td><td> 8                 </td><td> 11                </td><td>  0                </td><td>  3                </td><td> 10                </td><td>NA                 </td><td>⋯                  </td><td>NA                 </td><td>59                 </td><td>  24               </td><td>-1.05394661        </td><td>52.07251           </td><td>Active             </td><td>tmu                </td><td>southbound         </td><td>464939             </td><td>241992             </td></tr>\n",
       "\t<tr><td> 8337              </td><td>9296/2             </td><td>2018-12-23T00:00:00</td><td>12:29:59           </td><td>49                 </td><td> NA                </td><td> NA                </td><td> NA                </td><td> NA                </td><td>NA                 </td><td>⋯                  </td><td>NA                 </td><td>NA                 </td><td>  NA               </td><td>-1.51355588        </td><td>54.65106           </td><td>Active             </td><td>tmu                </td><td>northbound         </td><td>431486             </td><td>528547             </td></tr>\n",
       "\t<tr><td> 3505              </td><td>A14/1144B          </td><td>2018-11-19T00:00:00</td><td>08:29:00           </td><td>33                 </td><td>703                </td><td>110                </td><td> 71                </td><td> 92                </td><td>NA                 </td><td>⋯                  </td><td>NA                 </td><td>42                 </td><td> 976               </td><td> 0.32209850        </td><td>52.22550           </td><td>Active             </td><td>midas              </td><td>westbound          </td><td>558700             </td><td>261127             </td></tr>\n",
       "\t<tr><td>17631              </td><td>M60/9277B          </td><td>2019-02-19T00:00:00</td><td>09:44:59           </td><td>38                 </td><td> NA                </td><td> NA                </td><td> NA                </td><td> NA                </td><td>NA                 </td><td>⋯                  </td><td>NA                 </td><td>NA                 </td><td>  NA               </td><td>-2.31434645        </td><td>53.53191           </td><td>Active             </td><td>midas              </td><td>anti-clockwise     </td><td>379261             </td><td>403961             </td></tr>\n",
       "\t<tr><td> 2767              </td><td>M62/2123A          </td><td>2018-12-31T00:00:00</td><td>18:29:00           </td><td>73                 </td><td>336                </td><td> 52                </td><td> 11                </td><td> 11                </td><td>NA                 </td><td>⋯                  </td><td>NA                 </td><td>69                 </td><td> 410               </td><td>-1.57355496        </td><td>53.73354           </td><td>Active             </td><td>midas              </td><td>eastbound          </td><td>428230             </td><td>426432             </td></tr>\n",
       "\t<tr><td> 6525              </td><td>30360666           </td><td>2018-11-20T00:00:00</td><td>07:29:59           </td><td>29                 </td><td> NA                </td><td> NA                </td><td> NA                </td><td> NA                </td><td>NA                 </td><td>⋯                  </td><td>NA                 </td><td>NA                 </td><td>  NA               </td><td> 0.28726897        </td><td>51.49467           </td><td>Active             </td><td>tame               </td><td>westbound          </td><td>558874             </td><td>179783             </td></tr>\n",
       "\t<tr><td> 8197              </td><td>7029/2             </td><td>2018-11-19T00:00:00</td><td>17:59:00           </td><td>71                 </td><td> 58                </td><td>  7                </td><td>  0                </td><td>  3                </td><td>NA                 </td><td>⋯                  </td><td>NA                 </td><td>56                 </td><td>  68               </td><td>-2.72126861        </td><td>52.20527           </td><td>Active             </td><td>tmu                </td><td>southbound         </td><td>350807             </td><td>256582             </td></tr>\n",
       "\t<tr><td> 3606              </td><td>M1/2998B           </td><td>2019-01-28T00:00:00</td><td>10:44:59           </td><td>42                 </td><td> NA                </td><td> NA                </td><td> NA                </td><td> NA                </td><td>NA                 </td><td>⋯                  </td><td>NA                 </td><td>NA                 </td><td>  NA               </td><td>-0.89480427        </td><td>52.18562           </td><td>Active             </td><td>midas              </td><td>southbound         </td><td>475655             </td><td>254726             </td></tr>\n",
       "\t<tr><td> 8705              </td><td>9266/2             </td><td>2018-11-02T00:00:00</td><td>20:14:00           </td><td>80                 </td><td> 61                </td><td>  2                </td><td>  0                </td><td>  1                </td><td>NA                 </td><td>⋯                  </td><td>NA                 </td><td>47                 </td><td>  64               </td><td>-0.43335059        </td><td>54.20366           </td><td>Active             </td><td>tmu                </td><td>westbound          </td><td>502289             </td><td>479788             </td></tr>\n",
       "</tbody>\n",
       "</table>\n"
      ],
      "text/latex": [
       "\\begin{tabular}{r|llllllllllllllllllllllllllllllll}\n",
       " site\\_id & site\\_name & report\\_date & time\\_period\\_end & interval & len\\_0\\_520\\_cm & len\\_521\\_660\\_cm & len\\_661\\_1160\\_cm & len\\_1160\\_plus\\_cm & speed\\_0\\_10\\_mph & ⋯ & speed\\_80\\_plus\\_mph & speed\\_avg\\_mph & total\\_vol & longitude & latitude & status & type & direction & easting & northing\\\\\n",
       "\\hline\n",
       "\t  3922               & M25/5464B           & 2019-01-28T00:00:00 & 16:44:00            & 66                  & 717                 & 270                 & 162                 & 144                 & NA                  & ⋯                   & NA                  & 55                  & 1293                & -0.06102875         & 51.68250            & Active              & midas               & anti-clockwise      & 534144              & 199972             \\\\\n",
       "\t  9479               & 7131/1              & 2019-02-20T00:00:00 & 02:14:00            &  8                  &  11                 &   0                 &   3                 &  10                 & NA                  & ⋯                   & NA                  & 59                  &   24                & -1.05394661         & 52.07251            & Active              & tmu                 & southbound          & 464939              & 241992             \\\\\n",
       "\t  8337               & 9296/2              & 2018-12-23T00:00:00 & 12:29:59            & 49                  &  NA                 &  NA                 &  NA                 &  NA                 & NA                  & ⋯                   & NA                  & NA                  &   NA                & -1.51355588         & 54.65106            & Active              & tmu                 & northbound          & 431486              & 528547             \\\\\n",
       "\t  3505               & A14/1144B           & 2018-11-19T00:00:00 & 08:29:00            & 33                  & 703                 & 110                 &  71                 &  92                 & NA                  & ⋯                   & NA                  & 42                  &  976                &  0.32209850         & 52.22550            & Active              & midas               & westbound           & 558700              & 261127             \\\\\n",
       "\t 17631               & M60/9277B           & 2019-02-19T00:00:00 & 09:44:59            & 38                  &  NA                 &  NA                 &  NA                 &  NA                 & NA                  & ⋯                   & NA                  & NA                  &   NA                & -2.31434645         & 53.53191            & Active              & midas               & anti-clockwise      & 379261              & 403961             \\\\\n",
       "\t  2767               & M62/2123A           & 2018-12-31T00:00:00 & 18:29:00            & 73                  & 336                 &  52                 &  11                 &  11                 & NA                  & ⋯                   & NA                  & 69                  &  410                & -1.57355496         & 53.73354            & Active              & midas               & eastbound           & 428230              & 426432             \\\\\n",
       "\t  6525               & 30360666            & 2018-11-20T00:00:00 & 07:29:59            & 29                  &  NA                 &  NA                 &  NA                 &  NA                 & NA                  & ⋯                   & NA                  & NA                  &   NA                &  0.28726897         & 51.49467            & Active              & tame                & westbound           & 558874              & 179783             \\\\\n",
       "\t  8197               & 7029/2              & 2018-11-19T00:00:00 & 17:59:00            & 71                  &  58                 &   7                 &   0                 &   3                 & NA                  & ⋯                   & NA                  & 56                  &   68                & -2.72126861         & 52.20527            & Active              & tmu                 & southbound          & 350807              & 256582             \\\\\n",
       "\t  3606               & M1/2998B            & 2019-01-28T00:00:00 & 10:44:59            & 42                  &  NA                 &  NA                 &  NA                 &  NA                 & NA                  & ⋯                   & NA                  & NA                  &   NA                & -0.89480427         & 52.18562            & Active              & midas               & southbound          & 475655              & 254726             \\\\\n",
       "\t  8705               & 9266/2              & 2018-11-02T00:00:00 & 20:14:00            & 80                  &  61                 &   2                 &   0                 &   1                 & NA                  & ⋯                   & NA                  & 47                  &   64                & -0.43335059         & 54.20366            & Active              & tmu                 & westbound           & 502289              & 479788             \\\\\n",
       "\\end{tabular}\n"
      ],
      "text/markdown": [
       "\n",
       "site_id | site_name | report_date | time_period_end | interval | len_0_520_cm | len_521_660_cm | len_661_1160_cm | len_1160_plus_cm | speed_0_10_mph | ⋯ | speed_80_plus_mph | speed_avg_mph | total_vol | longitude | latitude | status | type | direction | easting | northing | \n",
       "|---|---|---|---|---|---|---|---|---|---|\n",
       "|  3922               | M25/5464B           | 2019-01-28T00:00:00 | 16:44:00            | 66                  | 717                 | 270                 | 162                 | 144                 | NA                  | ⋯                   | NA                  | 55                  | 1293                | -0.06102875         | 51.68250            | Active              | midas               | anti-clockwise      | 534144              | 199972              | \n",
       "|  9479               | 7131/1              | 2019-02-20T00:00:00 | 02:14:00            |  8                  |  11                 |   0                 |   3                 |  10                 | NA                  | ⋯                   | NA                  | 59                  |   24                | -1.05394661         | 52.07251            | Active              | tmu                 | southbound          | 464939              | 241992              | \n",
       "|  8337               | 9296/2              | 2018-12-23T00:00:00 | 12:29:59            | 49                  |  NA                 |  NA                 |  NA                 |  NA                 | NA                  | ⋯                   | NA                  | NA                  |   NA                | -1.51355588         | 54.65106            | Active              | tmu                 | northbound          | 431486              | 528547              | \n",
       "|  3505               | A14/1144B           | 2018-11-19T00:00:00 | 08:29:00            | 33                  | 703                 | 110                 |  71                 |  92                 | NA                  | ⋯                   | NA                  | 42                  |  976                |  0.32209850         | 52.22550            | Active              | midas               | westbound           | 558700              | 261127              | \n",
       "| 17631               | M60/9277B           | 2019-02-19T00:00:00 | 09:44:59            | 38                  |  NA                 |  NA                 |  NA                 |  NA                 | NA                  | ⋯                   | NA                  | NA                  |   NA                | -2.31434645         | 53.53191            | Active              | midas               | anti-clockwise      | 379261              | 403961              | \n",
       "|  2767               | M62/2123A           | 2018-12-31T00:00:00 | 18:29:00            | 73                  | 336                 |  52                 |  11                 |  11                 | NA                  | ⋯                   | NA                  | 69                  |  410                | -1.57355496         | 53.73354            | Active              | midas               | eastbound           | 428230              | 426432              | \n",
       "|  6525               | 30360666            | 2018-11-20T00:00:00 | 07:29:59            | 29                  |  NA                 |  NA                 |  NA                 |  NA                 | NA                  | ⋯                   | NA                  | NA                  |   NA                |  0.28726897         | 51.49467            | Active              | tame                | westbound           | 558874              | 179783              | \n",
       "|  8197               | 7029/2              | 2018-11-19T00:00:00 | 17:59:00            | 71                  |  58                 |   7                 |   0                 |   3                 | NA                  | ⋯                   | NA                  | 56                  |   68                | -2.72126861         | 52.20527            | Active              | tmu                 | southbound          | 350807              | 256582              | \n",
       "|  3606               | M1/2998B            | 2019-01-28T00:00:00 | 10:44:59            | 42                  |  NA                 |  NA                 |  NA                 |  NA                 | NA                  | ⋯                   | NA                  | NA                  |   NA                | -0.89480427         | 52.18562            | Active              | midas               | southbound          | 475655              | 254726              | \n",
       "|  8705               | 9266/2              | 2018-11-02T00:00:00 | 20:14:00            | 80                  |  61                 |   2                 |   0                 |   1                 | NA                  | ⋯                   | NA                  | 47                  |   64                | -0.43335059         | 54.20366            | Active              | tmu                 | westbound           | 502289              | 479788              | \n",
       "\n",
       "\n"
      ],
      "text/plain": [
       "   site_id site_name report_date         time_period_end interval len_0_520_cm\n",
       "1   3922   M25/5464B 2019-01-28T00:00:00 16:44:00        66       717         \n",
       "2   9479   7131/1    2019-02-20T00:00:00 02:14:00         8        11         \n",
       "3   8337   9296/2    2018-12-23T00:00:00 12:29:59        49        NA         \n",
       "4   3505   A14/1144B 2018-11-19T00:00:00 08:29:00        33       703         \n",
       "5  17631   M60/9277B 2019-02-19T00:00:00 09:44:59        38        NA         \n",
       "6   2767   M62/2123A 2018-12-31T00:00:00 18:29:00        73       336         \n",
       "7   6525   30360666  2018-11-20T00:00:00 07:29:59        29        NA         \n",
       "8   8197   7029/2    2018-11-19T00:00:00 17:59:00        71        58         \n",
       "9   3606   M1/2998B  2019-01-28T00:00:00 10:44:59        42        NA         \n",
       "10  8705   9266/2    2018-11-02T00:00:00 20:14:00        80        61         \n",
       "   len_521_660_cm len_661_1160_cm len_1160_plus_cm speed_0_10_mph ⋯\n",
       "1  270            162             144              NA             ⋯\n",
       "2    0              3              10              NA             ⋯\n",
       "3   NA             NA              NA              NA             ⋯\n",
       "4  110             71              92              NA             ⋯\n",
       "5   NA             NA              NA              NA             ⋯\n",
       "6   52             11              11              NA             ⋯\n",
       "7   NA             NA              NA              NA             ⋯\n",
       "8    7              0               3              NA             ⋯\n",
       "9   NA             NA              NA              NA             ⋯\n",
       "10   2              0               1              NA             ⋯\n",
       "   speed_80_plus_mph speed_avg_mph total_vol longitude   latitude status type \n",
       "1  NA                55            1293      -0.06102875 51.68250 Active midas\n",
       "2  NA                59              24      -1.05394661 52.07251 Active tmu  \n",
       "3  NA                NA              NA      -1.51355588 54.65106 Active tmu  \n",
       "4  NA                42             976       0.32209850 52.22550 Active midas\n",
       "5  NA                NA              NA      -2.31434645 53.53191 Active midas\n",
       "6  NA                69             410      -1.57355496 53.73354 Active midas\n",
       "7  NA                NA              NA       0.28726897 51.49467 Active tame \n",
       "8  NA                56              68      -2.72126861 52.20527 Active tmu  \n",
       "9  NA                NA              NA      -0.89480427 52.18562 Active midas\n",
       "10 NA                47              64      -0.43335059 54.20366 Active tmu  \n",
       "   direction      easting northing\n",
       "1  anti-clockwise 534144  199972  \n",
       "2  southbound     464939  241992  \n",
       "3  northbound     431486  528547  \n",
       "4  westbound      558700  261127  \n",
       "5  anti-clockwise 379261  403961  \n",
       "6  eastbound      428230  426432  \n",
       "7  westbound      558874  179783  \n",
       "8  southbound     350807  256582  \n",
       "9  southbound     475655  254726  \n",
       "10 westbound      502289  479788  "
      ]
     },
     "metadata": {},
     "output_type": "display_data"
    }
   ],
   "source": [
    "# glue together\n",
    "readings <- cbind(readings, sites[mapping, -(1:3)])\n",
    "readings[sample(1:nrow(readings), 10), ]"
   ]
  },
  {
   "cell_type": "markdown",
   "metadata": {},
   "source": [
    "**warning** ^-- pushed R instance to ~70g memory. good job i have swap on an NVMe stick.."
   ]
  },
  {
   "cell_type": "code",
   "execution_count": 22,
   "metadata": {},
   "outputs": [
    {
     "data": {
      "text/html": [
       "<table>\n",
       "<thead><tr><th scope=col>site_id</th><th scope=col>site_name</th><th scope=col>report_date</th><th scope=col>time_period_end</th><th scope=col>interval</th><th scope=col>len_0_520_cm</th><th scope=col>len_521_660_cm</th><th scope=col>len_661_1160_cm</th><th scope=col>len_1160_plus_cm</th><th scope=col>speed_0_10_mph</th><th scope=col>⋯</th><th scope=col>speed_80_plus_mph</th><th scope=col>speed_avg_mph</th><th scope=col>total_vol</th><th scope=col>longitude</th><th scope=col>latitude</th><th scope=col>status</th><th scope=col>type</th><th scope=col>direction</th><th scope=col>easting</th><th scope=col>northing</th></tr></thead>\n",
       "<tbody>\n",
       "\t<tr><td>99                 </td><td>M1/2501A           </td><td>2019-02-28T00:00:00</td><td>22:44:00           </td><td>90                 </td><td>368                </td><td>41                 </td><td>20                 </td><td>56                 </td><td>NA                 </td><td>⋯                  </td><td>NA                 </td><td>57                 </td><td>485                </td><td>-0.4332477         </td><td>51.86238           </td><td>Active             </td><td>midas              </td><td>northbound         </td><td>507983             </td><td>219359             </td></tr>\n",
       "\t<tr><td>99                 </td><td>M1/2501A           </td><td>2019-02-28T00:00:00</td><td>22:59:00           </td><td>91                 </td><td>301                </td><td>42                 </td><td>18                 </td><td>62                 </td><td>NA                 </td><td>⋯                  </td><td>NA                 </td><td>58                 </td><td>423                </td><td>-0.4332477         </td><td>51.86238           </td><td>Active             </td><td>midas              </td><td>northbound         </td><td>507983             </td><td>219359             </td></tr>\n",
       "\t<tr><td>99                 </td><td>M1/2501A           </td><td>2019-02-28T00:00:00</td><td>23:14:00           </td><td>92                 </td><td>364                </td><td>23                 </td><td>11                 </td><td>60                 </td><td>NA                 </td><td>⋯                  </td><td>NA                 </td><td>58                 </td><td>458                </td><td>-0.4332477         </td><td>51.86238           </td><td>Active             </td><td>midas              </td><td>northbound         </td><td>507983             </td><td>219359             </td></tr>\n",
       "\t<tr><td>99                 </td><td>M1/2501A           </td><td>2019-02-28T00:00:00</td><td>23:29:00           </td><td>93                 </td><td>300                </td><td>32                 </td><td>18                 </td><td>78                 </td><td>NA                 </td><td>⋯                  </td><td>NA                 </td><td>59                 </td><td>428                </td><td>-0.4332477         </td><td>51.86238           </td><td>Active             </td><td>midas              </td><td>northbound         </td><td>507983             </td><td>219359             </td></tr>\n",
       "\t<tr><td>99                 </td><td>M1/2501A           </td><td>2019-02-28T00:00:00</td><td>23:44:00           </td><td>94                 </td><td>309                </td><td>34                 </td><td>21                 </td><td>70                 </td><td>NA                 </td><td>⋯                  </td><td>NA                 </td><td>60                 </td><td>434                </td><td>-0.4332477         </td><td>51.86238           </td><td>Active             </td><td>midas              </td><td>northbound         </td><td>507983             </td><td>219359             </td></tr>\n",
       "\t<tr><td>99                 </td><td>M1/2501A           </td><td>2019-02-28T00:00:00</td><td>23:59:00           </td><td>95                 </td><td>279                </td><td>41                 </td><td>18                 </td><td>78                 </td><td>NA                 </td><td>⋯                  </td><td>NA                 </td><td>60                 </td><td>416                </td><td>-0.4332477         </td><td>51.86238           </td><td>Active             </td><td>midas              </td><td>northbound         </td><td>507983             </td><td>219359             </td></tr>\n",
       "</tbody>\n",
       "</table>\n"
      ],
      "text/latex": [
       "\\begin{tabular}{r|llllllllllllllllllllllllllllllll}\n",
       " site\\_id & site\\_name & report\\_date & time\\_period\\_end & interval & len\\_0\\_520\\_cm & len\\_521\\_660\\_cm & len\\_661\\_1160\\_cm & len\\_1160\\_plus\\_cm & speed\\_0\\_10\\_mph & ⋯ & speed\\_80\\_plus\\_mph & speed\\_avg\\_mph & total\\_vol & longitude & latitude & status & type & direction & easting & northing\\\\\n",
       "\\hline\n",
       "\t 99                  & M1/2501A            & 2019-02-28T00:00:00 & 22:44:00            & 90                  & 368                 & 41                  & 20                  & 56                  & NA                  & ⋯                   & NA                  & 57                  & 485                 & -0.4332477          & 51.86238            & Active              & midas               & northbound          & 507983              & 219359             \\\\\n",
       "\t 99                  & M1/2501A            & 2019-02-28T00:00:00 & 22:59:00            & 91                  & 301                 & 42                  & 18                  & 62                  & NA                  & ⋯                   & NA                  & 58                  & 423                 & -0.4332477          & 51.86238            & Active              & midas               & northbound          & 507983              & 219359             \\\\\n",
       "\t 99                  & M1/2501A            & 2019-02-28T00:00:00 & 23:14:00            & 92                  & 364                 & 23                  & 11                  & 60                  & NA                  & ⋯                   & NA                  & 58                  & 458                 & -0.4332477          & 51.86238            & Active              & midas               & northbound          & 507983              & 219359             \\\\\n",
       "\t 99                  & M1/2501A            & 2019-02-28T00:00:00 & 23:29:00            & 93                  & 300                 & 32                  & 18                  & 78                  & NA                  & ⋯                   & NA                  & 59                  & 428                 & -0.4332477          & 51.86238            & Active              & midas               & northbound          & 507983              & 219359             \\\\\n",
       "\t 99                  & M1/2501A            & 2019-02-28T00:00:00 & 23:44:00            & 94                  & 309                 & 34                  & 21                  & 70                  & NA                  & ⋯                   & NA                  & 60                  & 434                 & -0.4332477          & 51.86238            & Active              & midas               & northbound          & 507983              & 219359             \\\\\n",
       "\t 99                  & M1/2501A            & 2019-02-28T00:00:00 & 23:59:00            & 95                  & 279                 & 41                  & 18                  & 78                  & NA                  & ⋯                   & NA                  & 60                  & 416                 & -0.4332477          & 51.86238            & Active              & midas               & northbound          & 507983              & 219359             \\\\\n",
       "\\end{tabular}\n"
      ],
      "text/markdown": [
       "\n",
       "site_id | site_name | report_date | time_period_end | interval | len_0_520_cm | len_521_660_cm | len_661_1160_cm | len_1160_plus_cm | speed_0_10_mph | ⋯ | speed_80_plus_mph | speed_avg_mph | total_vol | longitude | latitude | status | type | direction | easting | northing | \n",
       "|---|---|---|---|---|---|\n",
       "| 99                  | M1/2501A            | 2019-02-28T00:00:00 | 22:44:00            | 90                  | 368                 | 41                  | 20                  | 56                  | NA                  | ⋯                   | NA                  | 57                  | 485                 | -0.4332477          | 51.86238            | Active              | midas               | northbound          | 507983              | 219359              | \n",
       "| 99                  | M1/2501A            | 2019-02-28T00:00:00 | 22:59:00            | 91                  | 301                 | 42                  | 18                  | 62                  | NA                  | ⋯                   | NA                  | 58                  | 423                 | -0.4332477          | 51.86238            | Active              | midas               | northbound          | 507983              | 219359              | \n",
       "| 99                  | M1/2501A            | 2019-02-28T00:00:00 | 23:14:00            | 92                  | 364                 | 23                  | 11                  | 60                  | NA                  | ⋯                   | NA                  | 58                  | 458                 | -0.4332477          | 51.86238            | Active              | midas               | northbound          | 507983              | 219359              | \n",
       "| 99                  | M1/2501A            | 2019-02-28T00:00:00 | 23:29:00            | 93                  | 300                 | 32                  | 18                  | 78                  | NA                  | ⋯                   | NA                  | 59                  | 428                 | -0.4332477          | 51.86238            | Active              | midas               | northbound          | 507983              | 219359              | \n",
       "| 99                  | M1/2501A            | 2019-02-28T00:00:00 | 23:44:00            | 94                  | 309                 | 34                  | 21                  | 70                  | NA                  | ⋯                   | NA                  | 60                  | 434                 | -0.4332477          | 51.86238            | Active              | midas               | northbound          | 507983              | 219359              | \n",
       "| 99                  | M1/2501A            | 2019-02-28T00:00:00 | 23:59:00            | 95                  | 279                 | 41                  | 18                  | 78                  | NA                  | ⋯                   | NA                  | 60                  | 416                 | -0.4332477          | 51.86238            | Active              | midas               | northbound          | 507983              | 219359              | \n",
       "\n",
       "\n"
      ],
      "text/plain": [
       "  site_id site_name report_date         time_period_end interval len_0_520_cm\n",
       "1 99      M1/2501A  2019-02-28T00:00:00 22:44:00        90       368         \n",
       "2 99      M1/2501A  2019-02-28T00:00:00 22:59:00        91       301         \n",
       "3 99      M1/2501A  2019-02-28T00:00:00 23:14:00        92       364         \n",
       "4 99      M1/2501A  2019-02-28T00:00:00 23:29:00        93       300         \n",
       "5 99      M1/2501A  2019-02-28T00:00:00 23:44:00        94       309         \n",
       "6 99      M1/2501A  2019-02-28T00:00:00 23:59:00        95       279         \n",
       "  len_521_660_cm len_661_1160_cm len_1160_plus_cm speed_0_10_mph ⋯\n",
       "1 41             20              56               NA             ⋯\n",
       "2 42             18              62               NA             ⋯\n",
       "3 23             11              60               NA             ⋯\n",
       "4 32             18              78               NA             ⋯\n",
       "5 34             21              70               NA             ⋯\n",
       "6 41             18              78               NA             ⋯\n",
       "  speed_80_plus_mph speed_avg_mph total_vol longitude  latitude status type \n",
       "1 NA                57            485       -0.4332477 51.86238 Active midas\n",
       "2 NA                58            423       -0.4332477 51.86238 Active midas\n",
       "3 NA                58            458       -0.4332477 51.86238 Active midas\n",
       "4 NA                59            428       -0.4332477 51.86238 Active midas\n",
       "5 NA                60            434       -0.4332477 51.86238 Active midas\n",
       "6 NA                60            416       -0.4332477 51.86238 Active midas\n",
       "  direction  easting northing\n",
       "1 northbound 507983  219359  \n",
       "2 northbound 507983  219359  \n",
       "3 northbound 507983  219359  \n",
       "4 northbound 507983  219359  \n",
       "5 northbound 507983  219359  \n",
       "6 northbound 507983  219359  "
      ]
     },
     "metadata": {},
     "output_type": "display_data"
    }
   ],
   "source": [
    "tail(readings)"
   ]
  },
  {
   "cell_type": "code",
   "execution_count": 23,
   "metadata": {},
   "outputs": [],
   "source": [
    "# write this out and split by midas,tame,tmu later (need to free memory)\n",
    "fwrite(readings, \"readings_combo.csv\", quote=F, row.names=F)"
   ]
  }
 ],
 "metadata": {
  "kernelspec": {
   "display_name": "R",
   "language": "R",
   "name": "ir"
  },
  "language_info": {
   "codemirror_mode": "r",
   "file_extension": ".r",
   "mimetype": "text/x-r-source",
   "name": "R",
   "pygments_lexer": "r",
   "version": "3.5.3"
  }
 },
 "nbformat": 4,
 "nbformat_minor": 2
}
