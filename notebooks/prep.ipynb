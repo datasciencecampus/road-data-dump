{
 "cells": [
  {
   "cell_type": "code",
   "execution_count": 9,
   "metadata": {},
   "outputs": [],
   "source": [
    "library(data.table)"
   ]
  },
  {
   "cell_type": "markdown",
   "metadata": {},
   "source": [
    "# read stuff in\n",
    "\n",
    "`combo.csv` is the result of combining individual CSVs in `data/`."
   ]
  },
  {
   "cell_type": "markdown",
   "metadata": {},
   "source": [
    "first read in site info"
   ]
  },
  {
   "cell_type": "code",
   "execution_count": 10,
   "metadata": {},
   "outputs": [
    {
     "data": {
      "text/html": [
       "<table>\n",
       "<thead><tr><th></th><th scope=col>id</th><th scope=col>name</th><th scope=col>description</th><th scope=col>longitude</th><th scope=col>latitude</th><th scope=col>status</th><th scope=col>type</th></tr></thead>\n",
       "<tbody>\n",
       "\t<tr><th scope=row>11776</th><td>17672                                                                                   </td><td>MIDAS site at M180/1119A priority 1 on link 116003101; GPS Ref: 478540;408686; Eastbound</td><td>M180/1119A                                                                              </td><td>-0.8155268                                                                              </td><td>53.56893                                                                                </td><td>Active                                                                                  </td><td>midas                                                                                   </td></tr>\n",
       "\t<tr><th scope=row>11777</th><td>17675                                                                                   </td><td>MIDAS site at M54/3154M priority 1 on link 111030902; GPS Ref: 391910;304529; Eastbound </td><td>M54/3154M                                                                               </td><td>-2.1209772                                                                              </td><td>52.63846                                                                                </td><td>Active                                                                                  </td><td>midas                                                                                   </td></tr>\n",
       "\t<tr><th scope=row>11778</th><td>17676                                                                                   </td><td>MIDAS site at M54/3155B priority 1 on link 200119801; GPS Ref: 391811;304504; Eastbound </td><td>M54/3155B                                                                               </td><td>-2.1224395                                                                              </td><td>52.63823                                                                                </td><td>Active                                                                                  </td><td>midas                                                                                   </td></tr>\n",
       "\t<tr><th scope=row>11779</th><td>17677                                                                                   </td><td>MIDAS site at M54/3160B priority 1 on link 200119801; GPS Ref: 391314;304488; Eastbound </td><td>M54/3160B                                                                               </td><td>-2.1297835                                                                              </td><td>52.63808                                                                                </td><td>Active                                                                                  </td><td>midas                                                                                   </td></tr>\n",
       "\t<tr><th scope=row>11780</th><td>17678                                                                                   </td><td>MIDAS site at M60/9314J priority 1 on link 115017301; GPS Ref: 382539;405788; Clockwise </td><td>M60/9314J                                                                               </td><td>-2.2649961                                                                              </td><td>53.54845                                                                                </td><td>Active                                                                                  </td><td>midas                                                                                   </td></tr>\n",
       "\t<tr><th scope=row>11781</th><td>17680                                                                                   </td><td>MIDAS site at M1/3924B priority 1 on link 107026401; GPS Ref: 447190;334381; Southbound </td><td>M1/3924B                                                                                </td><td>-1.2998282                                                                              </td><td>52.90482                                                                                </td><td>Active                                                                                  </td><td>midas                                                                                   </td></tr>\n",
       "</tbody>\n",
       "</table>\n"
      ],
      "text/latex": [
       "\\begin{tabular}{r|lllllll}\n",
       "  & id & name & description & longitude & latitude & status & type\\\\\n",
       "\\hline\n",
       "\t11776 & 17672                                                                                    & MIDAS site at M180/1119A priority 1 on link 116003101; GPS Ref: 478540;408686; Eastbound & M180/1119A                                                                               & -0.8155268                                                                               & 53.56893                                                                                 & Active                                                                                   & midas                                                                                   \\\\\n",
       "\t11777 & 17675                                                                                    & MIDAS site at M54/3154M priority 1 on link 111030902; GPS Ref: 391910;304529; Eastbound  & M54/3154M                                                                                & -2.1209772                                                                               & 52.63846                                                                                 & Active                                                                                   & midas                                                                                   \\\\\n",
       "\t11778 & 17676                                                                                    & MIDAS site at M54/3155B priority 1 on link 200119801; GPS Ref: 391811;304504; Eastbound  & M54/3155B                                                                                & -2.1224395                                                                               & 52.63823                                                                                 & Active                                                                                   & midas                                                                                   \\\\\n",
       "\t11779 & 17677                                                                                    & MIDAS site at M54/3160B priority 1 on link 200119801; GPS Ref: 391314;304488; Eastbound  & M54/3160B                                                                                & -2.1297835                                                                               & 52.63808                                                                                 & Active                                                                                   & midas                                                                                   \\\\\n",
       "\t11780 & 17678                                                                                    & MIDAS site at M60/9314J priority 1 on link 115017301; GPS Ref: 382539;405788; Clockwise  & M60/9314J                                                                                & -2.2649961                                                                               & 53.54845                                                                                 & Active                                                                                   & midas                                                                                   \\\\\n",
       "\t11781 & 17680                                                                                    & MIDAS site at M1/3924B priority 1 on link 107026401; GPS Ref: 447190;334381; Southbound  & M1/3924B                                                                                 & -1.2998282                                                                               & 52.90482                                                                                 & Active                                                                                   & midas                                                                                   \\\\\n",
       "\\end{tabular}\n"
      ],
      "text/markdown": [
       "\n",
       "| <!--/--> | id | name | description | longitude | latitude | status | type | \n",
       "|---|---|---|---|---|---|\n",
       "| 11776 | 17672                                                                                    | MIDAS site at M180/1119A priority 1 on link 116003101; GPS Ref: 478540;408686; Eastbound | M180/1119A                                                                               | -0.8155268                                                                               | 53.56893                                                                                 | Active                                                                                   | midas                                                                                    | \n",
       "| 11777 | 17675                                                                                    | MIDAS site at M54/3154M priority 1 on link 111030902; GPS Ref: 391910;304529; Eastbound  | M54/3154M                                                                                | -2.1209772                                                                               | 52.63846                                                                                 | Active                                                                                   | midas                                                                                    | \n",
       "| 11778 | 17676                                                                                    | MIDAS site at M54/3155B priority 1 on link 200119801; GPS Ref: 391811;304504; Eastbound  | M54/3155B                                                                                | -2.1224395                                                                               | 52.63823                                                                                 | Active                                                                                   | midas                                                                                    | \n",
       "| 11779 | 17677                                                                                    | MIDAS site at M54/3160B priority 1 on link 200119801; GPS Ref: 391314;304488; Eastbound  | M54/3160B                                                                                | -2.1297835                                                                               | 52.63808                                                                                 | Active                                                                                   | midas                                                                                    | \n",
       "| 11780 | 17678                                                                                    | MIDAS site at M60/9314J priority 1 on link 115017301; GPS Ref: 382539;405788; Clockwise  | M60/9314J                                                                                | -2.2649961                                                                               | 53.54845                                                                                 | Active                                                                                   | midas                                                                                    | \n",
       "| 11781 | 17680                                                                                    | MIDAS site at M1/3924B priority 1 on link 107026401; GPS Ref: 447190;334381; Southbound  | M1/3924B                                                                                 | -1.2998282                                                                               | 52.90482                                                                                 | Active                                                                                   | midas                                                                                    | \n",
       "\n",
       "\n"
      ],
      "text/plain": [
       "      id   \n",
       "11776 17672\n",
       "11777 17675\n",
       "11778 17676\n",
       "11779 17677\n",
       "11780 17678\n",
       "11781 17680\n",
       "      name                                                                                    \n",
       "11776 MIDAS site at M180/1119A priority 1 on link 116003101; GPS Ref: 478540;408686; Eastbound\n",
       "11777 MIDAS site at M54/3154M priority 1 on link 111030902; GPS Ref: 391910;304529; Eastbound \n",
       "11778 MIDAS site at M54/3155B priority 1 on link 200119801; GPS Ref: 391811;304504; Eastbound \n",
       "11779 MIDAS site at M54/3160B priority 1 on link 200119801; GPS Ref: 391314;304488; Eastbound \n",
       "11780 MIDAS site at M60/9314J priority 1 on link 115017301; GPS Ref: 382539;405788; Clockwise \n",
       "11781 MIDAS site at M1/3924B priority 1 on link 107026401; GPS Ref: 447190;334381; Southbound \n",
       "      description longitude  latitude status type \n",
       "11776 M180/1119A  -0.8155268 53.56893 Active midas\n",
       "11777 M54/3154M   -2.1209772 52.63846 Active midas\n",
       "11778 M54/3155B   -2.1224395 52.63823 Active midas\n",
       "11779 M54/3160B   -2.1297835 52.63808 Active midas\n",
       "11780 M60/9314J   -2.2649961 53.54845 Active midas\n",
       "11781 M1/3924B    -1.2998282 52.90482 Active midas"
      ]
     },
     "metadata": {},
     "output_type": "display_data"
    }
   ],
   "source": [
    "site.midas <- read.csv(\"../site_midas.csv\", stringsAsFactor=F)\n",
    "site.midas$type <- \"midas\"\n",
    "tail(site.midas)"
   ]
  },
  {
   "cell_type": "code",
   "execution_count": 11,
   "metadata": {},
   "outputs": [
    {
     "data": {
      "text/html": [
       "<table>\n",
       "<thead><tr><th></th><th scope=col>id</th><th scope=col>name</th><th scope=col>description</th><th scope=col>longitude</th><th scope=col>latitude</th><th scope=col>status</th><th scope=col>type</th></tr></thead>\n",
       "<tbody>\n",
       "\t<tr><th scope=row>854</th><td>14004                                                                                                                            </td><td>TAME Site 30362511 on link A38 eastbound within the A374 near Plymouth junction; GPS Ref: 251361;56956; Eastbound                </td><td>30362511                                                                                                                         </td><td>-4.092551                                                                                                                        </td><td>50.39363                                                                                                                         </td><td>Active                                                                                                                           </td><td>tame                                                                                                                             </td></tr>\n",
       "\t<tr><th scope=row>855</th><td>14307                                                                                                                            </td><td>TAME Site 30362502 on link Connector at A31/A338 near Ringwood (west); GPS Ref: 412871;104170; Eastbound                         </td><td>30362502                                                                                                                         </td><td>-1.818580                                                                                                                        </td><td>50.83691                                                                                                                         </td><td>Active                                                                                                                           </td><td>tame                                                                                                                             </td></tr>\n",
       "\t<tr><th scope=row>856</th><td>14308                                                                                                                            </td><td>TAME Site 30362503 on link A31 westbound exit for A338 near Ringwood (west); GPS Ref: 413287;104404; Westbound                   </td><td>30362503                                                                                                                         </td><td>-1.812664                                                                                                                        </td><td>50.83900                                                                                                                         </td><td>Active                                                                                                                           </td><td>tame                                                                                                                             </td></tr>\n",
       "\t<tr><th scope=row>857</th><td>14309                                                                                                                            </td><td>TAME Site 30362504 on link Fast slip link at A31 westbound exit for A338 near Ringwood (west); GPS Ref: 413296;104381; Westbound </td><td>30362504                                                                                                                         </td><td>-1.812537                                                                                                                        </td><td>50.83880                                                                                                                         </td><td>Active                                                                                                                           </td><td>tame                                                                                                                             </td></tr>\n",
       "\t<tr><th scope=row>858</th><td>14376                                                                                                                            </td><td>TAME Site 30362513 on link A21 northbound within the M25/A25 junction after exit for A25 east; GPS Ref: 549833;155937; Northbound</td><td>30362513                                                                                                                         </td><td> 0.147077                                                                                                                        </td><td>51.28287                                                                                                                         </td><td>Active                                                                                                                           </td><td>tame                                                                                                                             </td></tr>\n",
       "\t<tr><th scope=row>859</th><td>17679                                                                                                                            </td><td>TAME Site 30362514 on link A31 eastbound exit for A338 near Ringwood (west); GPS Ref: 412870;104170; Eastbound                   </td><td>30362514                                                                                                                         </td><td>-1.818594                                                                                                                        </td><td>50.83691                                                                                                                         </td><td>Active                                                                                                                           </td><td>tame                                                                                                                             </td></tr>\n",
       "</tbody>\n",
       "</table>\n"
      ],
      "text/latex": [
       "\\begin{tabular}{r|lllllll}\n",
       "  & id & name & description & longitude & latitude & status & type\\\\\n",
       "\\hline\n",
       "\t854 & 14004                                                                                                                             & TAME Site 30362511 on link A38 eastbound within the A374 near Plymouth junction; GPS Ref: 251361;56956; Eastbound                 & 30362511                                                                                                                          & -4.092551                                                                                                                         & 50.39363                                                                                                                          & Active                                                                                                                            & tame                                                                                                                             \\\\\n",
       "\t855 & 14307                                                                                                                             & TAME Site 30362502 on link Connector at A31/A338 near Ringwood (west); GPS Ref: 412871;104170; Eastbound                          & 30362502                                                                                                                          & -1.818580                                                                                                                         & 50.83691                                                                                                                          & Active                                                                                                                            & tame                                                                                                                             \\\\\n",
       "\t856 & 14308                                                                                                                             & TAME Site 30362503 on link A31 westbound exit for A338 near Ringwood (west); GPS Ref: 413287;104404; Westbound                    & 30362503                                                                                                                          & -1.812664                                                                                                                         & 50.83900                                                                                                                          & Active                                                                                                                            & tame                                                                                                                             \\\\\n",
       "\t857 & 14309                                                                                                                             & TAME Site 30362504 on link Fast slip link at A31 westbound exit for A338 near Ringwood (west); GPS Ref: 413296;104381; Westbound  & 30362504                                                                                                                          & -1.812537                                                                                                                         & 50.83880                                                                                                                          & Active                                                                                                                            & tame                                                                                                                             \\\\\n",
       "\t858 & 14376                                                                                                                             & TAME Site 30362513 on link A21 northbound within the M25/A25 junction after exit for A25 east; GPS Ref: 549833;155937; Northbound & 30362513                                                                                                                          &  0.147077                                                                                                                         & 51.28287                                                                                                                          & Active                                                                                                                            & tame                                                                                                                             \\\\\n",
       "\t859 & 17679                                                                                                                             & TAME Site 30362514 on link A31 eastbound exit for A338 near Ringwood (west); GPS Ref: 412870;104170; Eastbound                    & 30362514                                                                                                                          & -1.818594                                                                                                                         & 50.83691                                                                                                                          & Active                                                                                                                            & tame                                                                                                                             \\\\\n",
       "\\end{tabular}\n"
      ],
      "text/markdown": [
       "\n",
       "| <!--/--> | id | name | description | longitude | latitude | status | type | \n",
       "|---|---|---|---|---|---|\n",
       "| 854 | 14004                                                                                                                             | TAME Site 30362511 on link A38 eastbound within the A374 near Plymouth junction; GPS Ref: 251361;56956; Eastbound                 | 30362511                                                                                                                          | -4.092551                                                                                                                         | 50.39363                                                                                                                          | Active                                                                                                                            | tame                                                                                                                              | \n",
       "| 855 | 14307                                                                                                                             | TAME Site 30362502 on link Connector at A31/A338 near Ringwood (west); GPS Ref: 412871;104170; Eastbound                          | 30362502                                                                                                                          | -1.818580                                                                                                                         | 50.83691                                                                                                                          | Active                                                                                                                            | tame                                                                                                                              | \n",
       "| 856 | 14308                                                                                                                             | TAME Site 30362503 on link A31 westbound exit for A338 near Ringwood (west); GPS Ref: 413287;104404; Westbound                    | 30362503                                                                                                                          | -1.812664                                                                                                                         | 50.83900                                                                                                                          | Active                                                                                                                            | tame                                                                                                                              | \n",
       "| 857 | 14309                                                                                                                             | TAME Site 30362504 on link Fast slip link at A31 westbound exit for A338 near Ringwood (west); GPS Ref: 413296;104381; Westbound  | 30362504                                                                                                                          | -1.812537                                                                                                                         | 50.83880                                                                                                                          | Active                                                                                                                            | tame                                                                                                                              | \n",
       "| 858 | 14376                                                                                                                             | TAME Site 30362513 on link A21 northbound within the M25/A25 junction after exit for A25 east; GPS Ref: 549833;155937; Northbound | 30362513                                                                                                                          |  0.147077                                                                                                                         | 51.28287                                                                                                                          | Active                                                                                                                            | tame                                                                                                                              | \n",
       "| 859 | 17679                                                                                                                             | TAME Site 30362514 on link A31 eastbound exit for A338 near Ringwood (west); GPS Ref: 412870;104170; Eastbound                    | 30362514                                                                                                                          | -1.818594                                                                                                                         | 50.83691                                                                                                                          | Active                                                                                                                            | tame                                                                                                                              | \n",
       "\n",
       "\n"
      ],
      "text/plain": [
       "    id   \n",
       "854 14004\n",
       "855 14307\n",
       "856 14308\n",
       "857 14309\n",
       "858 14376\n",
       "859 17679\n",
       "    name                                                                                                                             \n",
       "854 TAME Site 30362511 on link A38 eastbound within the A374 near Plymouth junction; GPS Ref: 251361;56956; Eastbound                \n",
       "855 TAME Site 30362502 on link Connector at A31/A338 near Ringwood (west); GPS Ref: 412871;104170; Eastbound                         \n",
       "856 TAME Site 30362503 on link A31 westbound exit for A338 near Ringwood (west); GPS Ref: 413287;104404; Westbound                   \n",
       "857 TAME Site 30362504 on link Fast slip link at A31 westbound exit for A338 near Ringwood (west); GPS Ref: 413296;104381; Westbound \n",
       "858 TAME Site 30362513 on link A21 northbound within the M25/A25 junction after exit for A25 east; GPS Ref: 549833;155937; Northbound\n",
       "859 TAME Site 30362514 on link A31 eastbound exit for A338 near Ringwood (west); GPS Ref: 412870;104170; Eastbound                   \n",
       "    description longitude latitude status type\n",
       "854 30362511    -4.092551 50.39363 Active tame\n",
       "855 30362502    -1.818580 50.83691 Active tame\n",
       "856 30362503    -1.812664 50.83900 Active tame\n",
       "857 30362504    -1.812537 50.83880 Active tame\n",
       "858 30362513     0.147077 51.28287 Active tame\n",
       "859 30362514    -1.818594 50.83691 Active tame"
      ]
     },
     "metadata": {},
     "output_type": "display_data"
    }
   ],
   "source": [
    "site.tame <- read.csv(\"../site_tame.csv\", stringsAsFactor=F)\n",
    "site.tame$type <- \"tame\"\n",
    "tail(site.tame)"
   ]
  },
  {
   "cell_type": "code",
   "execution_count": 12,
   "metadata": {},
   "outputs": [
    {
     "data": {
      "text/html": [
       "<table>\n",
       "<thead><tr><th></th><th scope=col>id</th><th scope=col>name</th><th scope=col>description</th><th scope=col>longitude</th><th scope=col>latitude</th><th scope=col>status</th><th scope=col>type</th></tr></thead>\n",
       "<tbody>\n",
       "\t<tr><th scope=row>2790</th><td>16935                                                                                                                        </td><td>TMU 7068/2 on A1(M) southbound within J42 on road A1(M) Southbound at location 53.765282677041000,-1.283889018408000         </td><td>NO TMU ID                                                                                                                    </td><td>-1.2838890                                                                                                                   </td><td>53.76528                                                                                                                     </td><td>Inactive                                                                                                                     </td><td>tmu                                                                                                                          </td></tr>\n",
       "\t<tr><th scope=row>2791</th><td>16936                                                                                                                        </td><td>TMU 7069/1 on A1(M) northbound between J42 and J43 on road A1(M) Northbound at location 53.792111151099000,-1.322338625921000</td><td>NO TMU ID                                                                                                                    </td><td>-1.3223386                                                                                                                   </td><td>53.79211                                                                                                                     </td><td>Inactive                                                                                                                     </td><td>tmu                                                                                                                          </td></tr>\n",
       "\t<tr><th scope=row>2792</th><td>17668                                                                                                                        </td><td>TMU Site 9967/1 on link A5 northbound between B4100 and A4146 near Bletchley (south); GPS Ref: 490291;232886; Northbound     </td><td>9967/1                                                                                                                       </td><td>-0.6865507                                                                                                                   </td><td>51.98711                                                                                                                     </td><td>Inactive                                                                                                                     </td><td>tmu                                                                                                                          </td></tr>\n",
       "\t<tr><th scope=row>2793</th><td>17669                                                                                                                        </td><td>TMU Site 9967/2 on link A5 southbound between A4146 near Bletchley (south) and B4100; GPS Ref: 490300;232907; Southbound     </td><td>9967/2                                                                                                                       </td><td>-0.6864142                                                                                                                   </td><td>51.98730                                                                                                                     </td><td>Inactive                                                                                                                     </td><td>tmu                                                                                                                          </td></tr>\n",
       "\t<tr><th scope=row>2794</th><td>17673                                                                                                                        </td><td>TMU Site 9968/1 on link A421 northbound between A600 and A603; GPS Ref: 507840;248078; Northbound                            </td><td>9968/1                                                                                                                       </td><td>-0.4263033                                                                                                                   </td><td>52.12052                                                                                                                     </td><td>Active                                                                                                                       </td><td>tmu                                                                                                                          </td></tr>\n",
       "\t<tr><th scope=row>2795</th><td>17674                                                                                                                        </td><td>TMU Site 9968/2 on link A421 southbound between A603 and A600; GPS Ref: 507852;248068; Southbound                            </td><td>9968/2                                                                                                                       </td><td>-0.4261312                                                                                                                   </td><td>52.12043                                                                                                                     </td><td>Active                                                                                                                       </td><td>tmu                                                                                                                          </td></tr>\n",
       "</tbody>\n",
       "</table>\n"
      ],
      "text/latex": [
       "\\begin{tabular}{r|lllllll}\n",
       "  & id & name & description & longitude & latitude & status & type\\\\\n",
       "\\hline\n",
       "\t2790 & 16935                                                                                                                         & TMU 7068/2 on A1(M) southbound within J42 on road A1(M) Southbound at location 53.765282677041000,-1.283889018408000          & NO TMU ID                                                                                                                     & -1.2838890                                                                                                                    & 53.76528                                                                                                                      & Inactive                                                                                                                      & tmu                                                                                                                          \\\\\n",
       "\t2791 & 16936                                                                                                                         & TMU 7069/1 on A1(M) northbound between J42 and J43 on road A1(M) Northbound at location 53.792111151099000,-1.322338625921000 & NO TMU ID                                                                                                                     & -1.3223386                                                                                                                    & 53.79211                                                                                                                      & Inactive                                                                                                                      & tmu                                                                                                                          \\\\\n",
       "\t2792 & 17668                                                                                                                         & TMU Site 9967/1 on link A5 northbound between B4100 and A4146 near Bletchley (south); GPS Ref: 490291;232886; Northbound      & 9967/1                                                                                                                        & -0.6865507                                                                                                                    & 51.98711                                                                                                                      & Inactive                                                                                                                      & tmu                                                                                                                          \\\\\n",
       "\t2793 & 17669                                                                                                                         & TMU Site 9967/2 on link A5 southbound between A4146 near Bletchley (south) and B4100; GPS Ref: 490300;232907; Southbound      & 9967/2                                                                                                                        & -0.6864142                                                                                                                    & 51.98730                                                                                                                      & Inactive                                                                                                                      & tmu                                                                                                                          \\\\\n",
       "\t2794 & 17673                                                                                                                         & TMU Site 9968/1 on link A421 northbound between A600 and A603; GPS Ref: 507840;248078; Northbound                             & 9968/1                                                                                                                        & -0.4263033                                                                                                                    & 52.12052                                                                                                                      & Active                                                                                                                        & tmu                                                                                                                          \\\\\n",
       "\t2795 & 17674                                                                                                                         & TMU Site 9968/2 on link A421 southbound between A603 and A600; GPS Ref: 507852;248068; Southbound                             & 9968/2                                                                                                                        & -0.4261312                                                                                                                    & 52.12043                                                                                                                      & Active                                                                                                                        & tmu                                                                                                                          \\\\\n",
       "\\end{tabular}\n"
      ],
      "text/markdown": [
       "\n",
       "| <!--/--> | id | name | description | longitude | latitude | status | type | \n",
       "|---|---|---|---|---|---|\n",
       "| 2790 | 16935                                                                                                                         | TMU 7068/2 on A1(M) southbound within J42 on road A1(M) Southbound at location 53.765282677041000,-1.283889018408000          | NO TMU ID                                                                                                                     | -1.2838890                                                                                                                    | 53.76528                                                                                                                      | Inactive                                                                                                                      | tmu                                                                                                                           | \n",
       "| 2791 | 16936                                                                                                                         | TMU 7069/1 on A1(M) northbound between J42 and J43 on road A1(M) Northbound at location 53.792111151099000,-1.322338625921000 | NO TMU ID                                                                                                                     | -1.3223386                                                                                                                    | 53.79211                                                                                                                      | Inactive                                                                                                                      | tmu                                                                                                                           | \n",
       "| 2792 | 17668                                                                                                                         | TMU Site 9967/1 on link A5 northbound between B4100 and A4146 near Bletchley (south); GPS Ref: 490291;232886; Northbound      | 9967/1                                                                                                                        | -0.6865507                                                                                                                    | 51.98711                                                                                                                      | Inactive                                                                                                                      | tmu                                                                                                                           | \n",
       "| 2793 | 17669                                                                                                                         | TMU Site 9967/2 on link A5 southbound between A4146 near Bletchley (south) and B4100; GPS Ref: 490300;232907; Southbound      | 9967/2                                                                                                                        | -0.6864142                                                                                                                    | 51.98730                                                                                                                      | Inactive                                                                                                                      | tmu                                                                                                                           | \n",
       "| 2794 | 17673                                                                                                                         | TMU Site 9968/1 on link A421 northbound between A600 and A603; GPS Ref: 507840;248078; Northbound                             | 9968/1                                                                                                                        | -0.4263033                                                                                                                    | 52.12052                                                                                                                      | Active                                                                                                                        | tmu                                                                                                                           | \n",
       "| 2795 | 17674                                                                                                                         | TMU Site 9968/2 on link A421 southbound between A603 and A600; GPS Ref: 507852;248068; Southbound                             | 9968/2                                                                                                                        | -0.4261312                                                                                                                    | 52.12043                                                                                                                      | Active                                                                                                                        | tmu                                                                                                                           | \n",
       "\n",
       "\n"
      ],
      "text/plain": [
       "     id   \n",
       "2790 16935\n",
       "2791 16936\n",
       "2792 17668\n",
       "2793 17669\n",
       "2794 17673\n",
       "2795 17674\n",
       "     name                                                                                                                         \n",
       "2790 TMU 7068/2 on A1(M) southbound within J42 on road A1(M) Southbound at location 53.765282677041000,-1.283889018408000         \n",
       "2791 TMU 7069/1 on A1(M) northbound between J42 and J43 on road A1(M) Northbound at location 53.792111151099000,-1.322338625921000\n",
       "2792 TMU Site 9967/1 on link A5 northbound between B4100 and A4146 near Bletchley (south); GPS Ref: 490291;232886; Northbound     \n",
       "2793 TMU Site 9967/2 on link A5 southbound between A4146 near Bletchley (south) and B4100; GPS Ref: 490300;232907; Southbound     \n",
       "2794 TMU Site 9968/1 on link A421 northbound between A600 and A603; GPS Ref: 507840;248078; Northbound                            \n",
       "2795 TMU Site 9968/2 on link A421 southbound between A603 and A600; GPS Ref: 507852;248068; Southbound                            \n",
       "     description longitude  latitude status   type\n",
       "2790 NO TMU ID   -1.2838890 53.76528 Inactive tmu \n",
       "2791 NO TMU ID   -1.3223386 53.79211 Inactive tmu \n",
       "2792 9967/1      -0.6865507 51.98711 Inactive tmu \n",
       "2793 9967/2      -0.6864142 51.98730 Inactive tmu \n",
       "2794 9968/1      -0.4263033 52.12052 Active   tmu \n",
       "2795 9968/2      -0.4261312 52.12043 Active   tmu "
      ]
     },
     "metadata": {},
     "output_type": "display_data"
    }
   ],
   "source": [
    "site.tmu <- read.csv(\"../site_tmu.csv\", stringsAsFactor=F)\n",
    "site.tmu$type <- \"tmu\"\n",
    "tail(site.tmu)"
   ]
  },
  {
   "cell_type": "markdown",
   "metadata": {},
   "source": [
    "combine site info"
   ]
  },
  {
   "cell_type": "code",
   "execution_count": 13,
   "metadata": {},
   "outputs": [],
   "source": [
    "sites <- rbind(site.midas, site.tame, site.tmu)"
   ]
  },
  {
   "cell_type": "markdown",
   "metadata": {},
   "source": [
    "read in the actual data obtained from `webtri.sh`"
   ]
  },
  {
   "cell_type": "code",
   "execution_count": 14,
   "metadata": {},
   "outputs": [],
   "source": [
    "readings <- fread(\"../combo.csv\", stringsAsFactor=F)"
   ]
  },
  {
   "cell_type": "code",
   "execution_count": 15,
   "metadata": {},
   "outputs": [
    {
     "data": {
      "text/html": [
       "<table>\n",
       "<thead><tr><th scope=col>site_id</th><th scope=col>site_name</th><th scope=col>report_date</th><th scope=col>time_period_end</th><th scope=col>interval</th><th scope=col>len_0_520_cm</th><th scope=col>len_521_660_cm</th><th scope=col>len_661_1160_cm</th><th scope=col>len_1160_plus_cm</th><th scope=col>speed_0_10_mph</th><th scope=col>⋯</th><th scope=col>speed_36_40_mph</th><th scope=col>speed_41_45_mph</th><th scope=col>speed_46_50_mph</th><th scope=col>speed_51_55_mph</th><th scope=col>speed_56_60_mph</th><th scope=col>speed_61_70_mph</th><th scope=col>speed_71_80_mph</th><th scope=col>speed_80_plus_mph</th><th scope=col>speed_avg_mph</th><th scope=col>total_vol</th></tr></thead>\n",
       "<tbody>\n",
       "\t<tr><td>99                 </td><td>M1/2501A           </td><td>2019-03-31T00:00:00</td><td>22:44:00           </td><td>90                 </td><td>441                </td><td>53                 </td><td>21                 </td><td>37                 </td><td>NA                 </td><td>⋯                  </td><td>NA                 </td><td>NA                 </td><td>NA                 </td><td>NA                 </td><td>NA                 </td><td>NA                 </td><td>NA                 </td><td>NA                 </td><td>64                 </td><td>552                </td></tr>\n",
       "\t<tr><td>99                 </td><td>M1/2501A           </td><td>2019-03-31T00:00:00</td><td>22:59:00           </td><td>91                 </td><td>457                </td><td>44                 </td><td>21                 </td><td>42                 </td><td>NA                 </td><td>⋯                  </td><td>NA                 </td><td>NA                 </td><td>NA                 </td><td>NA                 </td><td>NA                 </td><td>NA                 </td><td>NA                 </td><td>NA                 </td><td>65                 </td><td>564                </td></tr>\n",
       "\t<tr><td>99                 </td><td>M1/2501A           </td><td>2019-03-31T00:00:00</td><td>23:14:00           </td><td>92                 </td><td>399                </td><td>58                 </td><td>13                 </td><td>40                 </td><td>NA                 </td><td>⋯                  </td><td>NA                 </td><td>NA                 </td><td>NA                 </td><td>NA                 </td><td>NA                 </td><td>NA                 </td><td>NA                 </td><td>NA                 </td><td>64                 </td><td>510                </td></tr>\n",
       "\t<tr><td>99                 </td><td>M1/2501A           </td><td>2019-03-31T00:00:00</td><td>23:29:00           </td><td>93                 </td><td>405                </td><td>44                 </td><td>13                 </td><td>43                 </td><td>NA                 </td><td>⋯                  </td><td>NA                 </td><td>NA                 </td><td>NA                 </td><td>NA                 </td><td>NA                 </td><td>NA                 </td><td>NA                 </td><td>NA                 </td><td>64                 </td><td>505                </td></tr>\n",
       "\t<tr><td>99                 </td><td>M1/2501A           </td><td>2019-03-31T00:00:00</td><td>23:44:00           </td><td>94                 </td><td>348                </td><td>39                 </td><td>16                 </td><td>33                 </td><td>NA                 </td><td>⋯                  </td><td>NA                 </td><td>NA                 </td><td>NA                 </td><td>NA                 </td><td>NA                 </td><td>NA                 </td><td>NA                 </td><td>NA                 </td><td>65                 </td><td>436                </td></tr>\n",
       "\t<tr><td>99                 </td><td>M1/2501A           </td><td>2019-03-31T00:00:00</td><td>23:59:00           </td><td>95                 </td><td>311                </td><td>42                 </td><td>13                 </td><td>59                 </td><td>NA                 </td><td>⋯                  </td><td>NA                 </td><td>NA                 </td><td>NA                 </td><td>NA                 </td><td>NA                 </td><td>NA                 </td><td>NA                 </td><td>NA                 </td><td>64                 </td><td>425                </td></tr>\n",
       "</tbody>\n",
       "</table>\n"
      ],
      "text/latex": [
       "\\begin{tabular}{r|lllllllllllllllllllllllll}\n",
       " site\\_id & site\\_name & report\\_date & time\\_period\\_end & interval & len\\_0\\_520\\_cm & len\\_521\\_660\\_cm & len\\_661\\_1160\\_cm & len\\_1160\\_plus\\_cm & speed\\_0\\_10\\_mph & ⋯ & speed\\_36\\_40\\_mph & speed\\_41\\_45\\_mph & speed\\_46\\_50\\_mph & speed\\_51\\_55\\_mph & speed\\_56\\_60\\_mph & speed\\_61\\_70\\_mph & speed\\_71\\_80\\_mph & speed\\_80\\_plus\\_mph & speed\\_avg\\_mph & total\\_vol\\\\\n",
       "\\hline\n",
       "\t 99                  & M1/2501A            & 2019-03-31T00:00:00 & 22:44:00            & 90                  & 441                 & 53                  & 21                  & 37                  & NA                  & ⋯                   & NA                  & NA                  & NA                  & NA                  & NA                  & NA                  & NA                  & NA                  & 64                  & 552                \\\\\n",
       "\t 99                  & M1/2501A            & 2019-03-31T00:00:00 & 22:59:00            & 91                  & 457                 & 44                  & 21                  & 42                  & NA                  & ⋯                   & NA                  & NA                  & NA                  & NA                  & NA                  & NA                  & NA                  & NA                  & 65                  & 564                \\\\\n",
       "\t 99                  & M1/2501A            & 2019-03-31T00:00:00 & 23:14:00            & 92                  & 399                 & 58                  & 13                  & 40                  & NA                  & ⋯                   & NA                  & NA                  & NA                  & NA                  & NA                  & NA                  & NA                  & NA                  & 64                  & 510                \\\\\n",
       "\t 99                  & M1/2501A            & 2019-03-31T00:00:00 & 23:29:00            & 93                  & 405                 & 44                  & 13                  & 43                  & NA                  & ⋯                   & NA                  & NA                  & NA                  & NA                  & NA                  & NA                  & NA                  & NA                  & 64                  & 505                \\\\\n",
       "\t 99                  & M1/2501A            & 2019-03-31T00:00:00 & 23:44:00            & 94                  & 348                 & 39                  & 16                  & 33                  & NA                  & ⋯                   & NA                  & NA                  & NA                  & NA                  & NA                  & NA                  & NA                  & NA                  & 65                  & 436                \\\\\n",
       "\t 99                  & M1/2501A            & 2019-03-31T00:00:00 & 23:59:00            & 95                  & 311                 & 42                  & 13                  & 59                  & NA                  & ⋯                   & NA                  & NA                  & NA                  & NA                  & NA                  & NA                  & NA                  & NA                  & 64                  & 425                \\\\\n",
       "\\end{tabular}\n"
      ],
      "text/markdown": [
       "\n",
       "site_id | site_name | report_date | time_period_end | interval | len_0_520_cm | len_521_660_cm | len_661_1160_cm | len_1160_plus_cm | speed_0_10_mph | ⋯ | speed_36_40_mph | speed_41_45_mph | speed_46_50_mph | speed_51_55_mph | speed_56_60_mph | speed_61_70_mph | speed_71_80_mph | speed_80_plus_mph | speed_avg_mph | total_vol | \n",
       "|---|---|---|---|---|---|\n",
       "| 99                  | M1/2501A            | 2019-03-31T00:00:00 | 22:44:00            | 90                  | 441                 | 53                  | 21                  | 37                  | NA                  | ⋯                   | NA                  | NA                  | NA                  | NA                  | NA                  | NA                  | NA                  | NA                  | 64                  | 552                 | \n",
       "| 99                  | M1/2501A            | 2019-03-31T00:00:00 | 22:59:00            | 91                  | 457                 | 44                  | 21                  | 42                  | NA                  | ⋯                   | NA                  | NA                  | NA                  | NA                  | NA                  | NA                  | NA                  | NA                  | 65                  | 564                 | \n",
       "| 99                  | M1/2501A            | 2019-03-31T00:00:00 | 23:14:00            | 92                  | 399                 | 58                  | 13                  | 40                  | NA                  | ⋯                   | NA                  | NA                  | NA                  | NA                  | NA                  | NA                  | NA                  | NA                  | 64                  | 510                 | \n",
       "| 99                  | M1/2501A            | 2019-03-31T00:00:00 | 23:29:00            | 93                  | 405                 | 44                  | 13                  | 43                  | NA                  | ⋯                   | NA                  | NA                  | NA                  | NA                  | NA                  | NA                  | NA                  | NA                  | 64                  | 505                 | \n",
       "| 99                  | M1/2501A            | 2019-03-31T00:00:00 | 23:44:00            | 94                  | 348                 | 39                  | 16                  | 33                  | NA                  | ⋯                   | NA                  | NA                  | NA                  | NA                  | NA                  | NA                  | NA                  | NA                  | 65                  | 436                 | \n",
       "| 99                  | M1/2501A            | 2019-03-31T00:00:00 | 23:59:00            | 95                  | 311                 | 42                  | 13                  | 59                  | NA                  | ⋯                   | NA                  | NA                  | NA                  | NA                  | NA                  | NA                  | NA                  | NA                  | 64                  | 425                 | \n",
       "\n",
       "\n"
      ],
      "text/plain": [
       "  site_id site_name report_date         time_period_end interval len_0_520_cm\n",
       "1 99      M1/2501A  2019-03-31T00:00:00 22:44:00        90       441         \n",
       "2 99      M1/2501A  2019-03-31T00:00:00 22:59:00        91       457         \n",
       "3 99      M1/2501A  2019-03-31T00:00:00 23:14:00        92       399         \n",
       "4 99      M1/2501A  2019-03-31T00:00:00 23:29:00        93       405         \n",
       "5 99      M1/2501A  2019-03-31T00:00:00 23:44:00        94       348         \n",
       "6 99      M1/2501A  2019-03-31T00:00:00 23:59:00        95       311         \n",
       "  len_521_660_cm len_661_1160_cm len_1160_plus_cm speed_0_10_mph ⋯\n",
       "1 53             21              37               NA             ⋯\n",
       "2 44             21              42               NA             ⋯\n",
       "3 58             13              40               NA             ⋯\n",
       "4 44             13              43               NA             ⋯\n",
       "5 39             16              33               NA             ⋯\n",
       "6 42             13              59               NA             ⋯\n",
       "  speed_36_40_mph speed_41_45_mph speed_46_50_mph speed_51_55_mph\n",
       "1 NA              NA              NA              NA             \n",
       "2 NA              NA              NA              NA             \n",
       "3 NA              NA              NA              NA             \n",
       "4 NA              NA              NA              NA             \n",
       "5 NA              NA              NA              NA             \n",
       "6 NA              NA              NA              NA             \n",
       "  speed_56_60_mph speed_61_70_mph speed_71_80_mph speed_80_plus_mph\n",
       "1 NA              NA              NA              NA               \n",
       "2 NA              NA              NA              NA               \n",
       "3 NA              NA              NA              NA               \n",
       "4 NA              NA              NA              NA               \n",
       "5 NA              NA              NA              NA               \n",
       "6 NA              NA              NA              NA               \n",
       "  speed_avg_mph total_vol\n",
       "1 64            552      \n",
       "2 65            564      \n",
       "3 64            510      \n",
       "4 64            505      \n",
       "5 65            436      \n",
       "6 64            425      "
      ]
     },
     "metadata": {},
     "output_type": "display_data"
    }
   ],
   "source": [
    "tail(readings)"
   ]
  },
  {
   "cell_type": "code",
   "execution_count": 16,
   "metadata": {},
   "outputs": [
    {
     "data": {
      "text/html": [
       "30196192"
      ],
      "text/latex": [
       "30196192"
      ],
      "text/markdown": [
       "30196192"
      ],
      "text/plain": [
       "[1] 30196192"
      ]
     },
     "metadata": {},
     "output_type": "display_data"
    }
   ],
   "source": [
    "nrow(readings)"
   ]
  },
  {
   "cell_type": "code",
   "execution_count": 17,
   "metadata": {},
   "outputs": [
    {
     "data": {
      "text/html": [
       "<table>\n",
       "<thead><tr><th></th><th scope=col>used</th><th scope=col>(Mb)</th><th scope=col>gc trigger</th><th scope=col>(Mb)</th><th scope=col>max used</th><th scope=col>(Mb)</th></tr></thead>\n",
       "<tbody>\n",
       "\t<tr><th scope=row>Ncells</th><td>   603189</td><td>  32.3   </td><td>  1202614</td><td>  64.3   </td><td>  1202614</td><td>  64.3   </td></tr>\n",
       "\t<tr><th scope=row>Vcells</th><td>507757470</td><td>3873.9   </td><td>681600960</td><td>5200.3   </td><td>508224642</td><td>3877.5   </td></tr>\n",
       "</tbody>\n",
       "</table>\n"
      ],
      "text/latex": [
       "\\begin{tabular}{r|llllll}\n",
       "  & used & (Mb) & gc trigger & (Mb) & max used & (Mb)\\\\\n",
       "\\hline\n",
       "\tNcells &    603189 &   32.3    &   1202614 &   64.3    &   1202614 &   64.3   \\\\\n",
       "\tVcells & 507757470 & 3873.9    & 681600960 & 5200.3    & 508224642 & 3877.5   \\\\\n",
       "\\end{tabular}\n"
      ],
      "text/markdown": [
       "\n",
       "| <!--/--> | used | (Mb) | gc trigger | (Mb) | max used | (Mb) | \n",
       "|---|---|\n",
       "| Ncells |    603189 |   32.3    |   1202614 |   64.3    |   1202614 |   64.3    | \n",
       "| Vcells | 507757470 | 3873.9    | 681600960 | 5200.3    | 508224642 | 3877.5    | \n",
       "\n",
       "\n"
      ],
      "text/plain": [
       "       used      (Mb)   gc trigger (Mb)   max used  (Mb)  \n",
       "Ncells    603189   32.3   1202614    64.3   1202614   64.3\n",
       "Vcells 507757470 3873.9 681600960  5200.3 508224642 3877.5"
      ]
     },
     "metadata": {},
     "output_type": "display_data"
    }
   ],
   "source": [
    "gc()"
   ]
  },
  {
   "cell_type": "markdown",
   "metadata": {},
   "source": [
    "# unwrap embedded site meta info\n",
    "\n",
    "`name` column contains extra `;` delimited info.\n",
    "example `ex`:"
   ]
  },
  {
   "cell_type": "code",
   "execution_count": 18,
   "metadata": {},
   "outputs": [
    {
     "data": {
      "text/html": [
       "<table>\n",
       "<thead><tr><th></th><th scope=col>id</th><th scope=col>name</th><th scope=col>description</th><th scope=col>longitude</th><th scope=col>latitude</th><th scope=col>status</th><th scope=col>type</th></tr></thead>\n",
       "<tbody>\n",
       "\t<tr><th scope=row>11483</th><td>17377                                                                                                               </td><td>MIDAS site at M1/3869K priority 1 on link 107026902; GPS Ref: 447117;329229; Northbound                             </td><td>M1/3869K                                                                                                            </td><td>-1.3016567                                                                                                          </td><td>52.85852                                                                                                            </td><td>Active                                                                                                              </td><td>midas                                                                                                               </td></tr>\n",
       "\t<tr><th scope=row>6369</th><td> 9704                                                                                                               </td><td>MIDAS site at M18/7546B priority 1 on link 116007601; GPS Ref: 449694;391595; Southbound                            </td><td>M18/7546B                                                                                                           </td><td>-1.2537441                                                                                                          </td><td>53.41884                                                                                                            </td><td>Active                                                                                                              </td><td>midas                                                                                                               </td></tr>\n",
       "\t<tr><th scope=row>4244</th><td> 4249                                                                                                               </td><td>MIDAS site at M6/7300B priority 1 on link 117007102; GPS Ref: 354233;411273; Southbound                             </td><td>M6/7300B                                                                                                            </td><td>-2.6929827                                                                                                          </td><td>53.59604                                                                                                            </td><td>Active                                                                                                              </td><td>midas                                                                                                               </td></tr>\n",
       "\t<tr><th scope=row>8110</th><td>11596                                                                                                               </td><td>                                                                                                                    </td><td>M6/6708J                                                                                                            </td><td>-2.3457756                                                                                                          </td><td>53.15188                                                                                                            </td><td>Inactive                                                                                                            </td><td>midas                                                                                                               </td></tr>\n",
       "\t<tr><th scope=row>7208</th><td>10672                                                                                                               </td><td>MIDAS site at M6/6120L priority 1 on link 111034901; GPS Ref: 393023;310629; Southbound                             </td><td>M6/6120L                                                                                                            </td><td>-2.1046620                                                                                                          </td><td>52.69331                                                                                                            </td><td>Active                                                                                                              </td><td>midas                                                                                                               </td></tr>\n",
       "\t<tr><th scope=row>12742</th><td> 7337                                                                                                               </td><td>TMU Site 5019/1 on link A30 westbound between A388 near Launceston (west) and A395; GPS Ref: 230052;83647; Westbound</td><td>5019/1                                                                                                              </td><td>-4.4042428                                                                                                          </td><td>50.62768                                                                                                            </td><td>Active                                                                                                              </td><td>tmu                                                                                                                 </td></tr>\n",
       "\t<tr><th scope=row>1117</th><td> 1117                                                                                                               </td><td>MIDAS site at M621/1002A priority 1 on link 116034401; GPS Ref: 423443;427933; Eastbound                            </td><td>M621/1002A                                                                                                          </td><td>-1.6460044                                                                                                          </td><td>53.74726                                                                                                            </td><td>Active                                                                                                              </td><td>midas                                                                                                               </td></tr>\n",
       "\t<tr><th scope=row>12055</th><td> 6602                                                                                                               </td><td>TAME Site 30360768 on link A38 northbound between B600 and M1; GPS Ref: 443277;355279; Northbound                   </td><td>30360768                                                                                                            </td><td>-1.3552134                                                                                                          </td><td>53.09299                                                                                                            </td><td>Active                                                                                                              </td><td>tame                                                                                                                </td></tr>\n",
       "\t<tr><th scope=row>2508</th><td> 2512                                                                                                               </td><td>MIDAS site at M25/5260A priority 1 on link 199002901; GPS Ref: 515131;202553; Clockwise                             </td><td>M25/5260A                                                                                                           </td><td>-0.3350627                                                                                                          </td><td>51.70991                                                                                                            </td><td>Active                                                                                                              </td><td>midas                                                                                                               </td></tr>\n",
       "\t<tr><th scope=row>541</th><td>  541                                                                                                               </td><td>MIDAS site at M42/6257B priority 1 on link 111001301; GPS Ref: 409741;272613; Southbound                            </td><td>M42/6257B                                                                                                           </td><td>-1.8584043                                                                                                          </td><td>52.35151                                                                                                            </td><td>Active                                                                                                              </td><td>midas                                                                                                               </td></tr>\n",
       "</tbody>\n",
       "</table>\n"
      ],
      "text/latex": [
       "\\begin{tabular}{r|lllllll}\n",
       "  & id & name & description & longitude & latitude & status & type\\\\\n",
       "\\hline\n",
       "\t11483 & 17377                                                                                                                & MIDAS site at M1/3869K priority 1 on link 107026902; GPS Ref: 447117;329229; Northbound                              & M1/3869K                                                                                                             & -1.3016567                                                                                                           & 52.85852                                                                                                             & Active                                                                                                               & midas                                                                                                               \\\\\n",
       "\t6369 &  9704                                                                                                                & MIDAS site at M18/7546B priority 1 on link 116007601; GPS Ref: 449694;391595; Southbound                             & M18/7546B                                                                                                            & -1.2537441                                                                                                           & 53.41884                                                                                                             & Active                                                                                                               & midas                                                                                                               \\\\\n",
       "\t4244 &  4249                                                                                                                & MIDAS site at M6/7300B priority 1 on link 117007102; GPS Ref: 354233;411273; Southbound                              & M6/7300B                                                                                                             & -2.6929827                                                                                                           & 53.59604                                                                                                             & Active                                                                                                               & midas                                                                                                               \\\\\n",
       "\t8110 & 11596                                                                                                                &                                                                                                                      & M6/6708J                                                                                                             & -2.3457756                                                                                                           & 53.15188                                                                                                             & Inactive                                                                                                             & midas                                                                                                               \\\\\n",
       "\t7208 & 10672                                                                                                                & MIDAS site at M6/6120L priority 1 on link 111034901; GPS Ref: 393023;310629; Southbound                              & M6/6120L                                                                                                             & -2.1046620                                                                                                           & 52.69331                                                                                                             & Active                                                                                                               & midas                                                                                                               \\\\\n",
       "\t12742 &  7337                                                                                                                & TMU Site 5019/1 on link A30 westbound between A388 near Launceston (west) and A395; GPS Ref: 230052;83647; Westbound & 5019/1                                                                                                               & -4.4042428                                                                                                           & 50.62768                                                                                                             & Active                                                                                                               & tmu                                                                                                                 \\\\\n",
       "\t1117 &  1117                                                                                                                & MIDAS site at M621/1002A priority 1 on link 116034401; GPS Ref: 423443;427933; Eastbound                             & M621/1002A                                                                                                           & -1.6460044                                                                                                           & 53.74726                                                                                                             & Active                                                                                                               & midas                                                                                                               \\\\\n",
       "\t12055 &  6602                                                                                                                & TAME Site 30360768 on link A38 northbound between B600 and M1; GPS Ref: 443277;355279; Northbound                    & 30360768                                                                                                             & -1.3552134                                                                                                           & 53.09299                                                                                                             & Active                                                                                                               & tame                                                                                                                \\\\\n",
       "\t2508 &  2512                                                                                                                & MIDAS site at M25/5260A priority 1 on link 199002901; GPS Ref: 515131;202553; Clockwise                              & M25/5260A                                                                                                            & -0.3350627                                                                                                           & 51.70991                                                                                                             & Active                                                                                                               & midas                                                                                                               \\\\\n",
       "\t541 &   541                                                                                                                & MIDAS site at M42/6257B priority 1 on link 111001301; GPS Ref: 409741;272613; Southbound                             & M42/6257B                                                                                                            & -1.8584043                                                                                                           & 52.35151                                                                                                             & Active                                                                                                               & midas                                                                                                               \\\\\n",
       "\\end{tabular}\n"
      ],
      "text/markdown": [
       "\n",
       "| <!--/--> | id | name | description | longitude | latitude | status | type | \n",
       "|---|---|---|---|---|---|---|---|---|---|\n",
       "| 11483 | 17377                                                                                                                | MIDAS site at M1/3869K priority 1 on link 107026902; GPS Ref: 447117;329229; Northbound                              | M1/3869K                                                                                                             | -1.3016567                                                                                                           | 52.85852                                                                                                             | Active                                                                                                               | midas                                                                                                                | \n",
       "| 6369 |  9704                                                                                                                | MIDAS site at M18/7546B priority 1 on link 116007601; GPS Ref: 449694;391595; Southbound                             | M18/7546B                                                                                                            | -1.2537441                                                                                                           | 53.41884                                                                                                             | Active                                                                                                               | midas                                                                                                                | \n",
       "| 4244 |  4249                                                                                                                | MIDAS site at M6/7300B priority 1 on link 117007102; GPS Ref: 354233;411273; Southbound                              | M6/7300B                                                                                                             | -2.6929827                                                                                                           | 53.59604                                                                                                             | Active                                                                                                               | midas                                                                                                                | \n",
       "| 8110 | 11596                                                                                                                |                                                                                                                      | M6/6708J                                                                                                             | -2.3457756                                                                                                           | 53.15188                                                                                                             | Inactive                                                                                                             | midas                                                                                                                | \n",
       "| 7208 | 10672                                                                                                                | MIDAS site at M6/6120L priority 1 on link 111034901; GPS Ref: 393023;310629; Southbound                              | M6/6120L                                                                                                             | -2.1046620                                                                                                           | 52.69331                                                                                                             | Active                                                                                                               | midas                                                                                                                | \n",
       "| 12742 |  7337                                                                                                                | TMU Site 5019/1 on link A30 westbound between A388 near Launceston (west) and A395; GPS Ref: 230052;83647; Westbound | 5019/1                                                                                                               | -4.4042428                                                                                                           | 50.62768                                                                                                             | Active                                                                                                               | tmu                                                                                                                  | \n",
       "| 1117 |  1117                                                                                                                | MIDAS site at M621/1002A priority 1 on link 116034401; GPS Ref: 423443;427933; Eastbound                             | M621/1002A                                                                                                           | -1.6460044                                                                                                           | 53.74726                                                                                                             | Active                                                                                                               | midas                                                                                                                | \n",
       "| 12055 |  6602                                                                                                                | TAME Site 30360768 on link A38 northbound between B600 and M1; GPS Ref: 443277;355279; Northbound                    | 30360768                                                                                                             | -1.3552134                                                                                                           | 53.09299                                                                                                             | Active                                                                                                               | tame                                                                                                                 | \n",
       "| 2508 |  2512                                                                                                                | MIDAS site at M25/5260A priority 1 on link 199002901; GPS Ref: 515131;202553; Clockwise                              | M25/5260A                                                                                                            | -0.3350627                                                                                                           | 51.70991                                                                                                             | Active                                                                                                               | midas                                                                                                                | \n",
       "| 541 |   541                                                                                                                | MIDAS site at M42/6257B priority 1 on link 111001301; GPS Ref: 409741;272613; Southbound                             | M42/6257B                                                                                                            | -1.8584043                                                                                                           | 52.35151                                                                                                             | Active                                                                                                               | midas                                                                                                                | \n",
       "\n",
       "\n"
      ],
      "text/plain": [
       "      id   \n",
       "11483 17377\n",
       "6369   9704\n",
       "4244   4249\n",
       "8110  11596\n",
       "7208  10672\n",
       "12742  7337\n",
       "1117   1117\n",
       "12055  6602\n",
       "2508   2512\n",
       "541     541\n",
       "      name                                                                                                                \n",
       "11483 MIDAS site at M1/3869K priority 1 on link 107026902; GPS Ref: 447117;329229; Northbound                             \n",
       "6369  MIDAS site at M18/7546B priority 1 on link 116007601; GPS Ref: 449694;391595; Southbound                            \n",
       "4244  MIDAS site at M6/7300B priority 1 on link 117007102; GPS Ref: 354233;411273; Southbound                             \n",
       "8110                                                                                                                      \n",
       "7208  MIDAS site at M6/6120L priority 1 on link 111034901; GPS Ref: 393023;310629; Southbound                             \n",
       "12742 TMU Site 5019/1 on link A30 westbound between A388 near Launceston (west) and A395; GPS Ref: 230052;83647; Westbound\n",
       "1117  MIDAS site at M621/1002A priority 1 on link 116034401; GPS Ref: 423443;427933; Eastbound                            \n",
       "12055 TAME Site 30360768 on link A38 northbound between B600 and M1; GPS Ref: 443277;355279; Northbound                   \n",
       "2508  MIDAS site at M25/5260A priority 1 on link 199002901; GPS Ref: 515131;202553; Clockwise                             \n",
       "541   MIDAS site at M42/6257B priority 1 on link 111001301; GPS Ref: 409741;272613; Southbound                            \n",
       "      description longitude  latitude status   type \n",
       "11483 M1/3869K    -1.3016567 52.85852 Active   midas\n",
       "6369  M18/7546B   -1.2537441 53.41884 Active   midas\n",
       "4244  M6/7300B    -2.6929827 53.59604 Active   midas\n",
       "8110  M6/6708J    -2.3457756 53.15188 Inactive midas\n",
       "7208  M6/6120L    -2.1046620 52.69331 Active   midas\n",
       "12742 5019/1      -4.4042428 50.62768 Active   tmu  \n",
       "1117  M621/1002A  -1.6460044 53.74726 Active   midas\n",
       "12055 30360768    -1.3552134 53.09299 Active   tame \n",
       "2508  M25/5260A   -0.3350627 51.70991 Active   midas\n",
       "541   M42/6257B   -1.8584043 52.35151 Active   midas"
      ]
     },
     "metadata": {},
     "output_type": "display_data"
    }
   ],
   "source": [
    "ex <- sites[sample(1:nrow(sites), 10), ]\n",
    "ex"
   ]
  },
  {
   "cell_type": "markdown",
   "metadata": {},
   "source": [
    "## sensor direction"
   ]
  },
  {
   "cell_type": "code",
   "execution_count": 19,
   "metadata": {},
   "outputs": [],
   "source": [
    "# extract north,east,west,south(bound) or anti-clockwise/clockwise.\n",
    "direction <- function(x) {\n",
    "    m <- regexpr(\"(([A-Za-z]+)bound)|([A-Za-z\\\\-]+wise)\", x, perl=T)\n",
    "    matches <- tolower(regmatches(x, m))\n",
    "    # matches does not include NA. do cumsum trick to map NAs:\n",
    "    # m is a vector of match positions, where -nv = no match found.\n",
    "    # cumsum over sign of m where -1 replaced with 0, so that non-matches are repeated.\n",
    "    # then replace repeated with NA, as to get matches same length as input.\n",
    "    matches[ifelse(m > 0, cumsum(ifelse(m > 0, 1, 0)), NA)]\n",
    "}"
   ]
  },
  {
   "cell_type": "code",
   "execution_count": 20,
   "metadata": {},
   "outputs": [
    {
     "data": {
      "text/html": [
       "<ol class=list-inline>\n",
       "\t<li>'northbound'</li>\n",
       "\t<li>'southbound'</li>\n",
       "\t<li>'southbound'</li>\n",
       "\t<li>NA</li>\n",
       "\t<li>'southbound'</li>\n",
       "\t<li>'westbound'</li>\n",
       "\t<li>'eastbound'</li>\n",
       "\t<li>'northbound'</li>\n",
       "\t<li>'clockwise'</li>\n",
       "\t<li>'southbound'</li>\n",
       "</ol>\n"
      ],
      "text/latex": [
       "\\begin{enumerate*}\n",
       "\\item 'northbound'\n",
       "\\item 'southbound'\n",
       "\\item 'southbound'\n",
       "\\item NA\n",
       "\\item 'southbound'\n",
       "\\item 'westbound'\n",
       "\\item 'eastbound'\n",
       "\\item 'northbound'\n",
       "\\item 'clockwise'\n",
       "\\item 'southbound'\n",
       "\\end{enumerate*}\n"
      ],
      "text/markdown": [
       "1. 'northbound'\n",
       "2. 'southbound'\n",
       "3. 'southbound'\n",
       "4. NA\n",
       "5. 'southbound'\n",
       "6. 'westbound'\n",
       "7. 'eastbound'\n",
       "8. 'northbound'\n",
       "9. 'clockwise'\n",
       "10. 'southbound'\n",
       "\n",
       "\n"
      ],
      "text/plain": [
       " [1] \"northbound\" \"southbound\" \"southbound\" NA           \"southbound\"\n",
       " [6] \"westbound\"  \"eastbound\"  \"northbound\" \"clockwise\"  \"southbound\""
      ]
     },
     "metadata": {},
     "output_type": "display_data"
    }
   ],
   "source": [
    "direction(ex$name)"
   ]
  },
  {
   "cell_type": "code",
   "execution_count": 21,
   "metadata": {},
   "outputs": [
    {
     "data": {
      "text/plain": [
       "\n",
       "anti-clockwise      clockwise      eastbound     northbound      souhbound \n",
       "           752            778           2055           3344              1 \n",
       "    southbound      westbound \n",
       "          3326           2079 "
      ]
     },
     "metadata": {},
     "output_type": "display_data"
    }
   ],
   "source": [
    "sites$direction <- direction(sites$name)\n",
    "table(sites$direction)"
   ]
  },
  {
   "cell_type": "code",
   "execution_count": 22,
   "metadata": {},
   "outputs": [
    {
     "data": {
      "text/html": [
       "<table>\n",
       "<thead><tr><th></th><th scope=col>id</th><th scope=col>name</th><th scope=col>description</th><th scope=col>longitude</th><th scope=col>latitude</th><th scope=col>status</th><th scope=col>type</th><th scope=col>direction</th></tr></thead>\n",
       "<tbody>\n",
       "\t<tr><th scope=row>12581</th><td>7187                                                                                                              </td><td>TAME Site 30360339 on link Marlow Road souhbound between Cressex Road and A404; GPS Ref: 485338;191297; Southbound</td><td>30360339                                                                                                          </td><td>-0.7688845                                                                                                        </td><td>51.61405                                                                                                          </td><td>Active                                                                                                            </td><td>tame                                                                                                              </td><td>souhbound                                                                                                         </td></tr>\n",
       "</tbody>\n",
       "</table>\n"
      ],
      "text/latex": [
       "\\begin{tabular}{r|llllllll}\n",
       "  & id & name & description & longitude & latitude & status & type & direction\\\\\n",
       "\\hline\n",
       "\t12581 & 7187                                                                                                               & TAME Site 30360339 on link Marlow Road souhbound between Cressex Road and A404; GPS Ref: 485338;191297; Southbound & 30360339                                                                                                           & -0.7688845                                                                                                         & 51.61405                                                                                                           & Active                                                                                                             & tame                                                                                                               & souhbound                                                                                                         \\\\\n",
       "\\end{tabular}\n"
      ],
      "text/markdown": [
       "\n",
       "| <!--/--> | id | name | description | longitude | latitude | status | type | direction | \n",
       "|---|\n",
       "| 12581 | 7187                                                                                                               | TAME Site 30360339 on link Marlow Road souhbound between Cressex Road and A404; GPS Ref: 485338;191297; Southbound | 30360339                                                                                                           | -0.7688845                                                                                                         | 51.61405                                                                                                           | Active                                                                                                             | tame                                                                                                               | souhbound                                                                                                          | \n",
       "\n",
       "\n"
      ],
      "text/plain": [
       "      id  \n",
       "12581 7187\n",
       "      name                                                                                                              \n",
       "12581 TAME Site 30360339 on link Marlow Road souhbound between Cressex Road and A404; GPS Ref: 485338;191297; Southbound\n",
       "      description longitude  latitude status type direction\n",
       "12581 30360339    -0.7688845 51.61405 Active tame souhbound"
      ]
     },
     "metadata": {},
     "output_type": "display_data"
    }
   ],
   "source": [
    "# fix sensor typo\n",
    "sites[which(sites$direction == \"souhbound\"), ]"
   ]
  },
  {
   "cell_type": "code",
   "execution_count": 23,
   "metadata": {},
   "outputs": [
    {
     "data": {
      "text/plain": [
       "\n",
       "anti-clockwise      clockwise      eastbound     northbound     southbound \n",
       "           752            778           2055           3344           3327 \n",
       "     westbound \n",
       "          2079 "
      ]
     },
     "metadata": {},
     "output_type": "display_data"
    }
   ],
   "source": [
    "sites[which(sites$direction == \"souhbound\"), ]$direction <- \"southbound\"\n",
    "table(sites$direction)"
   ]
  },
  {
   "cell_type": "markdown",
   "metadata": {},
   "source": [
    "## eastings, northings"
   ]
  },
  {
   "cell_type": "code",
   "execution_count": 24,
   "metadata": {},
   "outputs": [],
   "source": [
    "# extract easting and northing matrix\n",
    "easting_northing <- function(x) {\n",
    "    m <- regexpr(\"GPS Ref: [0-9]+;[0-9]+\", x, perl=T)\n",
    "    matches <- matrix(unlist(strsplit(sub(\"^.*: \", \"\", regmatches(x, m)), \";\")), ncol=2, byrow=T)\n",
    "    matches <- matches[ifelse(m > 0, cumsum(ifelse(m > 0, 1, 0)), NA), ]\n",
    "    colnames(matches) <- c(\"easting\", \"northing\")\n",
    "    matches\n",
    "}"
   ]
  },
  {
   "cell_type": "code",
   "execution_count": 25,
   "metadata": {},
   "outputs": [
    {
     "data": {
      "text/html": [
       "<table>\n",
       "<thead><tr><th scope=col>easting</th><th scope=col>northing</th></tr></thead>\n",
       "<tbody>\n",
       "\t<tr><td>447117</td><td>329229</td></tr>\n",
       "\t<tr><td>449694</td><td>391595</td></tr>\n",
       "\t<tr><td>354233</td><td>411273</td></tr>\n",
       "\t<tr><td>NA    </td><td>NA    </td></tr>\n",
       "\t<tr><td>393023</td><td>310629</td></tr>\n",
       "\t<tr><td>230052</td><td>83647 </td></tr>\n",
       "\t<tr><td>423443</td><td>427933</td></tr>\n",
       "\t<tr><td>443277</td><td>355279</td></tr>\n",
       "\t<tr><td>515131</td><td>202553</td></tr>\n",
       "\t<tr><td>409741</td><td>272613</td></tr>\n",
       "</tbody>\n",
       "</table>\n"
      ],
      "text/latex": [
       "\\begin{tabular}{ll}\n",
       " easting & northing\\\\\n",
       "\\hline\n",
       "\t 447117 & 329229\\\\\n",
       "\t 449694 & 391595\\\\\n",
       "\t 354233 & 411273\\\\\n",
       "\t NA     & NA    \\\\\n",
       "\t 393023 & 310629\\\\\n",
       "\t 230052 & 83647 \\\\\n",
       "\t 423443 & 427933\\\\\n",
       "\t 443277 & 355279\\\\\n",
       "\t 515131 & 202553\\\\\n",
       "\t 409741 & 272613\\\\\n",
       "\\end{tabular}\n"
      ],
      "text/markdown": [
       "\n",
       "easting | northing | \n",
       "|---|---|---|---|---|---|---|---|---|---|\n",
       "| 447117 | 329229 | \n",
       "| 449694 | 391595 | \n",
       "| 354233 | 411273 | \n",
       "| NA     | NA     | \n",
       "| 393023 | 310629 | \n",
       "| 230052 | 83647  | \n",
       "| 423443 | 427933 | \n",
       "| 443277 | 355279 | \n",
       "| 515131 | 202553 | \n",
       "| 409741 | 272613 | \n",
       "\n",
       "\n"
      ],
      "text/plain": [
       "      easting northing\n",
       " [1,] 447117  329229  \n",
       " [2,] 449694  391595  \n",
       " [3,] 354233  411273  \n",
       " [4,] NA      NA      \n",
       " [5,] 393023  310629  \n",
       " [6,] 230052  83647   \n",
       " [7,] 423443  427933  \n",
       " [8,] 443277  355279  \n",
       " [9,] 515131  202553  \n",
       "[10,] 409741  272613  "
      ]
     },
     "metadata": {},
     "output_type": "display_data"
    }
   ],
   "source": [
    "easting_northing(ex$name)"
   ]
  },
  {
   "cell_type": "code",
   "execution_count": 26,
   "metadata": {},
   "outputs": [
    {
     "data": {
      "text/html": [
       "<table>\n",
       "<thead><tr><th></th><th scope=col>id</th><th scope=col>name</th><th scope=col>description</th><th scope=col>longitude</th><th scope=col>latitude</th><th scope=col>status</th><th scope=col>type</th><th scope=col>direction</th><th scope=col>easting</th><th scope=col>northing</th></tr></thead>\n",
       "<tbody>\n",
       "\t<tr><th scope=row>15426</th><td>16931                                                                                                                        </td><td>TMU 7067/1 on A1(M) J42 northbound exit on road A1(M)  at location 53.760906315412000,-1.281035879562000                     </td><td>NO TMU ID                                                                                                                    </td><td>-1.2810359                                                                                                                   </td><td>53.76091                                                                                                                     </td><td>Inactive                                                                                                                     </td><td>tmu                                                                                                                          </td><td>northbound                                                                                                                   </td><td>NA                                                                                                                           </td><td>NA                                                                                                                           </td></tr>\n",
       "\t<tr><th scope=row>15427</th><td>16932                                                                                                                        </td><td>TMU 7067/1 on A1(M) J42 northbound exit on road A1(M) Northbound at location 53.760906315412000,-1.281035879562000           </td><td>NO TMU ID                                                                                                                    </td><td>-1.2810359                                                                                                                   </td><td>53.76091                                                                                                                     </td><td>Inactive                                                                                                                     </td><td>tmu                                                                                                                          </td><td>northbound                                                                                                                   </td><td>NA                                                                                                                           </td><td>NA                                                                                                                           </td></tr>\n",
       "\t<tr><th scope=row>15428</th><td>16933                                                                                                                        </td><td>TMU 7067/2 on A1(M) northbound within J42 on road A1(M) Northbound at location 53.760959238603000,-1.280868119338000         </td><td>NO TMU ID                                                                                                                    </td><td>-1.2808681                                                                                                                   </td><td>53.76096                                                                                                                     </td><td>Inactive                                                                                                                     </td><td>tmu                                                                                                                          </td><td>northbound                                                                                                                   </td><td>NA                                                                                                                           </td><td>NA                                                                                                                           </td></tr>\n",
       "\t<tr><th scope=row>15429</th><td>16934                                                                                                                        </td><td>TMU 7068/1 on A1(M) J42 southbound exit on road A1(M) Southbound at location 53.765353306873000,-1.283675431969000           </td><td>NO TMU ID                                                                                                                    </td><td>-1.2836754                                                                                                                   </td><td>53.76535                                                                                                                     </td><td>Inactive                                                                                                                     </td><td>tmu                                                                                                                          </td><td>southbound                                                                                                                   </td><td>NA                                                                                                                           </td><td>NA                                                                                                                           </td></tr>\n",
       "\t<tr><th scope=row>15430</th><td>16935                                                                                                                        </td><td>TMU 7068/2 on A1(M) southbound within J42 on road A1(M) Southbound at location 53.765282677041000,-1.283889018408000         </td><td>NO TMU ID                                                                                                                    </td><td>-1.2838890                                                                                                                   </td><td>53.76528                                                                                                                     </td><td>Inactive                                                                                                                     </td><td>tmu                                                                                                                          </td><td>southbound                                                                                                                   </td><td>NA                                                                                                                           </td><td>NA                                                                                                                           </td></tr>\n",
       "\t<tr><th scope=row>15431</th><td>16936                                                                                                                        </td><td>TMU 7069/1 on A1(M) northbound between J42 and J43 on road A1(M) Northbound at location 53.792111151099000,-1.322338625921000</td><td>NO TMU ID                                                                                                                    </td><td>-1.3223386                                                                                                                   </td><td>53.79211                                                                                                                     </td><td>Inactive                                                                                                                     </td><td>tmu                                                                                                                          </td><td>northbound                                                                                                                   </td><td>NA                                                                                                                           </td><td>NA                                                                                                                           </td></tr>\n",
       "\t<tr><th scope=row>15432</th><td>17668                                                                                                                        </td><td>TMU Site 9967/1 on link A5 northbound between B4100 and A4146 near Bletchley (south); GPS Ref: 490291;232886; Northbound     </td><td>9967/1                                                                                                                       </td><td>-0.6865507                                                                                                                   </td><td>51.98711                                                                                                                     </td><td>Inactive                                                                                                                     </td><td>tmu                                                                                                                          </td><td>northbound                                                                                                                   </td><td>490291                                                                                                                       </td><td>232886                                                                                                                       </td></tr>\n",
       "\t<tr><th scope=row>15433</th><td>17669                                                                                                                        </td><td>TMU Site 9967/2 on link A5 southbound between A4146 near Bletchley (south) and B4100; GPS Ref: 490300;232907; Southbound     </td><td>9967/2                                                                                                                       </td><td>-0.6864142                                                                                                                   </td><td>51.98730                                                                                                                     </td><td>Inactive                                                                                                                     </td><td>tmu                                                                                                                          </td><td>southbound                                                                                                                   </td><td>490300                                                                                                                       </td><td>232907                                                                                                                       </td></tr>\n",
       "\t<tr><th scope=row>15434</th><td>17673                                                                                                                        </td><td>TMU Site 9968/1 on link A421 northbound between A600 and A603; GPS Ref: 507840;248078; Northbound                            </td><td>9968/1                                                                                                                       </td><td>-0.4263033                                                                                                                   </td><td>52.12052                                                                                                                     </td><td>Active                                                                                                                       </td><td>tmu                                                                                                                          </td><td>northbound                                                                                                                   </td><td>507840                                                                                                                       </td><td>248078                                                                                                                       </td></tr>\n",
       "\t<tr><th scope=row>15435</th><td>17674                                                                                                                        </td><td>TMU Site 9968/2 on link A421 southbound between A603 and A600; GPS Ref: 507852;248068; Southbound                            </td><td>9968/2                                                                                                                       </td><td>-0.4261312                                                                                                                   </td><td>52.12043                                                                                                                     </td><td>Active                                                                                                                       </td><td>tmu                                                                                                                          </td><td>southbound                                                                                                                   </td><td>507852                                                                                                                       </td><td>248068                                                                                                                       </td></tr>\n",
       "</tbody>\n",
       "</table>\n"
      ],
      "text/latex": [
       "\\begin{tabular}{r|llllllllll}\n",
       "  & id & name & description & longitude & latitude & status & type & direction & easting & northing\\\\\n",
       "\\hline\n",
       "\t15426 & 16931                                                                                                                         & TMU 7067/1 on A1(M) J42 northbound exit on road A1(M)  at location 53.760906315412000,-1.281035879562000                      & NO TMU ID                                                                                                                     & -1.2810359                                                                                                                    & 53.76091                                                                                                                      & Inactive                                                                                                                      & tmu                                                                                                                           & northbound                                                                                                                    & NA                                                                                                                            & NA                                                                                                                           \\\\\n",
       "\t15427 & 16932                                                                                                                         & TMU 7067/1 on A1(M) J42 northbound exit on road A1(M) Northbound at location 53.760906315412000,-1.281035879562000            & NO TMU ID                                                                                                                     & -1.2810359                                                                                                                    & 53.76091                                                                                                                      & Inactive                                                                                                                      & tmu                                                                                                                           & northbound                                                                                                                    & NA                                                                                                                            & NA                                                                                                                           \\\\\n",
       "\t15428 & 16933                                                                                                                         & TMU 7067/2 on A1(M) northbound within J42 on road A1(M) Northbound at location 53.760959238603000,-1.280868119338000          & NO TMU ID                                                                                                                     & -1.2808681                                                                                                                    & 53.76096                                                                                                                      & Inactive                                                                                                                      & tmu                                                                                                                           & northbound                                                                                                                    & NA                                                                                                                            & NA                                                                                                                           \\\\\n",
       "\t15429 & 16934                                                                                                                         & TMU 7068/1 on A1(M) J42 southbound exit on road A1(M) Southbound at location 53.765353306873000,-1.283675431969000            & NO TMU ID                                                                                                                     & -1.2836754                                                                                                                    & 53.76535                                                                                                                      & Inactive                                                                                                                      & tmu                                                                                                                           & southbound                                                                                                                    & NA                                                                                                                            & NA                                                                                                                           \\\\\n",
       "\t15430 & 16935                                                                                                                         & TMU 7068/2 on A1(M) southbound within J42 on road A1(M) Southbound at location 53.765282677041000,-1.283889018408000          & NO TMU ID                                                                                                                     & -1.2838890                                                                                                                    & 53.76528                                                                                                                      & Inactive                                                                                                                      & tmu                                                                                                                           & southbound                                                                                                                    & NA                                                                                                                            & NA                                                                                                                           \\\\\n",
       "\t15431 & 16936                                                                                                                         & TMU 7069/1 on A1(M) northbound between J42 and J43 on road A1(M) Northbound at location 53.792111151099000,-1.322338625921000 & NO TMU ID                                                                                                                     & -1.3223386                                                                                                                    & 53.79211                                                                                                                      & Inactive                                                                                                                      & tmu                                                                                                                           & northbound                                                                                                                    & NA                                                                                                                            & NA                                                                                                                           \\\\\n",
       "\t15432 & 17668                                                                                                                         & TMU Site 9967/1 on link A5 northbound between B4100 and A4146 near Bletchley (south); GPS Ref: 490291;232886; Northbound      & 9967/1                                                                                                                        & -0.6865507                                                                                                                    & 51.98711                                                                                                                      & Inactive                                                                                                                      & tmu                                                                                                                           & northbound                                                                                                                    & 490291                                                                                                                        & 232886                                                                                                                       \\\\\n",
       "\t15433 & 17669                                                                                                                         & TMU Site 9967/2 on link A5 southbound between A4146 near Bletchley (south) and B4100; GPS Ref: 490300;232907; Southbound      & 9967/2                                                                                                                        & -0.6864142                                                                                                                    & 51.98730                                                                                                                      & Inactive                                                                                                                      & tmu                                                                                                                           & southbound                                                                                                                    & 490300                                                                                                                        & 232907                                                                                                                       \\\\\n",
       "\t15434 & 17673                                                                                                                         & TMU Site 9968/1 on link A421 northbound between A600 and A603; GPS Ref: 507840;248078; Northbound                             & 9968/1                                                                                                                        & -0.4263033                                                                                                                    & 52.12052                                                                                                                      & Active                                                                                                                        & tmu                                                                                                                           & northbound                                                                                                                    & 507840                                                                                                                        & 248078                                                                                                                       \\\\\n",
       "\t15435 & 17674                                                                                                                         & TMU Site 9968/2 on link A421 southbound between A603 and A600; GPS Ref: 507852;248068; Southbound                             & 9968/2                                                                                                                        & -0.4261312                                                                                                                    & 52.12043                                                                                                                      & Active                                                                                                                        & tmu                                                                                                                           & southbound                                                                                                                    & 507852                                                                                                                        & 248068                                                                                                                       \\\\\n",
       "\\end{tabular}\n"
      ],
      "text/markdown": [
       "\n",
       "| <!--/--> | id | name | description | longitude | latitude | status | type | direction | easting | northing | \n",
       "|---|---|---|---|---|---|---|---|---|---|\n",
       "| 15426 | 16931                                                                                                                         | TMU 7067/1 on A1(M) J42 northbound exit on road A1(M)  at location 53.760906315412000,-1.281035879562000                      | NO TMU ID                                                                                                                     | -1.2810359                                                                                                                    | 53.76091                                                                                                                      | Inactive                                                                                                                      | tmu                                                                                                                           | northbound                                                                                                                    | NA                                                                                                                            | NA                                                                                                                            | \n",
       "| 15427 | 16932                                                                                                                         | TMU 7067/1 on A1(M) J42 northbound exit on road A1(M) Northbound at location 53.760906315412000,-1.281035879562000            | NO TMU ID                                                                                                                     | -1.2810359                                                                                                                    | 53.76091                                                                                                                      | Inactive                                                                                                                      | tmu                                                                                                                           | northbound                                                                                                                    | NA                                                                                                                            | NA                                                                                                                            | \n",
       "| 15428 | 16933                                                                                                                         | TMU 7067/2 on A1(M) northbound within J42 on road A1(M) Northbound at location 53.760959238603000,-1.280868119338000          | NO TMU ID                                                                                                                     | -1.2808681                                                                                                                    | 53.76096                                                                                                                      | Inactive                                                                                                                      | tmu                                                                                                                           | northbound                                                                                                                    | NA                                                                                                                            | NA                                                                                                                            | \n",
       "| 15429 | 16934                                                                                                                         | TMU 7068/1 on A1(M) J42 southbound exit on road A1(M) Southbound at location 53.765353306873000,-1.283675431969000            | NO TMU ID                                                                                                                     | -1.2836754                                                                                                                    | 53.76535                                                                                                                      | Inactive                                                                                                                      | tmu                                                                                                                           | southbound                                                                                                                    | NA                                                                                                                            | NA                                                                                                                            | \n",
       "| 15430 | 16935                                                                                                                         | TMU 7068/2 on A1(M) southbound within J42 on road A1(M) Southbound at location 53.765282677041000,-1.283889018408000          | NO TMU ID                                                                                                                     | -1.2838890                                                                                                                    | 53.76528                                                                                                                      | Inactive                                                                                                                      | tmu                                                                                                                           | southbound                                                                                                                    | NA                                                                                                                            | NA                                                                                                                            | \n",
       "| 15431 | 16936                                                                                                                         | TMU 7069/1 on A1(M) northbound between J42 and J43 on road A1(M) Northbound at location 53.792111151099000,-1.322338625921000 | NO TMU ID                                                                                                                     | -1.3223386                                                                                                                    | 53.79211                                                                                                                      | Inactive                                                                                                                      | tmu                                                                                                                           | northbound                                                                                                                    | NA                                                                                                                            | NA                                                                                                                            | \n",
       "| 15432 | 17668                                                                                                                         | TMU Site 9967/1 on link A5 northbound between B4100 and A4146 near Bletchley (south); GPS Ref: 490291;232886; Northbound      | 9967/1                                                                                                                        | -0.6865507                                                                                                                    | 51.98711                                                                                                                      | Inactive                                                                                                                      | tmu                                                                                                                           | northbound                                                                                                                    | 490291                                                                                                                        | 232886                                                                                                                        | \n",
       "| 15433 | 17669                                                                                                                         | TMU Site 9967/2 on link A5 southbound between A4146 near Bletchley (south) and B4100; GPS Ref: 490300;232907; Southbound      | 9967/2                                                                                                                        | -0.6864142                                                                                                                    | 51.98730                                                                                                                      | Inactive                                                                                                                      | tmu                                                                                                                           | southbound                                                                                                                    | 490300                                                                                                                        | 232907                                                                                                                        | \n",
       "| 15434 | 17673                                                                                                                         | TMU Site 9968/1 on link A421 northbound between A600 and A603; GPS Ref: 507840;248078; Northbound                             | 9968/1                                                                                                                        | -0.4263033                                                                                                                    | 52.12052                                                                                                                      | Active                                                                                                                        | tmu                                                                                                                           | northbound                                                                                                                    | 507840                                                                                                                        | 248078                                                                                                                        | \n",
       "| 15435 | 17674                                                                                                                         | TMU Site 9968/2 on link A421 southbound between A603 and A600; GPS Ref: 507852;248068; Southbound                             | 9968/2                                                                                                                        | -0.4261312                                                                                                                    | 52.12043                                                                                                                      | Active                                                                                                                        | tmu                                                                                                                           | southbound                                                                                                                    | 507852                                                                                                                        | 248068                                                                                                                        | \n",
       "\n",
       "\n"
      ],
      "text/plain": [
       "      id   \n",
       "15426 16931\n",
       "15427 16932\n",
       "15428 16933\n",
       "15429 16934\n",
       "15430 16935\n",
       "15431 16936\n",
       "15432 17668\n",
       "15433 17669\n",
       "15434 17673\n",
       "15435 17674\n",
       "      name                                                                                                                         \n",
       "15426 TMU 7067/1 on A1(M) J42 northbound exit on road A1(M)  at location 53.760906315412000,-1.281035879562000                     \n",
       "15427 TMU 7067/1 on A1(M) J42 northbound exit on road A1(M) Northbound at location 53.760906315412000,-1.281035879562000           \n",
       "15428 TMU 7067/2 on A1(M) northbound within J42 on road A1(M) Northbound at location 53.760959238603000,-1.280868119338000         \n",
       "15429 TMU 7068/1 on A1(M) J42 southbound exit on road A1(M) Southbound at location 53.765353306873000,-1.283675431969000           \n",
       "15430 TMU 7068/2 on A1(M) southbound within J42 on road A1(M) Southbound at location 53.765282677041000,-1.283889018408000         \n",
       "15431 TMU 7069/1 on A1(M) northbound between J42 and J43 on road A1(M) Northbound at location 53.792111151099000,-1.322338625921000\n",
       "15432 TMU Site 9967/1 on link A5 northbound between B4100 and A4146 near Bletchley (south); GPS Ref: 490291;232886; Northbound     \n",
       "15433 TMU Site 9967/2 on link A5 southbound between A4146 near Bletchley (south) and B4100; GPS Ref: 490300;232907; Southbound     \n",
       "15434 TMU Site 9968/1 on link A421 northbound between A600 and A603; GPS Ref: 507840;248078; Northbound                            \n",
       "15435 TMU Site 9968/2 on link A421 southbound between A603 and A600; GPS Ref: 507852;248068; Southbound                            \n",
       "      description longitude  latitude status   type direction  easting northing\n",
       "15426 NO TMU ID   -1.2810359 53.76091 Inactive tmu  northbound NA      NA      \n",
       "15427 NO TMU ID   -1.2810359 53.76091 Inactive tmu  northbound NA      NA      \n",
       "15428 NO TMU ID   -1.2808681 53.76096 Inactive tmu  northbound NA      NA      \n",
       "15429 NO TMU ID   -1.2836754 53.76535 Inactive tmu  southbound NA      NA      \n",
       "15430 NO TMU ID   -1.2838890 53.76528 Inactive tmu  southbound NA      NA      \n",
       "15431 NO TMU ID   -1.3223386 53.79211 Inactive tmu  northbound NA      NA      \n",
       "15432 9967/1      -0.6865507 51.98711 Inactive tmu  northbound 490291  232886  \n",
       "15433 9967/2      -0.6864142 51.98730 Inactive tmu  southbound 490300  232907  \n",
       "15434 9968/1      -0.4263033 52.12052 Active   tmu  northbound 507840  248078  \n",
       "15435 9968/2      -0.4261312 52.12043 Active   tmu  southbound 507852  248068  "
      ]
     },
     "metadata": {},
     "output_type": "display_data"
    }
   ],
   "source": [
    "sites <- cbind(sites, easting_northing(sites$name))\n",
    "tail(sites, 10)"
   ]
  },
  {
   "cell_type": "markdown",
   "metadata": {},
   "source": [
    "## combine site info with readings, split into midas, tame, tmu files"
   ]
  },
  {
   "cell_type": "code",
   "execution_count": 27,
   "metadata": {},
   "outputs": [
    {
     "data": {
      "text/html": [
       "FALSE"
      ],
      "text/latex": [
       "FALSE"
      ],
      "text/markdown": [
       "FALSE"
      ],
      "text/plain": [
       "[1] FALSE"
      ]
     },
     "metadata": {},
     "output_type": "display_data"
    }
   ],
   "source": [
    "# sensor reading -> sensor mapping\n",
    "mapping <- match(readings$site_id, sites$id)\n",
    "any(is.na(mapping))"
   ]
  },
  {
   "cell_type": "code",
   "execution_count": 28,
   "metadata": {},
   "outputs": [
    {
     "data": {
      "text/html": [
       "<table>\n",
       "<thead><tr><th></th><th scope=col>used</th><th scope=col>(Mb)</th><th scope=col>gc trigger</th><th scope=col>(Mb)</th><th scope=col>max used</th><th scope=col>(Mb)</th></tr></thead>\n",
       "<tbody>\n",
       "\t<tr><th scope=row>Ncells</th><td>   630807</td><td>  33.7   </td><td>  1202614</td><td>  64.3   </td><td>  1202614</td><td>  64.3   </td></tr>\n",
       "\t<tr><th scope=row>Vcells</th><td>522935197</td><td>3989.7   </td><td>818001152</td><td>6240.9   </td><td>553604517</td><td>4223.7   </td></tr>\n",
       "</tbody>\n",
       "</table>\n"
      ],
      "text/latex": [
       "\\begin{tabular}{r|llllll}\n",
       "  & used & (Mb) & gc trigger & (Mb) & max used & (Mb)\\\\\n",
       "\\hline\n",
       "\tNcells &    630807 &   33.7    &   1202614 &   64.3    &   1202614 &   64.3   \\\\\n",
       "\tVcells & 522935197 & 3989.7    & 818001152 & 6240.9    & 553604517 & 4223.7   \\\\\n",
       "\\end{tabular}\n"
      ],
      "text/markdown": [
       "\n",
       "| <!--/--> | used | (Mb) | gc trigger | (Mb) | max used | (Mb) | \n",
       "|---|---|\n",
       "| Ncells |    630807 |   33.7    |   1202614 |   64.3    |   1202614 |   64.3    | \n",
       "| Vcells | 522935197 | 3989.7    | 818001152 | 6240.9    | 553604517 | 4223.7    | \n",
       "\n",
       "\n"
      ],
      "text/plain": [
       "       used      (Mb)   gc trigger (Mb)   max used  (Mb)  \n",
       "Ncells    630807   33.7   1202614    64.3   1202614   64.3\n",
       "Vcells 522935197 3989.7 818001152  6240.9 553604517 4223.7"
      ]
     },
     "metadata": {},
     "output_type": "display_data"
    }
   ],
   "source": [
    "gc()"
   ]
  },
  {
   "cell_type": "markdown",
   "metadata": {},
   "source": [
    "**todo** need to do this in chunks as to save memory"
   ]
  },
  {
   "cell_type": "code",
   "execution_count": 29,
   "metadata": {},
   "outputs": [
    {
     "data": {
      "text/html": [
       "<table>\n",
       "<thead><tr><th scope=col>site_id</th><th scope=col>site_name</th><th scope=col>report_date</th><th scope=col>time_period_end</th><th scope=col>interval</th><th scope=col>len_0_520_cm</th><th scope=col>len_521_660_cm</th><th scope=col>len_661_1160_cm</th><th scope=col>len_1160_plus_cm</th><th scope=col>speed_0_10_mph</th><th scope=col>⋯</th><th scope=col>speed_80_plus_mph</th><th scope=col>speed_avg_mph</th><th scope=col>total_vol</th><th scope=col>longitude</th><th scope=col>latitude</th><th scope=col>status</th><th scope=col>type</th><th scope=col>direction</th><th scope=col>easting</th><th scope=col>northing</th></tr></thead>\n",
       "<tbody>\n",
       "\t<tr><td>3672               </td><td>M4/3166A           </td><td>2019-03-12T00:00:00</td><td>08:44:00           </td><td>34                 </td><td>481                </td><td>75                 </td><td>26                 </td><td>58                 </td><td>NA                 </td><td>⋯                  </td><td>NA                 </td><td>71                 </td><td> 640               </td><td>-1.6306728         </td><td>51.51328           </td><td>Active             </td><td>midas              </td><td>westbound          </td><td>425725             </td><td>179437             </td></tr>\n",
       "\t<tr><td>8634               </td><td>9057/1             </td><td>2019-03-22T00:00:00</td><td>01:44:59           </td><td> 6                 </td><td> NA                </td><td>NA                 </td><td>NA                 </td><td>NA                 </td><td>NA                 </td><td>⋯                  </td><td>NA                 </td><td>NA                 </td><td>  NA               </td><td>-2.9128519         </td><td>53.51016           </td><td>Active             </td><td>tmu                </td><td>eastbound          </td><td>339559             </td><td>401883             </td></tr>\n",
       "\t<tr><td>8600               </td><td>8856/2             </td><td>2019-03-24T00:00:00</td><td>10:14:00           </td><td>40                 </td><td>233                </td><td> 9                 </td><td> 4                 </td><td> 1                 </td><td>NA                 </td><td>⋯                  </td><td>NA                 </td><td>66                 </td><td> 247               </td><td>-1.5860508         </td><td>53.77321           </td><td>Active             </td><td>tmu                </td><td>eastbound          </td><td>427380             </td><td>430841             </td></tr>\n",
       "\t<tr><td>6514               </td><td>30360200           </td><td>2019-03-06T00:00:00</td><td>22:14:00           </td><td>88                 </td><td>203                </td><td>15                 </td><td> 7                 </td><td> 5                 </td><td> 0                 </td><td>⋯                  </td><td> 0                 </td><td>44                 </td><td> 230               </td><td>-1.4982108         </td><td>50.94588           </td><td>Active             </td><td>tame               </td><td>eastbound          </td><td>435348             </td><td>116392             </td></tr>\n",
       "\t<tr><td>2176               </td><td>A1M/9694J          </td><td>2019-03-29T00:00:00</td><td>09:59:00           </td><td>39                 </td><td> 75                </td><td> 6                 </td><td> 8                 </td><td> 8                 </td><td>NA                 </td><td>⋯                  </td><td>NA                 </td><td>50                 </td><td>  97               </td><td>-1.3753144         </td><td>53.94276           </td><td>Active             </td><td>midas              </td><td>northbound         </td><td>441103             </td><td>449807             </td></tr>\n",
       "\t<tr><td>5945               </td><td>M25/4342L          </td><td>2019-03-17T00:00:00</td><td>17:59:00           </td><td>71                 </td><td> 72                </td><td> 9                 </td><td> 2                 </td><td> 5                 </td><td>NA                 </td><td>⋯                  </td><td>NA                 </td><td>47                 </td><td>  88               </td><td> 0.0355777         </td><td>51.27242           </td><td>Active             </td><td>midas              </td><td>anti-clockwise     </td><td>542090             </td><td>154553             </td></tr>\n",
       "\t<tr><td>3707               </td><td>M25/5020A          </td><td>2019-03-16T00:00:00</td><td>18:59:00           </td><td>75                 </td><td>979                </td><td>29                 </td><td>21                 </td><td>28                 </td><td>NA                 </td><td>⋯                  </td><td>NA                 </td><td>54                 </td><td>1057               </td><td>-0.5282644         </td><td>51.55542           </td><td>Active             </td><td>midas              </td><td>clockwise          </td><td>502129             </td><td>185085             </td></tr>\n",
       "\t<tr><td>6360               </td><td>30360299           </td><td>2019-03-14T00:00:00</td><td>01:29:00           </td><td> 5                 </td><td> 35                </td><td> 2                 </td><td> 3                 </td><td> 4                 </td><td> 0                 </td><td>⋯                  </td><td> 5                 </td><td>64                 </td><td>  44               </td><td>-0.9798699         </td><td>50.96274           </td><td>Active             </td><td>tame               </td><td>southbound         </td><td>471736             </td><td>118642             </td></tr>\n",
       "\t<tr><td> 337               </td><td>M62/1300A          </td><td>2019-03-15T00:00:00</td><td>00:29:59           </td><td> 1                 </td><td> NA                </td><td>NA                 </td><td>NA                 </td><td>NA                 </td><td>NA                 </td><td>⋯                  </td><td>NA                 </td><td>NA                 </td><td>  NA               </td><td>-2.5487914         </td><td>53.42783           </td><td>Active             </td><td>midas              </td><td>eastbound          </td><td>363632             </td><td>392476             </td></tr>\n",
       "\t<tr><td>1920               </td><td>M1/4154A           </td><td>2019-03-17T00:00:00</td><td>03:59:00           </td><td>15                 </td><td> 31                </td><td> 4                 </td><td> 7                 </td><td>16                 </td><td>NA                 </td><td>⋯                  </td><td>NA                 </td><td>64                 </td><td>  58               </td><td>-1.3018433         </td><td>53.08657           </td><td>Active             </td><td>midas              </td><td>northbound         </td><td>446858             </td><td>354598             </td></tr>\n",
       "</tbody>\n",
       "</table>\n"
      ],
      "text/latex": [
       "\\begin{tabular}{r|llllllllllllllllllllllllllllllll}\n",
       " site\\_id & site\\_name & report\\_date & time\\_period\\_end & interval & len\\_0\\_520\\_cm & len\\_521\\_660\\_cm & len\\_661\\_1160\\_cm & len\\_1160\\_plus\\_cm & speed\\_0\\_10\\_mph & ⋯ & speed\\_80\\_plus\\_mph & speed\\_avg\\_mph & total\\_vol & longitude & latitude & status & type & direction & easting & northing\\\\\n",
       "\\hline\n",
       "\t 3672                & M4/3166A            & 2019-03-12T00:00:00 & 08:44:00            & 34                  & 481                 & 75                  & 26                  & 58                  & NA                  & ⋯                   & NA                  & 71                  &  640                & -1.6306728          & 51.51328            & Active              & midas               & westbound           & 425725              & 179437             \\\\\n",
       "\t 8634                & 9057/1              & 2019-03-22T00:00:00 & 01:44:59            &  6                  &  NA                 & NA                  & NA                  & NA                  & NA                  & ⋯                   & NA                  & NA                  &   NA                & -2.9128519          & 53.51016            & Active              & tmu                 & eastbound           & 339559              & 401883             \\\\\n",
       "\t 8600                & 8856/2              & 2019-03-24T00:00:00 & 10:14:00            & 40                  & 233                 &  9                  &  4                  &  1                  & NA                  & ⋯                   & NA                  & 66                  &  247                & -1.5860508          & 53.77321            & Active              & tmu                 & eastbound           & 427380              & 430841             \\\\\n",
       "\t 6514                & 30360200            & 2019-03-06T00:00:00 & 22:14:00            & 88                  & 203                 & 15                  &  7                  &  5                  &  0                  & ⋯                   &  0                  & 44                  &  230                & -1.4982108          & 50.94588            & Active              & tame                & eastbound           & 435348              & 116392             \\\\\n",
       "\t 2176                & A1M/9694J           & 2019-03-29T00:00:00 & 09:59:00            & 39                  &  75                 &  6                  &  8                  &  8                  & NA                  & ⋯                   & NA                  & 50                  &   97                & -1.3753144          & 53.94276            & Active              & midas               & northbound          & 441103              & 449807             \\\\\n",
       "\t 5945                & M25/4342L           & 2019-03-17T00:00:00 & 17:59:00            & 71                  &  72                 &  9                  &  2                  &  5                  & NA                  & ⋯                   & NA                  & 47                  &   88                &  0.0355777          & 51.27242            & Active              & midas               & anti-clockwise      & 542090              & 154553             \\\\\n",
       "\t 3707                & M25/5020A           & 2019-03-16T00:00:00 & 18:59:00            & 75                  & 979                 & 29                  & 21                  & 28                  & NA                  & ⋯                   & NA                  & 54                  & 1057                & -0.5282644          & 51.55542            & Active              & midas               & clockwise           & 502129              & 185085             \\\\\n",
       "\t 6360                & 30360299            & 2019-03-14T00:00:00 & 01:29:00            &  5                  &  35                 &  2                  &  3                  &  4                  &  0                  & ⋯                   &  5                  & 64                  &   44                & -0.9798699          & 50.96274            & Active              & tame                & southbound          & 471736              & 118642             \\\\\n",
       "\t  337                & M62/1300A           & 2019-03-15T00:00:00 & 00:29:59            &  1                  &  NA                 & NA                  & NA                  & NA                  & NA                  & ⋯                   & NA                  & NA                  &   NA                & -2.5487914          & 53.42783            & Active              & midas               & eastbound           & 363632              & 392476             \\\\\n",
       "\t 1920                & M1/4154A            & 2019-03-17T00:00:00 & 03:59:00            & 15                  &  31                 &  4                  &  7                  & 16                  & NA                  & ⋯                   & NA                  & 64                  &   58                & -1.3018433          & 53.08657            & Active              & midas               & northbound          & 446858              & 354598             \\\\\n",
       "\\end{tabular}\n"
      ],
      "text/markdown": [
       "\n",
       "site_id | site_name | report_date | time_period_end | interval | len_0_520_cm | len_521_660_cm | len_661_1160_cm | len_1160_plus_cm | speed_0_10_mph | ⋯ | speed_80_plus_mph | speed_avg_mph | total_vol | longitude | latitude | status | type | direction | easting | northing | \n",
       "|---|---|---|---|---|---|---|---|---|---|\n",
       "| 3672                | M4/3166A            | 2019-03-12T00:00:00 | 08:44:00            | 34                  | 481                 | 75                  | 26                  | 58                  | NA                  | ⋯                   | NA                  | 71                  |  640                | -1.6306728          | 51.51328            | Active              | midas               | westbound           | 425725              | 179437              | \n",
       "| 8634                | 9057/1              | 2019-03-22T00:00:00 | 01:44:59            |  6                  |  NA                 | NA                  | NA                  | NA                  | NA                  | ⋯                   | NA                  | NA                  |   NA                | -2.9128519          | 53.51016            | Active              | tmu                 | eastbound           | 339559              | 401883              | \n",
       "| 8600                | 8856/2              | 2019-03-24T00:00:00 | 10:14:00            | 40                  | 233                 |  9                  |  4                  |  1                  | NA                  | ⋯                   | NA                  | 66                  |  247                | -1.5860508          | 53.77321            | Active              | tmu                 | eastbound           | 427380              | 430841              | \n",
       "| 6514                | 30360200            | 2019-03-06T00:00:00 | 22:14:00            | 88                  | 203                 | 15                  |  7                  |  5                  |  0                  | ⋯                   |  0                  | 44                  |  230                | -1.4982108          | 50.94588            | Active              | tame                | eastbound           | 435348              | 116392              | \n",
       "| 2176                | A1M/9694J           | 2019-03-29T00:00:00 | 09:59:00            | 39                  |  75                 |  6                  |  8                  |  8                  | NA                  | ⋯                   | NA                  | 50                  |   97                | -1.3753144          | 53.94276            | Active              | midas               | northbound          | 441103              | 449807              | \n",
       "| 5945                | M25/4342L           | 2019-03-17T00:00:00 | 17:59:00            | 71                  |  72                 |  9                  |  2                  |  5                  | NA                  | ⋯                   | NA                  | 47                  |   88                |  0.0355777          | 51.27242            | Active              | midas               | anti-clockwise      | 542090              | 154553              | \n",
       "| 3707                | M25/5020A           | 2019-03-16T00:00:00 | 18:59:00            | 75                  | 979                 | 29                  | 21                  | 28                  | NA                  | ⋯                   | NA                  | 54                  | 1057                | -0.5282644          | 51.55542            | Active              | midas               | clockwise           | 502129              | 185085              | \n",
       "| 6360                | 30360299            | 2019-03-14T00:00:00 | 01:29:00            |  5                  |  35                 |  2                  |  3                  |  4                  |  0                  | ⋯                   |  5                  | 64                  |   44                | -0.9798699          | 50.96274            | Active              | tame                | southbound          | 471736              | 118642              | \n",
       "|  337                | M62/1300A           | 2019-03-15T00:00:00 | 00:29:59            |  1                  |  NA                 | NA                  | NA                  | NA                  | NA                  | ⋯                   | NA                  | NA                  |   NA                | -2.5487914          | 53.42783            | Active              | midas               | eastbound           | 363632              | 392476              | \n",
       "| 1920                | M1/4154A            | 2019-03-17T00:00:00 | 03:59:00            | 15                  |  31                 |  4                  |  7                  | 16                  | NA                  | ⋯                   | NA                  | 64                  |   58                | -1.3018433          | 53.08657            | Active              | midas               | northbound          | 446858              | 354598              | \n",
       "\n",
       "\n"
      ],
      "text/plain": [
       "   site_id site_name report_date         time_period_end interval len_0_520_cm\n",
       "1  3672    M4/3166A  2019-03-12T00:00:00 08:44:00        34       481         \n",
       "2  8634    9057/1    2019-03-22T00:00:00 01:44:59         6        NA         \n",
       "3  8600    8856/2    2019-03-24T00:00:00 10:14:00        40       233         \n",
       "4  6514    30360200  2019-03-06T00:00:00 22:14:00        88       203         \n",
       "5  2176    A1M/9694J 2019-03-29T00:00:00 09:59:00        39        75         \n",
       "6  5945    M25/4342L 2019-03-17T00:00:00 17:59:00        71        72         \n",
       "7  3707    M25/5020A 2019-03-16T00:00:00 18:59:00        75       979         \n",
       "8  6360    30360299  2019-03-14T00:00:00 01:29:00         5        35         \n",
       "9   337    M62/1300A 2019-03-15T00:00:00 00:29:59         1        NA         \n",
       "10 1920    M1/4154A  2019-03-17T00:00:00 03:59:00        15        31         \n",
       "   len_521_660_cm len_661_1160_cm len_1160_plus_cm speed_0_10_mph ⋯\n",
       "1  75             26              58               NA             ⋯\n",
       "2  NA             NA              NA               NA             ⋯\n",
       "3   9              4               1               NA             ⋯\n",
       "4  15              7               5                0             ⋯\n",
       "5   6              8               8               NA             ⋯\n",
       "6   9              2               5               NA             ⋯\n",
       "7  29             21              28               NA             ⋯\n",
       "8   2              3               4                0             ⋯\n",
       "9  NA             NA              NA               NA             ⋯\n",
       "10  4              7              16               NA             ⋯\n",
       "   speed_80_plus_mph speed_avg_mph total_vol longitude  latitude status type \n",
       "1  NA                71             640      -1.6306728 51.51328 Active midas\n",
       "2  NA                NA              NA      -2.9128519 53.51016 Active tmu  \n",
       "3  NA                66             247      -1.5860508 53.77321 Active tmu  \n",
       "4   0                44             230      -1.4982108 50.94588 Active tame \n",
       "5  NA                50              97      -1.3753144 53.94276 Active midas\n",
       "6  NA                47              88       0.0355777 51.27242 Active midas\n",
       "7  NA                54            1057      -0.5282644 51.55542 Active midas\n",
       "8   5                64              44      -0.9798699 50.96274 Active tame \n",
       "9  NA                NA              NA      -2.5487914 53.42783 Active midas\n",
       "10 NA                64              58      -1.3018433 53.08657 Active midas\n",
       "   direction      easting northing\n",
       "1  westbound      425725  179437  \n",
       "2  eastbound      339559  401883  \n",
       "3  eastbound      427380  430841  \n",
       "4  eastbound      435348  116392  \n",
       "5  northbound     441103  449807  \n",
       "6  anti-clockwise 542090  154553  \n",
       "7  clockwise      502129  185085  \n",
       "8  southbound     471736  118642  \n",
       "9  eastbound      363632  392476  \n",
       "10 northbound     446858  354598  "
      ]
     },
     "metadata": {},
     "output_type": "display_data"
    }
   ],
   "source": [
    "# glue together\n",
    "readings <- cbind(readings, sites[mapping, -(1:3)])\n",
    "readings[sample(1:nrow(readings), 10), ]"
   ]
  },
  {
   "cell_type": "markdown",
   "metadata": {},
   "source": [
    "**warning** ^-- pushed R instance to ~70g memory. good job i have swap on an NVMe stick.."
   ]
  },
  {
   "cell_type": "code",
   "execution_count": 30,
   "metadata": {},
   "outputs": [
    {
     "data": {
      "text/html": [
       "<table>\n",
       "<thead><tr><th scope=col>site_id</th><th scope=col>site_name</th><th scope=col>report_date</th><th scope=col>time_period_end</th><th scope=col>interval</th><th scope=col>len_0_520_cm</th><th scope=col>len_521_660_cm</th><th scope=col>len_661_1160_cm</th><th scope=col>len_1160_plus_cm</th><th scope=col>speed_0_10_mph</th><th scope=col>⋯</th><th scope=col>speed_80_plus_mph</th><th scope=col>speed_avg_mph</th><th scope=col>total_vol</th><th scope=col>longitude</th><th scope=col>latitude</th><th scope=col>status</th><th scope=col>type</th><th scope=col>direction</th><th scope=col>easting</th><th scope=col>northing</th></tr></thead>\n",
       "<tbody>\n",
       "\t<tr><td>99                 </td><td>M1/2501A           </td><td>2019-03-31T00:00:00</td><td>22:44:00           </td><td>90                 </td><td>441                </td><td>53                 </td><td>21                 </td><td>37                 </td><td>NA                 </td><td>⋯                  </td><td>NA                 </td><td>64                 </td><td>552                </td><td>-0.4332477         </td><td>51.86238           </td><td>Active             </td><td>midas              </td><td>northbound         </td><td>507983             </td><td>219359             </td></tr>\n",
       "\t<tr><td>99                 </td><td>M1/2501A           </td><td>2019-03-31T00:00:00</td><td>22:59:00           </td><td>91                 </td><td>457                </td><td>44                 </td><td>21                 </td><td>42                 </td><td>NA                 </td><td>⋯                  </td><td>NA                 </td><td>65                 </td><td>564                </td><td>-0.4332477         </td><td>51.86238           </td><td>Active             </td><td>midas              </td><td>northbound         </td><td>507983             </td><td>219359             </td></tr>\n",
       "\t<tr><td>99                 </td><td>M1/2501A           </td><td>2019-03-31T00:00:00</td><td>23:14:00           </td><td>92                 </td><td>399                </td><td>58                 </td><td>13                 </td><td>40                 </td><td>NA                 </td><td>⋯                  </td><td>NA                 </td><td>64                 </td><td>510                </td><td>-0.4332477         </td><td>51.86238           </td><td>Active             </td><td>midas              </td><td>northbound         </td><td>507983             </td><td>219359             </td></tr>\n",
       "\t<tr><td>99                 </td><td>M1/2501A           </td><td>2019-03-31T00:00:00</td><td>23:29:00           </td><td>93                 </td><td>405                </td><td>44                 </td><td>13                 </td><td>43                 </td><td>NA                 </td><td>⋯                  </td><td>NA                 </td><td>64                 </td><td>505                </td><td>-0.4332477         </td><td>51.86238           </td><td>Active             </td><td>midas              </td><td>northbound         </td><td>507983             </td><td>219359             </td></tr>\n",
       "\t<tr><td>99                 </td><td>M1/2501A           </td><td>2019-03-31T00:00:00</td><td>23:44:00           </td><td>94                 </td><td>348                </td><td>39                 </td><td>16                 </td><td>33                 </td><td>NA                 </td><td>⋯                  </td><td>NA                 </td><td>65                 </td><td>436                </td><td>-0.4332477         </td><td>51.86238           </td><td>Active             </td><td>midas              </td><td>northbound         </td><td>507983             </td><td>219359             </td></tr>\n",
       "\t<tr><td>99                 </td><td>M1/2501A           </td><td>2019-03-31T00:00:00</td><td>23:59:00           </td><td>95                 </td><td>311                </td><td>42                 </td><td>13                 </td><td>59                 </td><td>NA                 </td><td>⋯                  </td><td>NA                 </td><td>64                 </td><td>425                </td><td>-0.4332477         </td><td>51.86238           </td><td>Active             </td><td>midas              </td><td>northbound         </td><td>507983             </td><td>219359             </td></tr>\n",
       "</tbody>\n",
       "</table>\n"
      ],
      "text/latex": [
       "\\begin{tabular}{r|llllllllllllllllllllllllllllllll}\n",
       " site\\_id & site\\_name & report\\_date & time\\_period\\_end & interval & len\\_0\\_520\\_cm & len\\_521\\_660\\_cm & len\\_661\\_1160\\_cm & len\\_1160\\_plus\\_cm & speed\\_0\\_10\\_mph & ⋯ & speed\\_80\\_plus\\_mph & speed\\_avg\\_mph & total\\_vol & longitude & latitude & status & type & direction & easting & northing\\\\\n",
       "\\hline\n",
       "\t 99                  & M1/2501A            & 2019-03-31T00:00:00 & 22:44:00            & 90                  & 441                 & 53                  & 21                  & 37                  & NA                  & ⋯                   & NA                  & 64                  & 552                 & -0.4332477          & 51.86238            & Active              & midas               & northbound          & 507983              & 219359             \\\\\n",
       "\t 99                  & M1/2501A            & 2019-03-31T00:00:00 & 22:59:00            & 91                  & 457                 & 44                  & 21                  & 42                  & NA                  & ⋯                   & NA                  & 65                  & 564                 & -0.4332477          & 51.86238            & Active              & midas               & northbound          & 507983              & 219359             \\\\\n",
       "\t 99                  & M1/2501A            & 2019-03-31T00:00:00 & 23:14:00            & 92                  & 399                 & 58                  & 13                  & 40                  & NA                  & ⋯                   & NA                  & 64                  & 510                 & -0.4332477          & 51.86238            & Active              & midas               & northbound          & 507983              & 219359             \\\\\n",
       "\t 99                  & M1/2501A            & 2019-03-31T00:00:00 & 23:29:00            & 93                  & 405                 & 44                  & 13                  & 43                  & NA                  & ⋯                   & NA                  & 64                  & 505                 & -0.4332477          & 51.86238            & Active              & midas               & northbound          & 507983              & 219359             \\\\\n",
       "\t 99                  & M1/2501A            & 2019-03-31T00:00:00 & 23:44:00            & 94                  & 348                 & 39                  & 16                  & 33                  & NA                  & ⋯                   & NA                  & 65                  & 436                 & -0.4332477          & 51.86238            & Active              & midas               & northbound          & 507983              & 219359             \\\\\n",
       "\t 99                  & M1/2501A            & 2019-03-31T00:00:00 & 23:59:00            & 95                  & 311                 & 42                  & 13                  & 59                  & NA                  & ⋯                   & NA                  & 64                  & 425                 & -0.4332477          & 51.86238            & Active              & midas               & northbound          & 507983              & 219359             \\\\\n",
       "\\end{tabular}\n"
      ],
      "text/markdown": [
       "\n",
       "site_id | site_name | report_date | time_period_end | interval | len_0_520_cm | len_521_660_cm | len_661_1160_cm | len_1160_plus_cm | speed_0_10_mph | ⋯ | speed_80_plus_mph | speed_avg_mph | total_vol | longitude | latitude | status | type | direction | easting | northing | \n",
       "|---|---|---|---|---|---|\n",
       "| 99                  | M1/2501A            | 2019-03-31T00:00:00 | 22:44:00            | 90                  | 441                 | 53                  | 21                  | 37                  | NA                  | ⋯                   | NA                  | 64                  | 552                 | -0.4332477          | 51.86238            | Active              | midas               | northbound          | 507983              | 219359              | \n",
       "| 99                  | M1/2501A            | 2019-03-31T00:00:00 | 22:59:00            | 91                  | 457                 | 44                  | 21                  | 42                  | NA                  | ⋯                   | NA                  | 65                  | 564                 | -0.4332477          | 51.86238            | Active              | midas               | northbound          | 507983              | 219359              | \n",
       "| 99                  | M1/2501A            | 2019-03-31T00:00:00 | 23:14:00            | 92                  | 399                 | 58                  | 13                  | 40                  | NA                  | ⋯                   | NA                  | 64                  | 510                 | -0.4332477          | 51.86238            | Active              | midas               | northbound          | 507983              | 219359              | \n",
       "| 99                  | M1/2501A            | 2019-03-31T00:00:00 | 23:29:00            | 93                  | 405                 | 44                  | 13                  | 43                  | NA                  | ⋯                   | NA                  | 64                  | 505                 | -0.4332477          | 51.86238            | Active              | midas               | northbound          | 507983              | 219359              | \n",
       "| 99                  | M1/2501A            | 2019-03-31T00:00:00 | 23:44:00            | 94                  | 348                 | 39                  | 16                  | 33                  | NA                  | ⋯                   | NA                  | 65                  | 436                 | -0.4332477          | 51.86238            | Active              | midas               | northbound          | 507983              | 219359              | \n",
       "| 99                  | M1/2501A            | 2019-03-31T00:00:00 | 23:59:00            | 95                  | 311                 | 42                  | 13                  | 59                  | NA                  | ⋯                   | NA                  | 64                  | 425                 | -0.4332477          | 51.86238            | Active              | midas               | northbound          | 507983              | 219359              | \n",
       "\n",
       "\n"
      ],
      "text/plain": [
       "  site_id site_name report_date         time_period_end interval len_0_520_cm\n",
       "1 99      M1/2501A  2019-03-31T00:00:00 22:44:00        90       441         \n",
       "2 99      M1/2501A  2019-03-31T00:00:00 22:59:00        91       457         \n",
       "3 99      M1/2501A  2019-03-31T00:00:00 23:14:00        92       399         \n",
       "4 99      M1/2501A  2019-03-31T00:00:00 23:29:00        93       405         \n",
       "5 99      M1/2501A  2019-03-31T00:00:00 23:44:00        94       348         \n",
       "6 99      M1/2501A  2019-03-31T00:00:00 23:59:00        95       311         \n",
       "  len_521_660_cm len_661_1160_cm len_1160_plus_cm speed_0_10_mph ⋯\n",
       "1 53             21              37               NA             ⋯\n",
       "2 44             21              42               NA             ⋯\n",
       "3 58             13              40               NA             ⋯\n",
       "4 44             13              43               NA             ⋯\n",
       "5 39             16              33               NA             ⋯\n",
       "6 42             13              59               NA             ⋯\n",
       "  speed_80_plus_mph speed_avg_mph total_vol longitude  latitude status type \n",
       "1 NA                64            552       -0.4332477 51.86238 Active midas\n",
       "2 NA                65            564       -0.4332477 51.86238 Active midas\n",
       "3 NA                64            510       -0.4332477 51.86238 Active midas\n",
       "4 NA                64            505       -0.4332477 51.86238 Active midas\n",
       "5 NA                65            436       -0.4332477 51.86238 Active midas\n",
       "6 NA                64            425       -0.4332477 51.86238 Active midas\n",
       "  direction  easting northing\n",
       "1 northbound 507983  219359  \n",
       "2 northbound 507983  219359  \n",
       "3 northbound 507983  219359  \n",
       "4 northbound 507983  219359  \n",
       "5 northbound 507983  219359  \n",
       "6 northbound 507983  219359  "
      ]
     },
     "metadata": {},
     "output_type": "display_data"
    }
   ],
   "source": [
    "tail(readings)"
   ]
  },
  {
   "cell_type": "code",
   "execution_count": 31,
   "metadata": {},
   "outputs": [],
   "source": [
    "# write this out and split by midas,tame,tmu later (need to free memory)\n",
    "fwrite(readings, \"../readings_combo.csv\", quote=F, row.names=F)"
   ]
  }
 ],
 "metadata": {
  "kernelspec": {
   "display_name": "R",
   "language": "R",
   "name": "ir"
  },
  "language_info": {
   "codemirror_mode": "r",
   "file_extension": ".r",
   "mimetype": "text/x-r-source",
   "name": "R",
   "pygments_lexer": "r",
   "version": "3.5.3"
  }
 },
 "nbformat": 4,
 "nbformat_minor": 2
}
