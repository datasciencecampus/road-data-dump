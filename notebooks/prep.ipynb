{
 "cells": [
  {
   "cell_type": "code",
   "execution_count": 24,
   "metadata": {},
   "outputs": [],
   "source": [
    "library(data.table)"
   ]
  },
  {
   "cell_type": "markdown",
   "metadata": {},
   "source": [
    "# read stuff in\n",
    "\n",
    "`combo.csv` is the result of combining individual CSVs in `data/`."
   ]
  },
  {
   "cell_type": "markdown",
   "metadata": {},
   "source": [
    "first read in site info"
   ]
  },
  {
   "cell_type": "code",
   "execution_count": 25,
   "metadata": {},
   "outputs": [
    {
     "data": {
      "text/html": [
       "<table>\n",
       "<caption>A data.frame: 6 × 7</caption>\n",
       "<thead>\n",
       "\t<tr><th></th><th scope=col>id</th><th scope=col>name</th><th scope=col>description</th><th scope=col>longitude</th><th scope=col>latitude</th><th scope=col>status</th><th scope=col>type</th></tr>\n",
       "\t<tr><th></th><th scope=col>&lt;int&gt;</th><th scope=col>&lt;chr&gt;</th><th scope=col>&lt;chr&gt;</th><th scope=col>&lt;dbl&gt;</th><th scope=col>&lt;dbl&gt;</th><th scope=col>&lt;chr&gt;</th><th scope=col>&lt;chr&gt;</th></tr>\n",
       "</thead>\n",
       "<tbody>\n",
       "\t<tr><th scope=row>11776</th><td>17672</td><td>MIDAS site at M180/1119A priority 1 on link 116003101; GPS Ref: 478540;408686; Eastbound</td><td>M180/1119A</td><td>-0.8155268</td><td>53.56893</td><td>Active</td><td>midas</td></tr>\n",
       "\t<tr><th scope=row>11777</th><td>17675</td><td>MIDAS site at M54/3154M priority 1 on link 111030902; GPS Ref: 391910;304529; Eastbound </td><td>M54/3154M </td><td>-2.1209772</td><td>52.63846</td><td>Active</td><td>midas</td></tr>\n",
       "\t<tr><th scope=row>11778</th><td>17676</td><td>MIDAS site at M54/3155B priority 1 on link 200119801; GPS Ref: 391811;304504; Eastbound </td><td>M54/3155B </td><td>-2.1224395</td><td>52.63823</td><td>Active</td><td>midas</td></tr>\n",
       "\t<tr><th scope=row>11779</th><td>17677</td><td>MIDAS site at M54/3160B priority 1 on link 200119801; GPS Ref: 391314;304488; Eastbound </td><td>M54/3160B </td><td>-2.1297835</td><td>52.63808</td><td>Active</td><td>midas</td></tr>\n",
       "\t<tr><th scope=row>11780</th><td>17678</td><td>MIDAS site at M60/9314J priority 1 on link 115017301; GPS Ref: 382539;405788; Clockwise </td><td>M60/9314J </td><td>-2.2649961</td><td>53.54845</td><td>Active</td><td>midas</td></tr>\n",
       "\t<tr><th scope=row>11781</th><td>17680</td><td>MIDAS site at M1/3924B priority 1 on link 107026401; GPS Ref: 447190;334381; Southbound </td><td>M1/3924B  </td><td>-1.2998282</td><td>52.90482</td><td>Active</td><td>midas</td></tr>\n",
       "</tbody>\n",
       "</table>\n"
      ],
      "text/latex": [
       "A data.frame: 6 × 7\n",
       "\\begin{tabular}{r|lllllll}\n",
       "  & id & name & description & longitude & latitude & status & type\\\\\n",
       "  & <int> & <chr> & <chr> & <dbl> & <dbl> & <chr> & <chr>\\\\\n",
       "\\hline\n",
       "\t11776 & 17672 & MIDAS site at M180/1119A priority 1 on link 116003101; GPS Ref: 478540;408686; Eastbound & M180/1119A & -0.8155268 & 53.56893 & Active & midas\\\\\n",
       "\t11777 & 17675 & MIDAS site at M54/3154M priority 1 on link 111030902; GPS Ref: 391910;304529; Eastbound  & M54/3154M  & -2.1209772 & 52.63846 & Active & midas\\\\\n",
       "\t11778 & 17676 & MIDAS site at M54/3155B priority 1 on link 200119801; GPS Ref: 391811;304504; Eastbound  & M54/3155B  & -2.1224395 & 52.63823 & Active & midas\\\\\n",
       "\t11779 & 17677 & MIDAS site at M54/3160B priority 1 on link 200119801; GPS Ref: 391314;304488; Eastbound  & M54/3160B  & -2.1297835 & 52.63808 & Active & midas\\\\\n",
       "\t11780 & 17678 & MIDAS site at M60/9314J priority 1 on link 115017301; GPS Ref: 382539;405788; Clockwise  & M60/9314J  & -2.2649961 & 53.54845 & Active & midas\\\\\n",
       "\t11781 & 17680 & MIDAS site at M1/3924B priority 1 on link 107026401; GPS Ref: 447190;334381; Southbound  & M1/3924B   & -1.2998282 & 52.90482 & Active & midas\\\\\n",
       "\\end{tabular}\n"
      ],
      "text/markdown": [
       "\n",
       "A data.frame: 6 × 7\n",
       "\n",
       "| <!--/--> | id &lt;int&gt; | name &lt;chr&gt; | description &lt;chr&gt; | longitude &lt;dbl&gt; | latitude &lt;dbl&gt; | status &lt;chr&gt; | type &lt;chr&gt; |\n",
       "|---|---|---|---|---|---|---|---|\n",
       "| 11776 | 17672 | MIDAS site at M180/1119A priority 1 on link 116003101; GPS Ref: 478540;408686; Eastbound | M180/1119A | -0.8155268 | 53.56893 | Active | midas |\n",
       "| 11777 | 17675 | MIDAS site at M54/3154M priority 1 on link 111030902; GPS Ref: 391910;304529; Eastbound  | M54/3154M  | -2.1209772 | 52.63846 | Active | midas |\n",
       "| 11778 | 17676 | MIDAS site at M54/3155B priority 1 on link 200119801; GPS Ref: 391811;304504; Eastbound  | M54/3155B  | -2.1224395 | 52.63823 | Active | midas |\n",
       "| 11779 | 17677 | MIDAS site at M54/3160B priority 1 on link 200119801; GPS Ref: 391314;304488; Eastbound  | M54/3160B  | -2.1297835 | 52.63808 | Active | midas |\n",
       "| 11780 | 17678 | MIDAS site at M60/9314J priority 1 on link 115017301; GPS Ref: 382539;405788; Clockwise  | M60/9314J  | -2.2649961 | 53.54845 | Active | midas |\n",
       "| 11781 | 17680 | MIDAS site at M1/3924B priority 1 on link 107026401; GPS Ref: 447190;334381; Southbound  | M1/3924B   | -1.2998282 | 52.90482 | Active | midas |\n",
       "\n"
      ],
      "text/plain": [
       "      id   \n",
       "11776 17672\n",
       "11777 17675\n",
       "11778 17676\n",
       "11779 17677\n",
       "11780 17678\n",
       "11781 17680\n",
       "      name                                                                                    \n",
       "11776 MIDAS site at M180/1119A priority 1 on link 116003101; GPS Ref: 478540;408686; Eastbound\n",
       "11777 MIDAS site at M54/3154M priority 1 on link 111030902; GPS Ref: 391910;304529; Eastbound \n",
       "11778 MIDAS site at M54/3155B priority 1 on link 200119801; GPS Ref: 391811;304504; Eastbound \n",
       "11779 MIDAS site at M54/3160B priority 1 on link 200119801; GPS Ref: 391314;304488; Eastbound \n",
       "11780 MIDAS site at M60/9314J priority 1 on link 115017301; GPS Ref: 382539;405788; Clockwise \n",
       "11781 MIDAS site at M1/3924B priority 1 on link 107026401; GPS Ref: 447190;334381; Southbound \n",
       "      description longitude  latitude status type \n",
       "11776 M180/1119A  -0.8155268 53.56893 Active midas\n",
       "11777 M54/3154M   -2.1209772 52.63846 Active midas\n",
       "11778 M54/3155B   -2.1224395 52.63823 Active midas\n",
       "11779 M54/3160B   -2.1297835 52.63808 Active midas\n",
       "11780 M60/9314J   -2.2649961 53.54845 Active midas\n",
       "11781 M1/3924B    -1.2998282 52.90482 Active midas"
      ]
     },
     "metadata": {},
     "output_type": "display_data"
    }
   ],
   "source": [
    "site.midas <- read.csv(\"../site_midas.csv\", stringsAsFactor=F)\n",
    "site.midas$type <- \"midas\"\n",
    "tail(site.midas)"
   ]
  },
  {
   "cell_type": "code",
   "execution_count": 26,
   "metadata": {},
   "outputs": [
    {
     "data": {
      "text/html": [
       "<table>\n",
       "<caption>A data.frame: 6 × 7</caption>\n",
       "<thead>\n",
       "\t<tr><th></th><th scope=col>id</th><th scope=col>name</th><th scope=col>description</th><th scope=col>longitude</th><th scope=col>latitude</th><th scope=col>status</th><th scope=col>type</th></tr>\n",
       "\t<tr><th></th><th scope=col>&lt;int&gt;</th><th scope=col>&lt;chr&gt;</th><th scope=col>&lt;int&gt;</th><th scope=col>&lt;dbl&gt;</th><th scope=col>&lt;dbl&gt;</th><th scope=col>&lt;chr&gt;</th><th scope=col>&lt;chr&gt;</th></tr>\n",
       "</thead>\n",
       "<tbody>\n",
       "\t<tr><th scope=row>854</th><td>14004</td><td>TAME Site 30362511 on link A38 eastbound within the A374 near Plymouth junction; GPS Ref: 251361;56956; Eastbound                </td><td>30362511</td><td>-4.092551</td><td>50.39363</td><td>Active</td><td>tame</td></tr>\n",
       "\t<tr><th scope=row>855</th><td>14307</td><td>TAME Site 30362502 on link Connector at A31/A338 near Ringwood (west); GPS Ref: 412871;104170; Eastbound                         </td><td>30362502</td><td>-1.818580</td><td>50.83691</td><td>Active</td><td>tame</td></tr>\n",
       "\t<tr><th scope=row>856</th><td>14308</td><td>TAME Site 30362503 on link A31 westbound exit for A338 near Ringwood (west); GPS Ref: 413287;104404; Westbound                   </td><td>30362503</td><td>-1.812664</td><td>50.83900</td><td>Active</td><td>tame</td></tr>\n",
       "\t<tr><th scope=row>857</th><td>14309</td><td>TAME Site 30362504 on link Fast slip link at A31 westbound exit for A338 near Ringwood (west); GPS Ref: 413296;104381; Westbound </td><td>30362504</td><td>-1.812537</td><td>50.83880</td><td>Active</td><td>tame</td></tr>\n",
       "\t<tr><th scope=row>858</th><td>14376</td><td>TAME Site 30362513 on link A21 northbound within the M25/A25 junction after exit for A25 east; GPS Ref: 549833;155937; Northbound</td><td>30362513</td><td> 0.147077</td><td>51.28287</td><td>Active</td><td>tame</td></tr>\n",
       "\t<tr><th scope=row>859</th><td>17679</td><td>TAME Site 30362514 on link A31 eastbound exit for A338 near Ringwood (west); GPS Ref: 412870;104170; Eastbound                   </td><td>30362514</td><td>-1.818594</td><td>50.83691</td><td>Active</td><td>tame</td></tr>\n",
       "</tbody>\n",
       "</table>\n"
      ],
      "text/latex": [
       "A data.frame: 6 × 7\n",
       "\\begin{tabular}{r|lllllll}\n",
       "  & id & name & description & longitude & latitude & status & type\\\\\n",
       "  & <int> & <chr> & <int> & <dbl> & <dbl> & <chr> & <chr>\\\\\n",
       "\\hline\n",
       "\t854 & 14004 & TAME Site 30362511 on link A38 eastbound within the A374 near Plymouth junction; GPS Ref: 251361;56956; Eastbound                 & 30362511 & -4.092551 & 50.39363 & Active & tame\\\\\n",
       "\t855 & 14307 & TAME Site 30362502 on link Connector at A31/A338 near Ringwood (west); GPS Ref: 412871;104170; Eastbound                          & 30362502 & -1.818580 & 50.83691 & Active & tame\\\\\n",
       "\t856 & 14308 & TAME Site 30362503 on link A31 westbound exit for A338 near Ringwood (west); GPS Ref: 413287;104404; Westbound                    & 30362503 & -1.812664 & 50.83900 & Active & tame\\\\\n",
       "\t857 & 14309 & TAME Site 30362504 on link Fast slip link at A31 westbound exit for A338 near Ringwood (west); GPS Ref: 413296;104381; Westbound  & 30362504 & -1.812537 & 50.83880 & Active & tame\\\\\n",
       "\t858 & 14376 & TAME Site 30362513 on link A21 northbound within the M25/A25 junction after exit for A25 east; GPS Ref: 549833;155937; Northbound & 30362513 &  0.147077 & 51.28287 & Active & tame\\\\\n",
       "\t859 & 17679 & TAME Site 30362514 on link A31 eastbound exit for A338 near Ringwood (west); GPS Ref: 412870;104170; Eastbound                    & 30362514 & -1.818594 & 50.83691 & Active & tame\\\\\n",
       "\\end{tabular}\n"
      ],
      "text/markdown": [
       "\n",
       "A data.frame: 6 × 7\n",
       "\n",
       "| <!--/--> | id &lt;int&gt; | name &lt;chr&gt; | description &lt;int&gt; | longitude &lt;dbl&gt; | latitude &lt;dbl&gt; | status &lt;chr&gt; | type &lt;chr&gt; |\n",
       "|---|---|---|---|---|---|---|---|\n",
       "| 854 | 14004 | TAME Site 30362511 on link A38 eastbound within the A374 near Plymouth junction; GPS Ref: 251361;56956; Eastbound                 | 30362511 | -4.092551 | 50.39363 | Active | tame |\n",
       "| 855 | 14307 | TAME Site 30362502 on link Connector at A31/A338 near Ringwood (west); GPS Ref: 412871;104170; Eastbound                          | 30362502 | -1.818580 | 50.83691 | Active | tame |\n",
       "| 856 | 14308 | TAME Site 30362503 on link A31 westbound exit for A338 near Ringwood (west); GPS Ref: 413287;104404; Westbound                    | 30362503 | -1.812664 | 50.83900 | Active | tame |\n",
       "| 857 | 14309 | TAME Site 30362504 on link Fast slip link at A31 westbound exit for A338 near Ringwood (west); GPS Ref: 413296;104381; Westbound  | 30362504 | -1.812537 | 50.83880 | Active | tame |\n",
       "| 858 | 14376 | TAME Site 30362513 on link A21 northbound within the M25/A25 junction after exit for A25 east; GPS Ref: 549833;155937; Northbound | 30362513 |  0.147077 | 51.28287 | Active | tame |\n",
       "| 859 | 17679 | TAME Site 30362514 on link A31 eastbound exit for A338 near Ringwood (west); GPS Ref: 412870;104170; Eastbound                    | 30362514 | -1.818594 | 50.83691 | Active | tame |\n",
       "\n"
      ],
      "text/plain": [
       "    id   \n",
       "854 14004\n",
       "855 14307\n",
       "856 14308\n",
       "857 14309\n",
       "858 14376\n",
       "859 17679\n",
       "    name                                                                                                                             \n",
       "854 TAME Site 30362511 on link A38 eastbound within the A374 near Plymouth junction; GPS Ref: 251361;56956; Eastbound                \n",
       "855 TAME Site 30362502 on link Connector at A31/A338 near Ringwood (west); GPS Ref: 412871;104170; Eastbound                         \n",
       "856 TAME Site 30362503 on link A31 westbound exit for A338 near Ringwood (west); GPS Ref: 413287;104404; Westbound                   \n",
       "857 TAME Site 30362504 on link Fast slip link at A31 westbound exit for A338 near Ringwood (west); GPS Ref: 413296;104381; Westbound \n",
       "858 TAME Site 30362513 on link A21 northbound within the M25/A25 junction after exit for A25 east; GPS Ref: 549833;155937; Northbound\n",
       "859 TAME Site 30362514 on link A31 eastbound exit for A338 near Ringwood (west); GPS Ref: 412870;104170; Eastbound                   \n",
       "    description longitude latitude status type\n",
       "854 30362511    -4.092551 50.39363 Active tame\n",
       "855 30362502    -1.818580 50.83691 Active tame\n",
       "856 30362503    -1.812664 50.83900 Active tame\n",
       "857 30362504    -1.812537 50.83880 Active tame\n",
       "858 30362513     0.147077 51.28287 Active tame\n",
       "859 30362514    -1.818594 50.83691 Active tame"
      ]
     },
     "metadata": {},
     "output_type": "display_data"
    }
   ],
   "source": [
    "site.tame <- read.csv(\"../site_tame.csv\", stringsAsFactor=F)\n",
    "site.tame$type <- \"tame\"\n",
    "tail(site.tame)"
   ]
  },
  {
   "cell_type": "code",
   "execution_count": 27,
   "metadata": {},
   "outputs": [
    {
     "data": {
      "text/html": [
       "<table>\n",
       "<caption>A data.frame: 6 × 7</caption>\n",
       "<thead>\n",
       "\t<tr><th></th><th scope=col>id</th><th scope=col>name</th><th scope=col>description</th><th scope=col>longitude</th><th scope=col>latitude</th><th scope=col>status</th><th scope=col>type</th></tr>\n",
       "\t<tr><th></th><th scope=col>&lt;int&gt;</th><th scope=col>&lt;chr&gt;</th><th scope=col>&lt;chr&gt;</th><th scope=col>&lt;dbl&gt;</th><th scope=col>&lt;dbl&gt;</th><th scope=col>&lt;chr&gt;</th><th scope=col>&lt;chr&gt;</th></tr>\n",
       "</thead>\n",
       "<tbody>\n",
       "\t<tr><th scope=row>2790</th><td>16935</td><td>TMU 7068/2 on A1(M) southbound within J42 on road A1(M) Southbound at location 53.765282677041000,-1.283889018408000         </td><td>NO TMU ID</td><td>-1.2838890</td><td>53.76528</td><td>Inactive</td><td>tmu</td></tr>\n",
       "\t<tr><th scope=row>2791</th><td>16936</td><td>TMU 7069/1 on A1(M) northbound between J42 and J43 on road A1(M) Northbound at location 53.792111151099000,-1.322338625921000</td><td>NO TMU ID</td><td>-1.3223386</td><td>53.79211</td><td>Inactive</td><td>tmu</td></tr>\n",
       "\t<tr><th scope=row>2792</th><td>17668</td><td>TMU Site 9967/1 on link A5 northbound between B4100 and A4146 near Bletchley (south); GPS Ref: 490291;232886; Northbound     </td><td>9967/1   </td><td>-0.6865507</td><td>51.98711</td><td>Inactive</td><td>tmu</td></tr>\n",
       "\t<tr><th scope=row>2793</th><td>17669</td><td>TMU Site 9967/2 on link A5 southbound between A4146 near Bletchley (south) and B4100; GPS Ref: 490300;232907; Southbound     </td><td>9967/2   </td><td>-0.6864142</td><td>51.98730</td><td>Inactive</td><td>tmu</td></tr>\n",
       "\t<tr><th scope=row>2794</th><td>17673</td><td>TMU Site 9968/1 on link A421 northbound between A600 and A603; GPS Ref: 507840;248078; Northbound                            </td><td>9968/1   </td><td>-0.4263033</td><td>52.12052</td><td>Active  </td><td>tmu</td></tr>\n",
       "\t<tr><th scope=row>2795</th><td>17674</td><td>TMU Site 9968/2 on link A421 southbound between A603 and A600; GPS Ref: 507852;248068; Southbound                            </td><td>9968/2   </td><td>-0.4261312</td><td>52.12043</td><td>Active  </td><td>tmu</td></tr>\n",
       "</tbody>\n",
       "</table>\n"
      ],
      "text/latex": [
       "A data.frame: 6 × 7\n",
       "\\begin{tabular}{r|lllllll}\n",
       "  & id & name & description & longitude & latitude & status & type\\\\\n",
       "  & <int> & <chr> & <chr> & <dbl> & <dbl> & <chr> & <chr>\\\\\n",
       "\\hline\n",
       "\t2790 & 16935 & TMU 7068/2 on A1(M) southbound within J42 on road A1(M) Southbound at location 53.765282677041000,-1.283889018408000          & NO TMU ID & -1.2838890 & 53.76528 & Inactive & tmu\\\\\n",
       "\t2791 & 16936 & TMU 7069/1 on A1(M) northbound between J42 and J43 on road A1(M) Northbound at location 53.792111151099000,-1.322338625921000 & NO TMU ID & -1.3223386 & 53.79211 & Inactive & tmu\\\\\n",
       "\t2792 & 17668 & TMU Site 9967/1 on link A5 northbound between B4100 and A4146 near Bletchley (south); GPS Ref: 490291;232886; Northbound      & 9967/1    & -0.6865507 & 51.98711 & Inactive & tmu\\\\\n",
       "\t2793 & 17669 & TMU Site 9967/2 on link A5 southbound between A4146 near Bletchley (south) and B4100; GPS Ref: 490300;232907; Southbound      & 9967/2    & -0.6864142 & 51.98730 & Inactive & tmu\\\\\n",
       "\t2794 & 17673 & TMU Site 9968/1 on link A421 northbound between A600 and A603; GPS Ref: 507840;248078; Northbound                             & 9968/1    & -0.4263033 & 52.12052 & Active   & tmu\\\\\n",
       "\t2795 & 17674 & TMU Site 9968/2 on link A421 southbound between A603 and A600; GPS Ref: 507852;248068; Southbound                             & 9968/2    & -0.4261312 & 52.12043 & Active   & tmu\\\\\n",
       "\\end{tabular}\n"
      ],
      "text/markdown": [
       "\n",
       "A data.frame: 6 × 7\n",
       "\n",
       "| <!--/--> | id &lt;int&gt; | name &lt;chr&gt; | description &lt;chr&gt; | longitude &lt;dbl&gt; | latitude &lt;dbl&gt; | status &lt;chr&gt; | type &lt;chr&gt; |\n",
       "|---|---|---|---|---|---|---|---|\n",
       "| 2790 | 16935 | TMU 7068/2 on A1(M) southbound within J42 on road A1(M) Southbound at location 53.765282677041000,-1.283889018408000          | NO TMU ID | -1.2838890 | 53.76528 | Inactive | tmu |\n",
       "| 2791 | 16936 | TMU 7069/1 on A1(M) northbound between J42 and J43 on road A1(M) Northbound at location 53.792111151099000,-1.322338625921000 | NO TMU ID | -1.3223386 | 53.79211 | Inactive | tmu |\n",
       "| 2792 | 17668 | TMU Site 9967/1 on link A5 northbound between B4100 and A4146 near Bletchley (south); GPS Ref: 490291;232886; Northbound      | 9967/1    | -0.6865507 | 51.98711 | Inactive | tmu |\n",
       "| 2793 | 17669 | TMU Site 9967/2 on link A5 southbound between A4146 near Bletchley (south) and B4100; GPS Ref: 490300;232907; Southbound      | 9967/2    | -0.6864142 | 51.98730 | Inactive | tmu |\n",
       "| 2794 | 17673 | TMU Site 9968/1 on link A421 northbound between A600 and A603; GPS Ref: 507840;248078; Northbound                             | 9968/1    | -0.4263033 | 52.12052 | Active   | tmu |\n",
       "| 2795 | 17674 | TMU Site 9968/2 on link A421 southbound between A603 and A600; GPS Ref: 507852;248068; Southbound                             | 9968/2    | -0.4261312 | 52.12043 | Active   | tmu |\n",
       "\n"
      ],
      "text/plain": [
       "     id   \n",
       "2790 16935\n",
       "2791 16936\n",
       "2792 17668\n",
       "2793 17669\n",
       "2794 17673\n",
       "2795 17674\n",
       "     name                                                                                                                         \n",
       "2790 TMU 7068/2 on A1(M) southbound within J42 on road A1(M) Southbound at location 53.765282677041000,-1.283889018408000         \n",
       "2791 TMU 7069/1 on A1(M) northbound between J42 and J43 on road A1(M) Northbound at location 53.792111151099000,-1.322338625921000\n",
       "2792 TMU Site 9967/1 on link A5 northbound between B4100 and A4146 near Bletchley (south); GPS Ref: 490291;232886; Northbound     \n",
       "2793 TMU Site 9967/2 on link A5 southbound between A4146 near Bletchley (south) and B4100; GPS Ref: 490300;232907; Southbound     \n",
       "2794 TMU Site 9968/1 on link A421 northbound between A600 and A603; GPS Ref: 507840;248078; Northbound                            \n",
       "2795 TMU Site 9968/2 on link A421 southbound between A603 and A600; GPS Ref: 507852;248068; Southbound                            \n",
       "     description longitude  latitude status   type\n",
       "2790 NO TMU ID   -1.2838890 53.76528 Inactive tmu \n",
       "2791 NO TMU ID   -1.3223386 53.79211 Inactive tmu \n",
       "2792 9967/1      -0.6865507 51.98711 Inactive tmu \n",
       "2793 9967/2      -0.6864142 51.98730 Inactive tmu \n",
       "2794 9968/1      -0.4263033 52.12052 Active   tmu \n",
       "2795 9968/2      -0.4261312 52.12043 Active   tmu "
      ]
     },
     "metadata": {},
     "output_type": "display_data"
    }
   ],
   "source": [
    "site.tmu <- read.csv(\"../site_tmu.csv\", stringsAsFactor=F)\n",
    "site.tmu$type <- \"tmu\"\n",
    "tail(site.tmu)"
   ]
  },
  {
   "cell_type": "markdown",
   "metadata": {},
   "source": [
    "combine site info"
   ]
  },
  {
   "cell_type": "code",
   "execution_count": 28,
   "metadata": {},
   "outputs": [],
   "source": [
    "sites <- rbind(site.midas, site.tame, site.tmu)"
   ]
  },
  {
   "cell_type": "markdown",
   "metadata": {},
   "source": [
    "read in the actual data obtained from `webtri.sh`"
   ]
  },
  {
   "cell_type": "code",
   "execution_count": 29,
   "metadata": {},
   "outputs": [],
   "source": [
    "readings <- fread(\"../combo.csv\", stringsAsFactor=F)"
   ]
  },
  {
   "cell_type": "code",
   "execution_count": 30,
   "metadata": {},
   "outputs": [
    {
     "data": {
      "text/html": [
       "<table>\n",
       "<caption>A data.table: 6 × 25</caption>\n",
       "<thead>\n",
       "\t<tr><th scope=col>site_id</th><th scope=col>site_name</th><th scope=col>report_date</th><th scope=col>time_period_end</th><th scope=col>interval</th><th scope=col>len_0_520_cm</th><th scope=col>len_521_660_cm</th><th scope=col>len_661_1160_cm</th><th scope=col>len_1160_plus_cm</th><th scope=col>speed_0_10_mph</th><th scope=col>⋯</th><th scope=col>speed_36_40_mph</th><th scope=col>speed_41_45_mph</th><th scope=col>speed_46_50_mph</th><th scope=col>speed_51_55_mph</th><th scope=col>speed_56_60_mph</th><th scope=col>speed_61_70_mph</th><th scope=col>speed_71_80_mph</th><th scope=col>speed_80_plus_mph</th><th scope=col>speed_avg_mph</th><th scope=col>total_vol</th></tr>\n",
       "\t<tr><th scope=col>&lt;int&gt;</th><th scope=col>&lt;chr&gt;</th><th scope=col>&lt;chr&gt;</th><th scope=col>&lt;chr&gt;</th><th scope=col>&lt;int&gt;</th><th scope=col>&lt;int&gt;</th><th scope=col>&lt;int&gt;</th><th scope=col>&lt;int&gt;</th><th scope=col>&lt;int&gt;</th><th scope=col>&lt;int&gt;</th><th scope=col>⋯</th><th scope=col>&lt;int&gt;</th><th scope=col>&lt;int&gt;</th><th scope=col>&lt;int&gt;</th><th scope=col>&lt;int&gt;</th><th scope=col>&lt;int&gt;</th><th scope=col>&lt;int&gt;</th><th scope=col>&lt;int&gt;</th><th scope=col>&lt;int&gt;</th><th scope=col>&lt;int&gt;</th><th scope=col>&lt;int&gt;</th></tr>\n",
       "</thead>\n",
       "<tbody>\n",
       "\t<tr><td>99</td><td>M1/2501A</td><td>2019-04-30T00:00:00</td><td>22:44:00</td><td>90</td><td>369</td><td>36</td><td>22</td><td>61</td><td>NA</td><td>⋯</td><td>NA</td><td>NA</td><td>NA</td><td>NA</td><td>NA</td><td>NA</td><td>NA</td><td>NA</td><td>63</td><td>488</td></tr>\n",
       "\t<tr><td>99</td><td>M1/2501A</td><td>2019-04-30T00:00:00</td><td>22:59:00</td><td>91</td><td>286</td><td>62</td><td>21</td><td>79</td><td>NA</td><td>⋯</td><td>NA</td><td>NA</td><td>NA</td><td>NA</td><td>NA</td><td>NA</td><td>NA</td><td>NA</td><td>63</td><td>448</td></tr>\n",
       "\t<tr><td>99</td><td>M1/2501A</td><td>2019-04-30T00:00:00</td><td>23:14:00</td><td>92</td><td>299</td><td>48</td><td>17</td><td>60</td><td>NA</td><td>⋯</td><td>NA</td><td>NA</td><td>NA</td><td>NA</td><td>NA</td><td>NA</td><td>NA</td><td>NA</td><td>65</td><td>424</td></tr>\n",
       "\t<tr><td>99</td><td>M1/2501A</td><td>2019-04-30T00:00:00</td><td>23:29:00</td><td>93</td><td>253</td><td>36</td><td> 9</td><td>25</td><td>NA</td><td>⋯</td><td>NA</td><td>NA</td><td>NA</td><td>NA</td><td>NA</td><td>NA</td><td>NA</td><td>NA</td><td>66</td><td>323</td></tr>\n",
       "\t<tr><td>99</td><td>M1/2501A</td><td>2019-04-30T00:00:00</td><td>23:44:00</td><td>94</td><td>308</td><td>34</td><td>13</td><td>25</td><td>NA</td><td>⋯</td><td>NA</td><td>NA</td><td>NA</td><td>NA</td><td>NA</td><td>NA</td><td>NA</td><td>NA</td><td>67</td><td>380</td></tr>\n",
       "\t<tr><td>99</td><td>M1/2501A</td><td>2019-04-30T00:00:00</td><td>23:59:00</td><td>95</td><td>336</td><td>58</td><td>16</td><td>47</td><td>NA</td><td>⋯</td><td>NA</td><td>NA</td><td>NA</td><td>NA</td><td>NA</td><td>NA</td><td>NA</td><td>NA</td><td>66</td><td>457</td></tr>\n",
       "</tbody>\n",
       "</table>\n"
      ],
      "text/latex": [
       "A data.table: 6 × 25\n",
       "\\begin{tabular}{r|lllllllllllllllllllllllll}\n",
       " site\\_id & site\\_name & report\\_date & time\\_period\\_end & interval & len\\_0\\_520\\_cm & len\\_521\\_660\\_cm & len\\_661\\_1160\\_cm & len\\_1160\\_plus\\_cm & speed\\_0\\_10\\_mph & speed\\_11\\_15\\_mph & speed\\_16\\_20\\_mph & speed\\_21\\_25\\_mph & speed\\_26\\_30\\_mph & sped\\_31\\_35\\_mph & speed\\_36\\_40\\_mph & speed\\_41\\_45\\_mph & speed\\_46\\_50\\_mph & speed\\_51\\_55\\_mph & speed\\_56\\_60\\_mph & speed\\_61\\_70\\_mph & speed\\_71\\_80\\_mph & speed\\_80\\_plus\\_mph & speed\\_avg\\_mph & total\\_vol\\\\\n",
       " <int> & <chr> & <chr> & <chr> & <int> & <int> & <int> & <int> & <int> & <int> & <int> & <int> & <int> & <int> & <int> & <int> & <int> & <int> & <int> & <int> & <int> & <int> & <int> & <int> & <int>\\\\\n",
       "\\hline\n",
       "\t 99 & M1/2501A & 2019-04-30T00:00:00 & 22:44:00 & 90 & 369 & 36 & 22 & 61 & NA & NA & NA & NA & NA & NA & NA & NA & NA & NA & NA & NA & NA & NA & 63 & 488\\\\\n",
       "\t 99 & M1/2501A & 2019-04-30T00:00:00 & 22:59:00 & 91 & 286 & 62 & 21 & 79 & NA & NA & NA & NA & NA & NA & NA & NA & NA & NA & NA & NA & NA & NA & 63 & 448\\\\\n",
       "\t 99 & M1/2501A & 2019-04-30T00:00:00 & 23:14:00 & 92 & 299 & 48 & 17 & 60 & NA & NA & NA & NA & NA & NA & NA & NA & NA & NA & NA & NA & NA & NA & 65 & 424\\\\\n",
       "\t 99 & M1/2501A & 2019-04-30T00:00:00 & 23:29:00 & 93 & 253 & 36 &  9 & 25 & NA & NA & NA & NA & NA & NA & NA & NA & NA & NA & NA & NA & NA & NA & 66 & 323\\\\\n",
       "\t 99 & M1/2501A & 2019-04-30T00:00:00 & 23:44:00 & 94 & 308 & 34 & 13 & 25 & NA & NA & NA & NA & NA & NA & NA & NA & NA & NA & NA & NA & NA & NA & 67 & 380\\\\\n",
       "\t 99 & M1/2501A & 2019-04-30T00:00:00 & 23:59:00 & 95 & 336 & 58 & 16 & 47 & NA & NA & NA & NA & NA & NA & NA & NA & NA & NA & NA & NA & NA & NA & 66 & 457\\\\\n",
       "\\end{tabular}\n"
      ],
      "text/markdown": [
       "\n",
       "A data.table: 6 × 25\n",
       "\n",
       "| site_id &lt;int&gt; | site_name &lt;chr&gt; | report_date &lt;chr&gt; | time_period_end &lt;chr&gt; | interval &lt;int&gt; | len_0_520_cm &lt;int&gt; | len_521_660_cm &lt;int&gt; | len_661_1160_cm &lt;int&gt; | len_1160_plus_cm &lt;int&gt; | speed_0_10_mph &lt;int&gt; | ⋯ ⋯ | speed_36_40_mph &lt;int&gt; | speed_41_45_mph &lt;int&gt; | speed_46_50_mph &lt;int&gt; | speed_51_55_mph &lt;int&gt; | speed_56_60_mph &lt;int&gt; | speed_61_70_mph &lt;int&gt; | speed_71_80_mph &lt;int&gt; | speed_80_plus_mph &lt;int&gt; | speed_avg_mph &lt;int&gt; | total_vol &lt;int&gt; |\n",
       "|---|---|---|---|---|---|---|---|---|---|---|---|---|---|---|---|---|---|---|---|---|\n",
       "| 99 | M1/2501A | 2019-04-30T00:00:00 | 22:44:00 | 90 | 369 | 36 | 22 | 61 | NA | ⋯ | NA | NA | NA | NA | NA | NA | NA | NA | 63 | 488 |\n",
       "| 99 | M1/2501A | 2019-04-30T00:00:00 | 22:59:00 | 91 | 286 | 62 | 21 | 79 | NA | ⋯ | NA | NA | NA | NA | NA | NA | NA | NA | 63 | 448 |\n",
       "| 99 | M1/2501A | 2019-04-30T00:00:00 | 23:14:00 | 92 | 299 | 48 | 17 | 60 | NA | ⋯ | NA | NA | NA | NA | NA | NA | NA | NA | 65 | 424 |\n",
       "| 99 | M1/2501A | 2019-04-30T00:00:00 | 23:29:00 | 93 | 253 | 36 |  9 | 25 | NA | ⋯ | NA | NA | NA | NA | NA | NA | NA | NA | 66 | 323 |\n",
       "| 99 | M1/2501A | 2019-04-30T00:00:00 | 23:44:00 | 94 | 308 | 34 | 13 | 25 | NA | ⋯ | NA | NA | NA | NA | NA | NA | NA | NA | 67 | 380 |\n",
       "| 99 | M1/2501A | 2019-04-30T00:00:00 | 23:59:00 | 95 | 336 | 58 | 16 | 47 | NA | ⋯ | NA | NA | NA | NA | NA | NA | NA | NA | 66 | 457 |\n",
       "\n"
      ],
      "text/plain": [
       "  site_id site_name report_date         time_period_end interval len_0_520_cm\n",
       "1 99      M1/2501A  2019-04-30T00:00:00 22:44:00        90       369         \n",
       "2 99      M1/2501A  2019-04-30T00:00:00 22:59:00        91       286         \n",
       "3 99      M1/2501A  2019-04-30T00:00:00 23:14:00        92       299         \n",
       "4 99      M1/2501A  2019-04-30T00:00:00 23:29:00        93       253         \n",
       "5 99      M1/2501A  2019-04-30T00:00:00 23:44:00        94       308         \n",
       "6 99      M1/2501A  2019-04-30T00:00:00 23:59:00        95       336         \n",
       "  len_521_660_cm len_661_1160_cm len_1160_plus_cm speed_0_10_mph ⋯\n",
       "1 36             22              61               NA             ⋯\n",
       "2 62             21              79               NA             ⋯\n",
       "3 48             17              60               NA             ⋯\n",
       "4 36              9              25               NA             ⋯\n",
       "5 34             13              25               NA             ⋯\n",
       "6 58             16              47               NA             ⋯\n",
       "  speed_36_40_mph speed_41_45_mph speed_46_50_mph speed_51_55_mph\n",
       "1 NA              NA              NA              NA             \n",
       "2 NA              NA              NA              NA             \n",
       "3 NA              NA              NA              NA             \n",
       "4 NA              NA              NA              NA             \n",
       "5 NA              NA              NA              NA             \n",
       "6 NA              NA              NA              NA             \n",
       "  speed_56_60_mph speed_61_70_mph speed_71_80_mph speed_80_plus_mph\n",
       "1 NA              NA              NA              NA               \n",
       "2 NA              NA              NA              NA               \n",
       "3 NA              NA              NA              NA               \n",
       "4 NA              NA              NA              NA               \n",
       "5 NA              NA              NA              NA               \n",
       "6 NA              NA              NA              NA               \n",
       "  speed_avg_mph total_vol\n",
       "1 63            488      \n",
       "2 63            448      \n",
       "3 65            424      \n",
       "4 66            323      \n",
       "5 67            380      \n",
       "6 66            457      "
      ]
     },
     "metadata": {},
     "output_type": "display_data"
    }
   ],
   "source": [
    "tail(readings)"
   ]
  },
  {
   "cell_type": "code",
   "execution_count": 31,
   "metadata": {},
   "outputs": [
    {
     "data": {
      "text/html": [
       "28779744"
      ],
      "text/latex": [
       "28779744"
      ],
      "text/markdown": [
       "28779744"
      ],
      "text/plain": [
       "[1] 28779744"
      ]
     },
     "metadata": {},
     "output_type": "display_data"
    }
   ],
   "source": [
    "nrow(readings)"
   ]
  },
  {
   "cell_type": "code",
   "execution_count": 32,
   "metadata": {},
   "outputs": [
    {
     "data": {
      "text/html": [
       "<table>\n",
       "<caption>A matrix: 2 × 6 of type dbl</caption>\n",
       "<thead>\n",
       "\t<tr><th></th><th scope=col>used</th><th scope=col>(Mb)</th><th scope=col>gc trigger</th><th scope=col>(Mb)</th><th scope=col>max used</th><th scope=col>(Mb)</th></tr>\n",
       "</thead>\n",
       "<tbody>\n",
       "\t<tr><th scope=row>Ncells</th><td>   648810</td><td>  34.7</td><td>  39284665</td><td> 2098.1</td><td>  30279643</td><td> 1617.2</td></tr>\n",
       "\t<tr><th scope=row>Vcells</th><td>593512156</td><td>4528.2</td><td>1982048922</td><td>15121.9</td><td>1982048922</td><td>15121.9</td></tr>\n",
       "</tbody>\n",
       "</table>\n"
      ],
      "text/latex": [
       "A matrix: 2 × 6 of type dbl\n",
       "\\begin{tabular}{r|llllll}\n",
       "  & used & (Mb) & gc trigger & (Mb) & max used & (Mb)\\\\\n",
       "\\hline\n",
       "\tNcells &    648810 &   34.7 &   39284665 &  2098.1 &   30279643 &  1617.2\\\\\n",
       "\tVcells & 593512156 & 4528.2 & 1982048922 & 15121.9 & 1982048922 & 15121.9\\\\\n",
       "\\end{tabular}\n"
      ],
      "text/markdown": [
       "\n",
       "A matrix: 2 × 6 of type dbl\n",
       "\n",
       "| <!--/--> | used | (Mb) | gc trigger | (Mb) | max used | (Mb) |\n",
       "|---|---|---|---|---|---|---|\n",
       "| Ncells |    648810 |   34.7 |   39284665 |  2098.1 |   30279643 |  1617.2 |\n",
       "| Vcells | 593512156 | 4528.2 | 1982048922 | 15121.9 | 1982048922 | 15121.9 |\n",
       "\n"
      ],
      "text/plain": [
       "       used      (Mb)   gc trigger (Mb)    max used   (Mb)   \n",
       "Ncells    648810   34.7   39284665  2098.1   30279643  1617.2\n",
       "Vcells 593512156 4528.2 1982048922 15121.9 1982048922 15121.9"
      ]
     },
     "metadata": {},
     "output_type": "display_data"
    }
   ],
   "source": [
    "gc()"
   ]
  },
  {
   "cell_type": "markdown",
   "metadata": {},
   "source": [
    "# unwrap embedded site meta info\n",
    "\n",
    "`name` column contains extra `;` delimited info.\n",
    "example `ex`:"
   ]
  },
  {
   "cell_type": "code",
   "execution_count": 33,
   "metadata": {},
   "outputs": [
    {
     "data": {
      "text/html": [
       "<table>\n",
       "<caption>A data.frame: 10 × 7</caption>\n",
       "<thead>\n",
       "\t<tr><th></th><th scope=col>id</th><th scope=col>name</th><th scope=col>description</th><th scope=col>longitude</th><th scope=col>latitude</th><th scope=col>status</th><th scope=col>type</th></tr>\n",
       "\t<tr><th></th><th scope=col>&lt;int&gt;</th><th scope=col>&lt;chr&gt;</th><th scope=col>&lt;chr&gt;</th><th scope=col>&lt;dbl&gt;</th><th scope=col>&lt;dbl&gt;</th><th scope=col>&lt;chr&gt;</th><th scope=col>&lt;chr&gt;</th></tr>\n",
       "</thead>\n",
       "<tbody>\n",
       "\t<tr><th scope=row>8836</th><td>12322</td><td>                                                                                                                    </td><td>M4/2734A </td><td>-1.0686452</td><td>51.44086</td><td>Inactive</td><td>midas</td></tr>\n",
       "\t<tr><th scope=row>3410</th><td> 3415</td><td>MIDAS site at M4/3670A priority 1 on link 102004302; GPS Ref: 378160;178602; Westbound                              </td><td>M4/3670A </td><td>-2.3160604</td><td>51.50592</td><td>Active  </td><td>midas</td></tr>\n",
       "\t<tr><th scope=row>12743</th><td> 7338</td><td>TMU Site 5018/1 on link A30 eastbound between A395 and A388 near Launceston (west); GPS Ref: 230004;83642; Eastbound</td><td>5018/1   </td><td>-4.4049185</td><td>50.62762</td><td>Active  </td><td>tmu  </td></tr>\n",
       "\t<tr><th scope=row>8976</th><td>12462</td><td>                                                                                                                    </td><td>M42/6353B</td><td>-1.7658418</td><td>52.39542</td><td>Inactive</td><td>midas</td></tr>\n",
       "\t<tr><th scope=row>13804</th><td> 8399</td><td>TMU Site 9359/1 on link A19 southbound between A179 and A689; GPS Ref: 445205;528224; Southbound                    </td><td>9359/1   </td><td>-1.3010063</td><td>54.64712</td><td>Active  </td><td>tmu  </td></tr>\n",
       "\t<tr><th scope=row>6759</th><td>10190</td><td>MIDAS site at M62/2266B priority 1 on link 116036601; GPS Ref: 441525;423653; Westbound                             </td><td>M62/2266B</td><td>-1.3724046</td><td>53.70768</td><td>Active  </td><td>midas</td></tr>\n",
       "\t<tr><th scope=row>10647</th><td>14476</td><td>MIDAS site at M3/1439A priority 1 on link 103048301; GPS Ref: 493456;162998; Westbound                              </td><td>M3/1439A </td><td>-0.6591563</td><td>51.35838</td><td>Active  </td><td>midas</td></tr>\n",
       "\t<tr><th scope=row>6770</th><td>10201</td><td>MIDAS site at M62/2293A priority 1 on link 116036202; GPS Ref: 444064;423668; Eastbound                             </td><td>M62/2293A</td><td>-1.3339409</td><td>53.70760</td><td>Active  </td><td>midas</td></tr>\n",
       "\t<tr><th scope=row>14839</th><td> 9434</td><td>TMU Site 7149/2 on A45 westbound between A428/A5095 and A508 (north)/A5076; GPS Ref: 477732;259982; Westbound       </td><td>7149/2   </td><td>-0.8632263</td><td>52.23257</td><td>Active  </td><td>tmu  </td></tr>\n",
       "\t<tr><th scope=row>2998</th><td> 3002</td><td>MIDAS site at M6/5969A priority 1 on link 112001401; GPS Ref: 399195;297414; Northbound                             </td><td>M6/5969A </td><td>-2.0133054</td><td>52.57456</td><td>Active  </td><td>midas</td></tr>\n",
       "</tbody>\n",
       "</table>\n"
      ],
      "text/latex": [
       "A data.frame: 10 × 7\n",
       "\\begin{tabular}{r|lllllll}\n",
       "  & id & name & description & longitude & latitude & status & type\\\\\n",
       "  & <int> & <chr> & <chr> & <dbl> & <dbl> & <chr> & <chr>\\\\\n",
       "\\hline\n",
       "\t8836 & 12322 &                                                                                                                      & M4/2734A  & -1.0686452 & 51.44086 & Inactive & midas\\\\\n",
       "\t3410 &  3415 & MIDAS site at M4/3670A priority 1 on link 102004302; GPS Ref: 378160;178602; Westbound                               & M4/3670A  & -2.3160604 & 51.50592 & Active   & midas\\\\\n",
       "\t12743 &  7338 & TMU Site 5018/1 on link A30 eastbound between A395 and A388 near Launceston (west); GPS Ref: 230004;83642; Eastbound & 5018/1    & -4.4049185 & 50.62762 & Active   & tmu  \\\\\n",
       "\t8976 & 12462 &                                                                                                                      & M42/6353B & -1.7658418 & 52.39542 & Inactive & midas\\\\\n",
       "\t13804 &  8399 & TMU Site 9359/1 on link A19 southbound between A179 and A689; GPS Ref: 445205;528224; Southbound                     & 9359/1    & -1.3010063 & 54.64712 & Active   & tmu  \\\\\n",
       "\t6759 & 10190 & MIDAS site at M62/2266B priority 1 on link 116036601; GPS Ref: 441525;423653; Westbound                              & M62/2266B & -1.3724046 & 53.70768 & Active   & midas\\\\\n",
       "\t10647 & 14476 & MIDAS site at M3/1439A priority 1 on link 103048301; GPS Ref: 493456;162998; Westbound                               & M3/1439A  & -0.6591563 & 51.35838 & Active   & midas\\\\\n",
       "\t6770 & 10201 & MIDAS site at M62/2293A priority 1 on link 116036202; GPS Ref: 444064;423668; Eastbound                              & M62/2293A & -1.3339409 & 53.70760 & Active   & midas\\\\\n",
       "\t14839 &  9434 & TMU Site 7149/2 on A45 westbound between A428/A5095 and A508 (north)/A5076; GPS Ref: 477732;259982; Westbound        & 7149/2    & -0.8632263 & 52.23257 & Active   & tmu  \\\\\n",
       "\t2998 &  3002 & MIDAS site at M6/5969A priority 1 on link 112001401; GPS Ref: 399195;297414; Northbound                              & M6/5969A  & -2.0133054 & 52.57456 & Active   & midas\\\\\n",
       "\\end{tabular}\n"
      ],
      "text/markdown": [
       "\n",
       "A data.frame: 10 × 7\n",
       "\n",
       "| <!--/--> | id &lt;int&gt; | name &lt;chr&gt; | description &lt;chr&gt; | longitude &lt;dbl&gt; | latitude &lt;dbl&gt; | status &lt;chr&gt; | type &lt;chr&gt; |\n",
       "|---|---|---|---|---|---|---|---|\n",
       "| 8836 | 12322 | <!----> | M4/2734A  | -1.0686452 | 51.44086 | Inactive | midas |\n",
       "| 3410 |  3415 | MIDAS site at M4/3670A priority 1 on link 102004302; GPS Ref: 378160;178602; Westbound                               | M4/3670A  | -2.3160604 | 51.50592 | Active   | midas |\n",
       "| 12743 |  7338 | TMU Site 5018/1 on link A30 eastbound between A395 and A388 near Launceston (west); GPS Ref: 230004;83642; Eastbound | 5018/1    | -4.4049185 | 50.62762 | Active   | tmu   |\n",
       "| 8976 | 12462 | <!----> | M42/6353B | -1.7658418 | 52.39542 | Inactive | midas |\n",
       "| 13804 |  8399 | TMU Site 9359/1 on link A19 southbound between A179 and A689; GPS Ref: 445205;528224; Southbound                     | 9359/1    | -1.3010063 | 54.64712 | Active   | tmu   |\n",
       "| 6759 | 10190 | MIDAS site at M62/2266B priority 1 on link 116036601; GPS Ref: 441525;423653; Westbound                              | M62/2266B | -1.3724046 | 53.70768 | Active   | midas |\n",
       "| 10647 | 14476 | MIDAS site at M3/1439A priority 1 on link 103048301; GPS Ref: 493456;162998; Westbound                               | M3/1439A  | -0.6591563 | 51.35838 | Active   | midas |\n",
       "| 6770 | 10201 | MIDAS site at M62/2293A priority 1 on link 116036202; GPS Ref: 444064;423668; Eastbound                              | M62/2293A | -1.3339409 | 53.70760 | Active   | midas |\n",
       "| 14839 |  9434 | TMU Site 7149/2 on A45 westbound between A428/A5095 and A508 (north)/A5076; GPS Ref: 477732;259982; Westbound        | 7149/2    | -0.8632263 | 52.23257 | Active   | tmu   |\n",
       "| 2998 |  3002 | MIDAS site at M6/5969A priority 1 on link 112001401; GPS Ref: 399195;297414; Northbound                              | M6/5969A  | -2.0133054 | 52.57456 | Active   | midas |\n",
       "\n"
      ],
      "text/plain": [
       "      id   \n",
       "8836  12322\n",
       "3410   3415\n",
       "12743  7338\n",
       "8976  12462\n",
       "13804  8399\n",
       "6759  10190\n",
       "10647 14476\n",
       "6770  10201\n",
       "14839  9434\n",
       "2998   3002\n",
       "      name                                                                                                                \n",
       "8836                                                                                                                      \n",
       "3410  MIDAS site at M4/3670A priority 1 on link 102004302; GPS Ref: 378160;178602; Westbound                              \n",
       "12743 TMU Site 5018/1 on link A30 eastbound between A395 and A388 near Launceston (west); GPS Ref: 230004;83642; Eastbound\n",
       "8976                                                                                                                      \n",
       "13804 TMU Site 9359/1 on link A19 southbound between A179 and A689; GPS Ref: 445205;528224; Southbound                    \n",
       "6759  MIDAS site at M62/2266B priority 1 on link 116036601; GPS Ref: 441525;423653; Westbound                             \n",
       "10647 MIDAS site at M3/1439A priority 1 on link 103048301; GPS Ref: 493456;162998; Westbound                              \n",
       "6770  MIDAS site at M62/2293A priority 1 on link 116036202; GPS Ref: 444064;423668; Eastbound                             \n",
       "14839 TMU Site 7149/2 on A45 westbound between A428/A5095 and A508 (north)/A5076; GPS Ref: 477732;259982; Westbound       \n",
       "2998  MIDAS site at M6/5969A priority 1 on link 112001401; GPS Ref: 399195;297414; Northbound                             \n",
       "      description longitude  latitude status   type \n",
       "8836  M4/2734A    -1.0686452 51.44086 Inactive midas\n",
       "3410  M4/3670A    -2.3160604 51.50592 Active   midas\n",
       "12743 5018/1      -4.4049185 50.62762 Active   tmu  \n",
       "8976  M42/6353B   -1.7658418 52.39542 Inactive midas\n",
       "13804 9359/1      -1.3010063 54.64712 Active   tmu  \n",
       "6759  M62/2266B   -1.3724046 53.70768 Active   midas\n",
       "10647 M3/1439A    -0.6591563 51.35838 Active   midas\n",
       "6770  M62/2293A   -1.3339409 53.70760 Active   midas\n",
       "14839 7149/2      -0.8632263 52.23257 Active   tmu  \n",
       "2998  M6/5969A    -2.0133054 52.57456 Active   midas"
      ]
     },
     "metadata": {},
     "output_type": "display_data"
    }
   ],
   "source": [
    "ex <- sites[sample(1:nrow(sites), 10), ]\n",
    "ex"
   ]
  },
  {
   "cell_type": "markdown",
   "metadata": {},
   "source": [
    "## sensor direction"
   ]
  },
  {
   "cell_type": "code",
   "execution_count": 34,
   "metadata": {},
   "outputs": [],
   "source": [
    "# extract north,east,west,south(bound) or anti-clockwise/clockwise.\n",
    "direction <- function(x) {\n",
    "    m <- regexpr(\"(([A-Za-z]+)bound)|([A-Za-z\\\\-]+wise)\", x, perl=T)\n",
    "    matches <- tolower(regmatches(x, m))\n",
    "    # matches does not include NA. do cumsum trick to map NAs:\n",
    "    # m is a vector of match positions, where -nv = no match found.\n",
    "    # cumsum over sign of m where -1 replaced with 0, so that non-matches are repeated.\n",
    "    # then replace repeated with NA, as to get matches same length as input.\n",
    "    matches[ifelse(m > 0, cumsum(ifelse(m > 0, 1, 0)), NA)]\n",
    "}"
   ]
  },
  {
   "cell_type": "code",
   "execution_count": 35,
   "metadata": {},
   "outputs": [
    {
     "data": {
      "text/html": [
       "<ol class=list-inline>\n",
       "\t<li>NA</li>\n",
       "\t<li>'westbound'</li>\n",
       "\t<li>'eastbound'</li>\n",
       "\t<li>NA</li>\n",
       "\t<li>'southbound'</li>\n",
       "\t<li>'westbound'</li>\n",
       "\t<li>'westbound'</li>\n",
       "\t<li>'eastbound'</li>\n",
       "\t<li>'westbound'</li>\n",
       "\t<li>'northbound'</li>\n",
       "</ol>\n"
      ],
      "text/latex": [
       "\\begin{enumerate*}\n",
       "\\item NA\n",
       "\\item 'westbound'\n",
       "\\item 'eastbound'\n",
       "\\item NA\n",
       "\\item 'southbound'\n",
       "\\item 'westbound'\n",
       "\\item 'westbound'\n",
       "\\item 'eastbound'\n",
       "\\item 'westbound'\n",
       "\\item 'northbound'\n",
       "\\end{enumerate*}\n"
      ],
      "text/markdown": [
       "1. NA\n",
       "2. 'westbound'\n",
       "3. 'eastbound'\n",
       "4. NA\n",
       "5. 'southbound'\n",
       "6. 'westbound'\n",
       "7. 'westbound'\n",
       "8. 'eastbound'\n",
       "9. 'westbound'\n",
       "10. 'northbound'\n",
       "\n",
       "\n"
      ],
      "text/plain": [
       " [1] NA           \"westbound\"  \"eastbound\"  NA           \"southbound\"\n",
       " [6] \"westbound\"  \"westbound\"  \"eastbound\"  \"westbound\"  \"northbound\""
      ]
     },
     "metadata": {},
     "output_type": "display_data"
    }
   ],
   "source": [
    "direction(ex$name)"
   ]
  },
  {
   "cell_type": "code",
   "execution_count": 36,
   "metadata": {},
   "outputs": [
    {
     "data": {
      "text/plain": [
       "\n",
       "anti-clockwise      clockwise      eastbound     northbound      souhbound \n",
       "           752            778           2055           3344              1 \n",
       "    southbound      westbound \n",
       "          3326           2079 "
      ]
     },
     "metadata": {},
     "output_type": "display_data"
    }
   ],
   "source": [
    "sites$direction <- direction(sites$name)\n",
    "table(sites$direction)"
   ]
  },
  {
   "cell_type": "code",
   "execution_count": 37,
   "metadata": {},
   "outputs": [
    {
     "data": {
      "text/html": [
       "<table>\n",
       "<caption>A data.frame: 1 × 8</caption>\n",
       "<thead>\n",
       "\t<tr><th></th><th scope=col>id</th><th scope=col>name</th><th scope=col>description</th><th scope=col>longitude</th><th scope=col>latitude</th><th scope=col>status</th><th scope=col>type</th><th scope=col>direction</th></tr>\n",
       "\t<tr><th></th><th scope=col>&lt;int&gt;</th><th scope=col>&lt;chr&gt;</th><th scope=col>&lt;chr&gt;</th><th scope=col>&lt;dbl&gt;</th><th scope=col>&lt;dbl&gt;</th><th scope=col>&lt;chr&gt;</th><th scope=col>&lt;chr&gt;</th><th scope=col>&lt;chr&gt;</th></tr>\n",
       "</thead>\n",
       "<tbody>\n",
       "\t<tr><th scope=row>12581</th><td>7187</td><td>TAME Site 30360339 on link Marlow Road souhbound between Cressex Road and A404; GPS Ref: 485338;191297; Southbound</td><td>30360339</td><td>-0.7688845</td><td>51.61405</td><td>Active</td><td>tame</td><td>souhbound</td></tr>\n",
       "</tbody>\n",
       "</table>\n"
      ],
      "text/latex": [
       "A data.frame: 1 × 8\n",
       "\\begin{tabular}{r|llllllll}\n",
       "  & id & name & description & longitude & latitude & status & type & direction\\\\\n",
       "  & <int> & <chr> & <chr> & <dbl> & <dbl> & <chr> & <chr> & <chr>\\\\\n",
       "\\hline\n",
       "\t12581 & 7187 & TAME Site 30360339 on link Marlow Road souhbound between Cressex Road and A404; GPS Ref: 485338;191297; Southbound & 30360339 & -0.7688845 & 51.61405 & Active & tame & souhbound\\\\\n",
       "\\end{tabular}\n"
      ],
      "text/markdown": [
       "\n",
       "A data.frame: 1 × 8\n",
       "\n",
       "| <!--/--> | id &lt;int&gt; | name &lt;chr&gt; | description &lt;chr&gt; | longitude &lt;dbl&gt; | latitude &lt;dbl&gt; | status &lt;chr&gt; | type &lt;chr&gt; | direction &lt;chr&gt; |\n",
       "|---|---|---|---|---|---|---|---|---|\n",
       "| 12581 | 7187 | TAME Site 30360339 on link Marlow Road souhbound between Cressex Road and A404; GPS Ref: 485338;191297; Southbound | 30360339 | -0.7688845 | 51.61405 | Active | tame | souhbound |\n",
       "\n"
      ],
      "text/plain": [
       "      id  \n",
       "12581 7187\n",
       "      name                                                                                                              \n",
       "12581 TAME Site 30360339 on link Marlow Road souhbound between Cressex Road and A404; GPS Ref: 485338;191297; Southbound\n",
       "      description longitude  latitude status type direction\n",
       "12581 30360339    -0.7688845 51.61405 Active tame souhbound"
      ]
     },
     "metadata": {},
     "output_type": "display_data"
    }
   ],
   "source": [
    "# fix sensor typo\n",
    "sites[which(sites$direction == \"souhbound\"), ]"
   ]
  },
  {
   "cell_type": "code",
   "execution_count": 38,
   "metadata": {},
   "outputs": [
    {
     "data": {
      "text/plain": [
       "\n",
       "anti-clockwise      clockwise      eastbound     northbound     southbound \n",
       "           752            778           2055           3344           3327 \n",
       "     westbound \n",
       "          2079 "
      ]
     },
     "metadata": {},
     "output_type": "display_data"
    }
   ],
   "source": [
    "sites[which(sites$direction == \"souhbound\"), ]$direction <- \"southbound\"\n",
    "table(sites$direction)"
   ]
  },
  {
   "cell_type": "markdown",
   "metadata": {},
   "source": [
    "## eastings, northings"
   ]
  },
  {
   "cell_type": "code",
   "execution_count": 39,
   "metadata": {},
   "outputs": [],
   "source": [
    "# extract easting and northing matrix\n",
    "easting_northing <- function(x) {\n",
    "    m <- regexpr(\"GPS Ref: [0-9]+;[0-9]+\", x, perl=T)\n",
    "    matches <- matrix(unlist(strsplit(sub(\"^.*: \", \"\", regmatches(x, m)), \";\")), ncol=2, byrow=T)\n",
    "    matches <- matches[ifelse(m > 0, cumsum(ifelse(m > 0, 1, 0)), NA), ]\n",
    "    colnames(matches) <- c(\"easting\", \"northing\")\n",
    "    matches\n",
    "}"
   ]
  },
  {
   "cell_type": "code",
   "execution_count": 40,
   "metadata": {},
   "outputs": [
    {
     "data": {
      "text/html": [
       "<table>\n",
       "<caption>A matrix: 10 × 2 of type chr</caption>\n",
       "<thead>\n",
       "\t<tr><th scope=col>easting</th><th scope=col>northing</th></tr>\n",
       "</thead>\n",
       "<tbody>\n",
       "\t<tr><td>NA    </td><td>NA    </td></tr>\n",
       "\t<tr><td>378160</td><td>178602</td></tr>\n",
       "\t<tr><td>230004</td><td>83642 </td></tr>\n",
       "\t<tr><td>NA    </td><td>NA    </td></tr>\n",
       "\t<tr><td>445205</td><td>528224</td></tr>\n",
       "\t<tr><td>441525</td><td>423653</td></tr>\n",
       "\t<tr><td>493456</td><td>162998</td></tr>\n",
       "\t<tr><td>444064</td><td>423668</td></tr>\n",
       "\t<tr><td>477732</td><td>259982</td></tr>\n",
       "\t<tr><td>399195</td><td>297414</td></tr>\n",
       "</tbody>\n",
       "</table>\n"
      ],
      "text/latex": [
       "A matrix: 10 × 2 of type chr\n",
       "\\begin{tabular}{ll}\n",
       " easting & northing\\\\\n",
       "\\hline\n",
       "\t NA     & NA    \\\\\n",
       "\t 378160 & 178602\\\\\n",
       "\t 230004 & 83642 \\\\\n",
       "\t NA     & NA    \\\\\n",
       "\t 445205 & 528224\\\\\n",
       "\t 441525 & 423653\\\\\n",
       "\t 493456 & 162998\\\\\n",
       "\t 444064 & 423668\\\\\n",
       "\t 477732 & 259982\\\\\n",
       "\t 399195 & 297414\\\\\n",
       "\\end{tabular}\n"
      ],
      "text/markdown": [
       "\n",
       "A matrix: 10 × 2 of type chr\n",
       "\n",
       "| easting | northing |\n",
       "|---|---|\n",
       "| NA     | NA     |\n",
       "| 378160 | 178602 |\n",
       "| 230004 | 83642  |\n",
       "| NA     | NA     |\n",
       "| 445205 | 528224 |\n",
       "| 441525 | 423653 |\n",
       "| 493456 | 162998 |\n",
       "| 444064 | 423668 |\n",
       "| 477732 | 259982 |\n",
       "| 399195 | 297414 |\n",
       "\n"
      ],
      "text/plain": [
       "      easting northing\n",
       " [1,] NA      NA      \n",
       " [2,] 378160  178602  \n",
       " [3,] 230004  83642   \n",
       " [4,] NA      NA      \n",
       " [5,] 445205  528224  \n",
       " [6,] 441525  423653  \n",
       " [7,] 493456  162998  \n",
       " [8,] 444064  423668  \n",
       " [9,] 477732  259982  \n",
       "[10,] 399195  297414  "
      ]
     },
     "metadata": {},
     "output_type": "display_data"
    }
   ],
   "source": [
    "easting_northing(ex$name)"
   ]
  },
  {
   "cell_type": "code",
   "execution_count": 41,
   "metadata": {},
   "outputs": [
    {
     "data": {
      "text/html": [
       "<table>\n",
       "<caption>A data.frame: 10 × 10</caption>\n",
       "<thead>\n",
       "\t<tr><th></th><th scope=col>id</th><th scope=col>name</th><th scope=col>description</th><th scope=col>longitude</th><th scope=col>latitude</th><th scope=col>status</th><th scope=col>type</th><th scope=col>direction</th><th scope=col>easting</th><th scope=col>northing</th></tr>\n",
       "\t<tr><th></th><th scope=col>&lt;int&gt;</th><th scope=col>&lt;chr&gt;</th><th scope=col>&lt;chr&gt;</th><th scope=col>&lt;dbl&gt;</th><th scope=col>&lt;dbl&gt;</th><th scope=col>&lt;chr&gt;</th><th scope=col>&lt;chr&gt;</th><th scope=col>&lt;chr&gt;</th><th scope=col>&lt;fct&gt;</th><th scope=col>&lt;fct&gt;</th></tr>\n",
       "</thead>\n",
       "<tbody>\n",
       "\t<tr><th scope=row>15426</th><td>16931</td><td>TMU 7067/1 on A1(M) J42 northbound exit on road A1(M)  at location 53.760906315412000,-1.281035879562000                     </td><td>NO TMU ID</td><td>-1.2810359</td><td>53.76091</td><td>Inactive</td><td>tmu</td><td>northbound</td><td>NA    </td><td>NA    </td></tr>\n",
       "\t<tr><th scope=row>15427</th><td>16932</td><td>TMU 7067/1 on A1(M) J42 northbound exit on road A1(M) Northbound at location 53.760906315412000,-1.281035879562000           </td><td>NO TMU ID</td><td>-1.2810359</td><td>53.76091</td><td>Inactive</td><td>tmu</td><td>northbound</td><td>NA    </td><td>NA    </td></tr>\n",
       "\t<tr><th scope=row>15428</th><td>16933</td><td>TMU 7067/2 on A1(M) northbound within J42 on road A1(M) Northbound at location 53.760959238603000,-1.280868119338000         </td><td>NO TMU ID</td><td>-1.2808681</td><td>53.76096</td><td>Inactive</td><td>tmu</td><td>northbound</td><td>NA    </td><td>NA    </td></tr>\n",
       "\t<tr><th scope=row>15429</th><td>16934</td><td>TMU 7068/1 on A1(M) J42 southbound exit on road A1(M) Southbound at location 53.765353306873000,-1.283675431969000           </td><td>NO TMU ID</td><td>-1.2836754</td><td>53.76535</td><td>Inactive</td><td>tmu</td><td>southbound</td><td>NA    </td><td>NA    </td></tr>\n",
       "\t<tr><th scope=row>15430</th><td>16935</td><td>TMU 7068/2 on A1(M) southbound within J42 on road A1(M) Southbound at location 53.765282677041000,-1.283889018408000         </td><td>NO TMU ID</td><td>-1.2838890</td><td>53.76528</td><td>Inactive</td><td>tmu</td><td>southbound</td><td>NA    </td><td>NA    </td></tr>\n",
       "\t<tr><th scope=row>15431</th><td>16936</td><td>TMU 7069/1 on A1(M) northbound between J42 and J43 on road A1(M) Northbound at location 53.792111151099000,-1.322338625921000</td><td>NO TMU ID</td><td>-1.3223386</td><td>53.79211</td><td>Inactive</td><td>tmu</td><td>northbound</td><td>NA    </td><td>NA    </td></tr>\n",
       "\t<tr><th scope=row>15432</th><td>17668</td><td>TMU Site 9967/1 on link A5 northbound between B4100 and A4146 near Bletchley (south); GPS Ref: 490291;232886; Northbound     </td><td>9967/1   </td><td>-0.6865507</td><td>51.98711</td><td>Inactive</td><td>tmu</td><td>northbound</td><td>490291</td><td>232886</td></tr>\n",
       "\t<tr><th scope=row>15433</th><td>17669</td><td>TMU Site 9967/2 on link A5 southbound between A4146 near Bletchley (south) and B4100; GPS Ref: 490300;232907; Southbound     </td><td>9967/2   </td><td>-0.6864142</td><td>51.98730</td><td>Inactive</td><td>tmu</td><td>southbound</td><td>490300</td><td>232907</td></tr>\n",
       "\t<tr><th scope=row>15434</th><td>17673</td><td>TMU Site 9968/1 on link A421 northbound between A600 and A603; GPS Ref: 507840;248078; Northbound                            </td><td>9968/1   </td><td>-0.4263033</td><td>52.12052</td><td>Active  </td><td>tmu</td><td>northbound</td><td>507840</td><td>248078</td></tr>\n",
       "\t<tr><th scope=row>15435</th><td>17674</td><td>TMU Site 9968/2 on link A421 southbound between A603 and A600; GPS Ref: 507852;248068; Southbound                            </td><td>9968/2   </td><td>-0.4261312</td><td>52.12043</td><td>Active  </td><td>tmu</td><td>southbound</td><td>507852</td><td>248068</td></tr>\n",
       "</tbody>\n",
       "</table>\n"
      ],
      "text/latex": [
       "A data.frame: 10 × 10\n",
       "\\begin{tabular}{r|llllllllll}\n",
       "  & id & name & description & longitude & latitude & status & type & direction & easting & northing\\\\\n",
       "  & <int> & <chr> & <chr> & <dbl> & <dbl> & <chr> & <chr> & <chr> & <fct> & <fct>\\\\\n",
       "\\hline\n",
       "\t15426 & 16931 & TMU 7067/1 on A1(M) J42 northbound exit on road A1(M)  at location 53.760906315412000,-1.281035879562000                      & NO TMU ID & -1.2810359 & 53.76091 & Inactive & tmu & northbound & NA     & NA    \\\\\n",
       "\t15427 & 16932 & TMU 7067/1 on A1(M) J42 northbound exit on road A1(M) Northbound at location 53.760906315412000,-1.281035879562000            & NO TMU ID & -1.2810359 & 53.76091 & Inactive & tmu & northbound & NA     & NA    \\\\\n",
       "\t15428 & 16933 & TMU 7067/2 on A1(M) northbound within J42 on road A1(M) Northbound at location 53.760959238603000,-1.280868119338000          & NO TMU ID & -1.2808681 & 53.76096 & Inactive & tmu & northbound & NA     & NA    \\\\\n",
       "\t15429 & 16934 & TMU 7068/1 on A1(M) J42 southbound exit on road A1(M) Southbound at location 53.765353306873000,-1.283675431969000            & NO TMU ID & -1.2836754 & 53.76535 & Inactive & tmu & southbound & NA     & NA    \\\\\n",
       "\t15430 & 16935 & TMU 7068/2 on A1(M) southbound within J42 on road A1(M) Southbound at location 53.765282677041000,-1.283889018408000          & NO TMU ID & -1.2838890 & 53.76528 & Inactive & tmu & southbound & NA     & NA    \\\\\n",
       "\t15431 & 16936 & TMU 7069/1 on A1(M) northbound between J42 and J43 on road A1(M) Northbound at location 53.792111151099000,-1.322338625921000 & NO TMU ID & -1.3223386 & 53.79211 & Inactive & tmu & northbound & NA     & NA    \\\\\n",
       "\t15432 & 17668 & TMU Site 9967/1 on link A5 northbound between B4100 and A4146 near Bletchley (south); GPS Ref: 490291;232886; Northbound      & 9967/1    & -0.6865507 & 51.98711 & Inactive & tmu & northbound & 490291 & 232886\\\\\n",
       "\t15433 & 17669 & TMU Site 9967/2 on link A5 southbound between A4146 near Bletchley (south) and B4100; GPS Ref: 490300;232907; Southbound      & 9967/2    & -0.6864142 & 51.98730 & Inactive & tmu & southbound & 490300 & 232907\\\\\n",
       "\t15434 & 17673 & TMU Site 9968/1 on link A421 northbound between A600 and A603; GPS Ref: 507840;248078; Northbound                             & 9968/1    & -0.4263033 & 52.12052 & Active   & tmu & northbound & 507840 & 248078\\\\\n",
       "\t15435 & 17674 & TMU Site 9968/2 on link A421 southbound between A603 and A600; GPS Ref: 507852;248068; Southbound                             & 9968/2    & -0.4261312 & 52.12043 & Active   & tmu & southbound & 507852 & 248068\\\\\n",
       "\\end{tabular}\n"
      ],
      "text/markdown": [
       "\n",
       "A data.frame: 10 × 10\n",
       "\n",
       "| <!--/--> | id &lt;int&gt; | name &lt;chr&gt; | description &lt;chr&gt; | longitude &lt;dbl&gt; | latitude &lt;dbl&gt; | status &lt;chr&gt; | type &lt;chr&gt; | direction &lt;chr&gt; | easting &lt;fct&gt; | northing &lt;fct&gt; |\n",
       "|---|---|---|---|---|---|---|---|---|---|---|\n",
       "| 15426 | 16931 | TMU 7067/1 on A1(M) J42 northbound exit on road A1(M)  at location 53.760906315412000,-1.281035879562000                      | NO TMU ID | -1.2810359 | 53.76091 | Inactive | tmu | northbound | NA     | NA     |\n",
       "| 15427 | 16932 | TMU 7067/1 on A1(M) J42 northbound exit on road A1(M) Northbound at location 53.760906315412000,-1.281035879562000            | NO TMU ID | -1.2810359 | 53.76091 | Inactive | tmu | northbound | NA     | NA     |\n",
       "| 15428 | 16933 | TMU 7067/2 on A1(M) northbound within J42 on road A1(M) Northbound at location 53.760959238603000,-1.280868119338000          | NO TMU ID | -1.2808681 | 53.76096 | Inactive | tmu | northbound | NA     | NA     |\n",
       "| 15429 | 16934 | TMU 7068/1 on A1(M) J42 southbound exit on road A1(M) Southbound at location 53.765353306873000,-1.283675431969000            | NO TMU ID | -1.2836754 | 53.76535 | Inactive | tmu | southbound | NA     | NA     |\n",
       "| 15430 | 16935 | TMU 7068/2 on A1(M) southbound within J42 on road A1(M) Southbound at location 53.765282677041000,-1.283889018408000          | NO TMU ID | -1.2838890 | 53.76528 | Inactive | tmu | southbound | NA     | NA     |\n",
       "| 15431 | 16936 | TMU 7069/1 on A1(M) northbound between J42 and J43 on road A1(M) Northbound at location 53.792111151099000,-1.322338625921000 | NO TMU ID | -1.3223386 | 53.79211 | Inactive | tmu | northbound | NA     | NA     |\n",
       "| 15432 | 17668 | TMU Site 9967/1 on link A5 northbound between B4100 and A4146 near Bletchley (south); GPS Ref: 490291;232886; Northbound      | 9967/1    | -0.6865507 | 51.98711 | Inactive | tmu | northbound | 490291 | 232886 |\n",
       "| 15433 | 17669 | TMU Site 9967/2 on link A5 southbound between A4146 near Bletchley (south) and B4100; GPS Ref: 490300;232907; Southbound      | 9967/2    | -0.6864142 | 51.98730 | Inactive | tmu | southbound | 490300 | 232907 |\n",
       "| 15434 | 17673 | TMU Site 9968/1 on link A421 northbound between A600 and A603; GPS Ref: 507840;248078; Northbound                             | 9968/1    | -0.4263033 | 52.12052 | Active   | tmu | northbound | 507840 | 248078 |\n",
       "| 15435 | 17674 | TMU Site 9968/2 on link A421 southbound between A603 and A600; GPS Ref: 507852;248068; Southbound                             | 9968/2    | -0.4261312 | 52.12043 | Active   | tmu | southbound | 507852 | 248068 |\n",
       "\n"
      ],
      "text/plain": [
       "      id   \n",
       "15426 16931\n",
       "15427 16932\n",
       "15428 16933\n",
       "15429 16934\n",
       "15430 16935\n",
       "15431 16936\n",
       "15432 17668\n",
       "15433 17669\n",
       "15434 17673\n",
       "15435 17674\n",
       "      name                                                                                                                         \n",
       "15426 TMU 7067/1 on A1(M) J42 northbound exit on road A1(M)  at location 53.760906315412000,-1.281035879562000                     \n",
       "15427 TMU 7067/1 on A1(M) J42 northbound exit on road A1(M) Northbound at location 53.760906315412000,-1.281035879562000           \n",
       "15428 TMU 7067/2 on A1(M) northbound within J42 on road A1(M) Northbound at location 53.760959238603000,-1.280868119338000         \n",
       "15429 TMU 7068/1 on A1(M) J42 southbound exit on road A1(M) Southbound at location 53.765353306873000,-1.283675431969000           \n",
       "15430 TMU 7068/2 on A1(M) southbound within J42 on road A1(M) Southbound at location 53.765282677041000,-1.283889018408000         \n",
       "15431 TMU 7069/1 on A1(M) northbound between J42 and J43 on road A1(M) Northbound at location 53.792111151099000,-1.322338625921000\n",
       "15432 TMU Site 9967/1 on link A5 northbound between B4100 and A4146 near Bletchley (south); GPS Ref: 490291;232886; Northbound     \n",
       "15433 TMU Site 9967/2 on link A5 southbound between A4146 near Bletchley (south) and B4100; GPS Ref: 490300;232907; Southbound     \n",
       "15434 TMU Site 9968/1 on link A421 northbound between A600 and A603; GPS Ref: 507840;248078; Northbound                            \n",
       "15435 TMU Site 9968/2 on link A421 southbound between A603 and A600; GPS Ref: 507852;248068; Southbound                            \n",
       "      description longitude  latitude status   type direction  easting northing\n",
       "15426 NO TMU ID   -1.2810359 53.76091 Inactive tmu  northbound NA      NA      \n",
       "15427 NO TMU ID   -1.2810359 53.76091 Inactive tmu  northbound NA      NA      \n",
       "15428 NO TMU ID   -1.2808681 53.76096 Inactive tmu  northbound NA      NA      \n",
       "15429 NO TMU ID   -1.2836754 53.76535 Inactive tmu  southbound NA      NA      \n",
       "15430 NO TMU ID   -1.2838890 53.76528 Inactive tmu  southbound NA      NA      \n",
       "15431 NO TMU ID   -1.3223386 53.79211 Inactive tmu  northbound NA      NA      \n",
       "15432 9967/1      -0.6865507 51.98711 Inactive tmu  northbound 490291  232886  \n",
       "15433 9967/2      -0.6864142 51.98730 Inactive tmu  southbound 490300  232907  \n",
       "15434 9968/1      -0.4263033 52.12052 Active   tmu  northbound 507840  248078  \n",
       "15435 9968/2      -0.4261312 52.12043 Active   tmu  southbound 507852  248068  "
      ]
     },
     "metadata": {},
     "output_type": "display_data"
    }
   ],
   "source": [
    "sites <- cbind(sites, easting_northing(sites$name))\n",
    "tail(sites, 10)"
   ]
  },
  {
   "cell_type": "markdown",
   "metadata": {},
   "source": [
    "## combine site info with readings, split into midas, tame, tmu files"
   ]
  },
  {
   "cell_type": "code",
   "execution_count": 42,
   "metadata": {},
   "outputs": [
    {
     "data": {
      "text/html": [
       "FALSE"
      ],
      "text/latex": [
       "FALSE"
      ],
      "text/markdown": [
       "FALSE"
      ],
      "text/plain": [
       "[1] FALSE"
      ]
     },
     "metadata": {},
     "output_type": "display_data"
    }
   ],
   "source": [
    "# sensor reading -> sensor mapping\n",
    "mapping <- match(readings$site_id, sites$id)\n",
    "any(is.na(mapping))"
   ]
  },
  {
   "cell_type": "code",
   "execution_count": 43,
   "metadata": {},
   "outputs": [
    {
     "data": {
      "text/html": [
       "<table>\n",
       "<caption>A matrix: 2 × 6 of type dbl</caption>\n",
       "<thead>\n",
       "\t<tr><th></th><th scope=col>used</th><th scope=col>(Mb)</th><th scope=col>gc trigger</th><th scope=col>(Mb)</th><th scope=col>max used</th><th scope=col>(Mb)</th></tr>\n",
       "</thead>\n",
       "<tbody>\n",
       "\t<tr><th scope=row>Ncells</th><td>   671204</td><td>  35.9</td><td>  31427732</td><td> 1678.5</td><td>  30279643</td><td> 1617.2</td></tr>\n",
       "\t<tr><th scope=row>Vcells</th><td>593559871</td><td>4528.6</td><td>1982048922</td><td>15121.9</td><td>1982048922</td><td>15121.9</td></tr>\n",
       "</tbody>\n",
       "</table>\n"
      ],
      "text/latex": [
       "A matrix: 2 × 6 of type dbl\n",
       "\\begin{tabular}{r|llllll}\n",
       "  & used & (Mb) & gc trigger & (Mb) & max used & (Mb)\\\\\n",
       "\\hline\n",
       "\tNcells &    671204 &   35.9 &   31427732 &  1678.5 &   30279643 &  1617.2\\\\\n",
       "\tVcells & 593559871 & 4528.6 & 1982048922 & 15121.9 & 1982048922 & 15121.9\\\\\n",
       "\\end{tabular}\n"
      ],
      "text/markdown": [
       "\n",
       "A matrix: 2 × 6 of type dbl\n",
       "\n",
       "| <!--/--> | used | (Mb) | gc trigger | (Mb) | max used | (Mb) |\n",
       "|---|---|---|---|---|---|---|\n",
       "| Ncells |    671204 |   35.9 |   31427732 |  1678.5 |   30279643 |  1617.2 |\n",
       "| Vcells | 593559871 | 4528.6 | 1982048922 | 15121.9 | 1982048922 | 15121.9 |\n",
       "\n"
      ],
      "text/plain": [
       "       used      (Mb)   gc trigger (Mb)    max used   (Mb)   \n",
       "Ncells    671204   35.9   31427732  1678.5   30279643  1617.2\n",
       "Vcells 593559871 4528.6 1982048922 15121.9 1982048922 15121.9"
      ]
     },
     "metadata": {},
     "output_type": "display_data"
    }
   ],
   "source": [
    "gc()"
   ]
  },
  {
   "cell_type": "markdown",
   "metadata": {},
   "source": [
    "**todo** need to do this in chunks as to save memory"
   ]
  },
  {
   "cell_type": "code",
   "execution_count": 44,
   "metadata": {},
   "outputs": [
    {
     "data": {
      "text/html": [
       "<table>\n",
       "<caption>A data.table: 10 × 32</caption>\n",
       "<thead>\n",
       "\t<tr><th scope=col>site_id</th><th scope=col>site_name</th><th scope=col>report_date</th><th scope=col>time_period_end</th><th scope=col>interval</th><th scope=col>len_0_520_cm</th><th scope=col>len_521_660_cm</th><th scope=col>len_661_1160_cm</th><th scope=col>len_1160_plus_cm</th><th scope=col>speed_0_10_mph</th><th scope=col>⋯</th><th scope=col>speed_80_plus_mph</th><th scope=col>speed_avg_mph</th><th scope=col>total_vol</th><th scope=col>longitude</th><th scope=col>latitude</th><th scope=col>status</th><th scope=col>type</th><th scope=col>direction</th><th scope=col>easting</th><th scope=col>northing</th></tr>\n",
       "\t<tr><th scope=col>&lt;int&gt;</th><th scope=col>&lt;chr&gt;</th><th scope=col>&lt;chr&gt;</th><th scope=col>&lt;chr&gt;</th><th scope=col>&lt;int&gt;</th><th scope=col>&lt;int&gt;</th><th scope=col>&lt;int&gt;</th><th scope=col>&lt;int&gt;</th><th scope=col>&lt;int&gt;</th><th scope=col>&lt;int&gt;</th><th scope=col>⋯</th><th scope=col>&lt;int&gt;</th><th scope=col>&lt;int&gt;</th><th scope=col>&lt;int&gt;</th><th scope=col>&lt;dbl&gt;</th><th scope=col>&lt;dbl&gt;</th><th scope=col>&lt;chr&gt;</th><th scope=col>&lt;chr&gt;</th><th scope=col>&lt;chr&gt;</th><th scope=col>&lt;fct&gt;</th><th scope=col>&lt;fct&gt;</th></tr>\n",
       "</thead>\n",
       "<tbody>\n",
       "\t<tr><td>17429</td><td>M1/3818M </td><td>2019-04-27T00:00:00</td><td>08:44:59</td><td>34</td><td> NA</td><td> NA</td><td>NA</td><td>NA</td><td>NA</td><td>⋯</td><td>NA</td><td>NA</td><td>  NA</td><td>-1.3061262</td><td>52.81381</td><td>Active</td><td>midas</td><td>southbound    </td><td>446864</td><td>324253</td></tr>\n",
       "\t<tr><td> 4039</td><td>A14/0373J</td><td>2019-04-04T00:00:00</td><td>08:14:00</td><td>32</td><td>219</td><td> 31</td><td>15</td><td>10</td><td>NA</td><td>⋯</td><td>NA</td><td>49</td><td> 275</td><td>-0.6869716</td><td>52.37478</td><td>Active</td><td>midas</td><td>eastbound     </td><td>489482</td><td>276002</td></tr>\n",
       "\t<tr><td>14226</td><td>M1/4264B </td><td>2019-04-07T00:00:00</td><td>20:29:59</td><td>81</td><td> NA</td><td> NA</td><td>NA</td><td>NA</td><td>NA</td><td>⋯</td><td>NA</td><td>NA</td><td>  NA</td><td>-1.3236664</td><td>53.17836</td><td>Active</td><td>midas</td><td>southbound    </td><td>445300</td><td>364795</td></tr>\n",
       "\t<tr><td>17389</td><td>M1/3296B </td><td>2019-04-22T00:00:00</td><td>23:14:00</td><td>92</td><td>193</td><td> 80</td><td>11</td><td>58</td><td>NA</td><td>⋯</td><td>NA</td><td>67</td><td> 342</td><td>-1.1644052</td><td>52.37711</td><td>Active</td><td>midas</td><td>southbound    </td><td>456978</td><td>275779</td></tr>\n",
       "\t<tr><td> 7703</td><td>5877/2   </td><td>2019-04-16T00:00:00</td><td>18:29:00</td><td>73</td><td>678</td><td> 25</td><td> 9</td><td>13</td><td>NA</td><td>⋯</td><td>NA</td><td>68</td><td> 725</td><td>-0.2042658</td><td>51.07080</td><td>Active</td><td>tmu  </td><td>southbound    </td><td>525908</td><td>131697</td></tr>\n",
       "\t<tr><td> 5146</td><td>M4/2193B </td><td>2019-04-17T00:00:00</td><td>07:59:00</td><td>31</td><td>482</td><td>120</td><td>70</td><td>15</td><td>NA</td><td>⋯</td><td>NA</td><td>56</td><td> 687</td><td>-0.3755260</td><td>51.48917</td><td>Active</td><td>midas</td><td>eastbound     </td><td>512881</td><td>177942</td></tr>\n",
       "\t<tr><td> 2894</td><td>M25/5231B</td><td>2019-04-01T00:00:00</td><td>15:59:00</td><td>63</td><td>490</td><td>182</td><td>68</td><td>64</td><td>NA</td><td>⋯</td><td>NA</td><td>64</td><td> 804</td><td>-0.3806125</td><td>51.71636</td><td>Active</td><td>midas</td><td>anti-clockwise</td><td>511968</td><td>203199</td></tr>\n",
       "\t<tr><td> 8138</td><td>6536/1   </td><td>2019-04-25T00:00:00</td><td>13:29:00</td><td>53</td><td>272</td><td> 42</td><td>35</td><td>71</td><td>NA</td><td>⋯</td><td>NA</td><td>62</td><td> 420</td><td>-1.0344285</td><td>53.35005</td><td>Active</td><td>tmu  </td><td>southbound    </td><td>464373</td><td>384117</td></tr>\n",
       "\t<tr><td> 2043</td><td>A14/1135A</td><td>2019-04-11T00:00:00</td><td>18:29:00</td><td>73</td><td>343</td><td> 14</td><td>17</td><td>52</td><td>NA</td><td>⋯</td><td>NA</td><td>64</td><td> 426</td><td> 0.3130592</td><td>52.21864</td><td>Active</td><td>midas</td><td>eastbound     </td><td>558107</td><td>260345</td></tr>\n",
       "\t<tr><td> 2565</td><td>M25/5106A</td><td>2019-04-30T00:00:00</td><td>18:14:00</td><td>72</td><td>999</td><td>449</td><td>54</td><td>70</td><td>NA</td><td>⋯</td><td>NA</td><td>45</td><td>1572</td><td>-0.5091933</td><td>51.63833</td><td>Active</td><td>midas</td><td>clockwise     </td><td>503263</td><td>194332</td></tr>\n",
       "</tbody>\n",
       "</table>\n"
      ],
      "text/latex": [
       "A data.table: 10 × 32\n",
       "\\begin{tabular}{r|llllllllllllllllllllllllllllllll}\n",
       " site\\_id & site\\_name & report\\_date & time\\_period\\_end & interval & len\\_0\\_520\\_cm & len\\_521\\_660\\_cm & len\\_661\\_1160\\_cm & len\\_1160\\_plus\\_cm & speed\\_0\\_10\\_mph & speed\\_11\\_15\\_mph & speed\\_16\\_20\\_mph & speed\\_21\\_25\\_mph & speed\\_26\\_30\\_mph & sped\\_31\\_35\\_mph & speed\\_36\\_40\\_mph & speed\\_41\\_45\\_mph & speed\\_46\\_50\\_mph & speed\\_51\\_55\\_mph & speed\\_56\\_60\\_mph & speed\\_61\\_70\\_mph & speed\\_71\\_80\\_mph & speed\\_80\\_plus\\_mph & speed\\_avg\\_mph & total\\_vol & longitude & latitude & status & type & direction & easting & northing\\\\\n",
       " <int> & <chr> & <chr> & <chr> & <int> & <int> & <int> & <int> & <int> & <int> & <int> & <int> & <int> & <int> & <int> & <int> & <int> & <int> & <int> & <int> & <int> & <int> & <int> & <int> & <int> & <dbl> & <dbl> & <chr> & <chr> & <chr> & <fct> & <fct>\\\\\n",
       "\\hline\n",
       "\t 17429 & M1/3818M  & 2019-04-27T00:00:00 & 08:44:59 & 34 &  NA &  NA & NA & NA & NA & NA & NA & NA & NA & NA & NA & NA & NA & NA & NA & NA & NA & NA & NA &   NA & -1.3061262 & 52.81381 & Active & midas & southbound     & 446864 & 324253\\\\\n",
       "\t  4039 & A14/0373J & 2019-04-04T00:00:00 & 08:14:00 & 32 & 219 &  31 & 15 & 10 & NA & NA & NA & NA & NA & NA & NA & NA & NA & NA & NA & NA & NA & NA & 49 &  275 & -0.6869716 & 52.37478 & Active & midas & eastbound      & 489482 & 276002\\\\\n",
       "\t 14226 & M1/4264B  & 2019-04-07T00:00:00 & 20:29:59 & 81 &  NA &  NA & NA & NA & NA & NA & NA & NA & NA & NA & NA & NA & NA & NA & NA & NA & NA & NA & NA &   NA & -1.3236664 & 53.17836 & Active & midas & southbound     & 445300 & 364795\\\\\n",
       "\t 17389 & M1/3296B  & 2019-04-22T00:00:00 & 23:14:00 & 92 & 193 &  80 & 11 & 58 & NA & NA & NA & NA & NA & NA & NA & NA & NA & NA & NA & NA & NA & NA & 67 &  342 & -1.1644052 & 52.37711 & Active & midas & southbound     & 456978 & 275779\\\\\n",
       "\t  7703 & 5877/2    & 2019-04-16T00:00:00 & 18:29:00 & 73 & 678 &  25 &  9 & 13 & NA & NA & NA & NA & NA & NA & NA & NA & NA & NA & NA & NA & NA & NA & 68 &  725 & -0.2042658 & 51.07080 & Active & tmu   & southbound     & 525908 & 131697\\\\\n",
       "\t  5146 & M4/2193B  & 2019-04-17T00:00:00 & 07:59:00 & 31 & 482 & 120 & 70 & 15 & NA & NA & NA & NA & NA & NA & NA & NA & NA & NA & NA & NA & NA & NA & 56 &  687 & -0.3755260 & 51.48917 & Active & midas & eastbound      & 512881 & 177942\\\\\n",
       "\t  2894 & M25/5231B & 2019-04-01T00:00:00 & 15:59:00 & 63 & 490 & 182 & 68 & 64 & NA & NA & NA & NA & NA & NA & NA & NA & NA & NA & NA & NA & NA & NA & 64 &  804 & -0.3806125 & 51.71636 & Active & midas & anti-clockwise & 511968 & 203199\\\\\n",
       "\t  8138 & 6536/1    & 2019-04-25T00:00:00 & 13:29:00 & 53 & 272 &  42 & 35 & 71 & NA & NA & NA & NA & NA & NA & NA & NA & NA & NA & NA & NA & NA & NA & 62 &  420 & -1.0344285 & 53.35005 & Active & tmu   & southbound     & 464373 & 384117\\\\\n",
       "\t  2043 & A14/1135A & 2019-04-11T00:00:00 & 18:29:00 & 73 & 343 &  14 & 17 & 52 & NA & NA & NA & NA & NA & NA & NA & NA & NA & NA & NA & NA & NA & NA & 64 &  426 &  0.3130592 & 52.21864 & Active & midas & eastbound      & 558107 & 260345\\\\\n",
       "\t  2565 & M25/5106A & 2019-04-30T00:00:00 & 18:14:00 & 72 & 999 & 449 & 54 & 70 & NA & NA & NA & NA & NA & NA & NA & NA & NA & NA & NA & NA & NA & NA & 45 & 1572 & -0.5091933 & 51.63833 & Active & midas & clockwise      & 503263 & 194332\\\\\n",
       "\\end{tabular}\n"
      ],
      "text/markdown": [
       "\n",
       "A data.table: 10 × 32\n",
       "\n",
       "| site_id &lt;int&gt; | site_name &lt;chr&gt; | report_date &lt;chr&gt; | time_period_end &lt;chr&gt; | interval &lt;int&gt; | len_0_520_cm &lt;int&gt; | len_521_660_cm &lt;int&gt; | len_661_1160_cm &lt;int&gt; | len_1160_plus_cm &lt;int&gt; | speed_0_10_mph &lt;int&gt; | ⋯ ⋯ | speed_80_plus_mph &lt;int&gt; | speed_avg_mph &lt;int&gt; | total_vol &lt;int&gt; | longitude &lt;dbl&gt; | latitude &lt;dbl&gt; | status &lt;chr&gt; | type &lt;chr&gt; | direction &lt;chr&gt; | easting &lt;fct&gt; | northing &lt;fct&gt; |\n",
       "|---|---|---|---|---|---|---|---|---|---|---|---|---|---|---|---|---|---|---|---|---|\n",
       "| 17429 | M1/3818M  | 2019-04-27T00:00:00 | 08:44:59 | 34 |  NA |  NA | NA | NA | NA | ⋯ | NA | NA |   NA | -1.3061262 | 52.81381 | Active | midas | southbound     | 446864 | 324253 |\n",
       "|  4039 | A14/0373J | 2019-04-04T00:00:00 | 08:14:00 | 32 | 219 |  31 | 15 | 10 | NA | ⋯ | NA | 49 |  275 | -0.6869716 | 52.37478 | Active | midas | eastbound      | 489482 | 276002 |\n",
       "| 14226 | M1/4264B  | 2019-04-07T00:00:00 | 20:29:59 | 81 |  NA |  NA | NA | NA | NA | ⋯ | NA | NA |   NA | -1.3236664 | 53.17836 | Active | midas | southbound     | 445300 | 364795 |\n",
       "| 17389 | M1/3296B  | 2019-04-22T00:00:00 | 23:14:00 | 92 | 193 |  80 | 11 | 58 | NA | ⋯ | NA | 67 |  342 | -1.1644052 | 52.37711 | Active | midas | southbound     | 456978 | 275779 |\n",
       "|  7703 | 5877/2    | 2019-04-16T00:00:00 | 18:29:00 | 73 | 678 |  25 |  9 | 13 | NA | ⋯ | NA | 68 |  725 | -0.2042658 | 51.07080 | Active | tmu   | southbound     | 525908 | 131697 |\n",
       "|  5146 | M4/2193B  | 2019-04-17T00:00:00 | 07:59:00 | 31 | 482 | 120 | 70 | 15 | NA | ⋯ | NA | 56 |  687 | -0.3755260 | 51.48917 | Active | midas | eastbound      | 512881 | 177942 |\n",
       "|  2894 | M25/5231B | 2019-04-01T00:00:00 | 15:59:00 | 63 | 490 | 182 | 68 | 64 | NA | ⋯ | NA | 64 |  804 | -0.3806125 | 51.71636 | Active | midas | anti-clockwise | 511968 | 203199 |\n",
       "|  8138 | 6536/1    | 2019-04-25T00:00:00 | 13:29:00 | 53 | 272 |  42 | 35 | 71 | NA | ⋯ | NA | 62 |  420 | -1.0344285 | 53.35005 | Active | tmu   | southbound     | 464373 | 384117 |\n",
       "|  2043 | A14/1135A | 2019-04-11T00:00:00 | 18:29:00 | 73 | 343 |  14 | 17 | 52 | NA | ⋯ | NA | 64 |  426 |  0.3130592 | 52.21864 | Active | midas | eastbound      | 558107 | 260345 |\n",
       "|  2565 | M25/5106A | 2019-04-30T00:00:00 | 18:14:00 | 72 | 999 | 449 | 54 | 70 | NA | ⋯ | NA | 45 | 1572 | -0.5091933 | 51.63833 | Active | midas | clockwise      | 503263 | 194332 |\n",
       "\n"
      ],
      "text/plain": [
       "   site_id site_name report_date         time_period_end interval len_0_520_cm\n",
       "1  17429   M1/3818M  2019-04-27T00:00:00 08:44:59        34        NA         \n",
       "2   4039   A14/0373J 2019-04-04T00:00:00 08:14:00        32       219         \n",
       "3  14226   M1/4264B  2019-04-07T00:00:00 20:29:59        81        NA         \n",
       "4  17389   M1/3296B  2019-04-22T00:00:00 23:14:00        92       193         \n",
       "5   7703   5877/2    2019-04-16T00:00:00 18:29:00        73       678         \n",
       "6   5146   M4/2193B  2019-04-17T00:00:00 07:59:00        31       482         \n",
       "7   2894   M25/5231B 2019-04-01T00:00:00 15:59:00        63       490         \n",
       "8   8138   6536/1    2019-04-25T00:00:00 13:29:00        53       272         \n",
       "9   2043   A14/1135A 2019-04-11T00:00:00 18:29:00        73       343         \n",
       "10  2565   M25/5106A 2019-04-30T00:00:00 18:14:00        72       999         \n",
       "   len_521_660_cm len_661_1160_cm len_1160_plus_cm speed_0_10_mph ⋯\n",
       "1   NA            NA              NA               NA             ⋯\n",
       "2   31            15              10               NA             ⋯\n",
       "3   NA            NA              NA               NA             ⋯\n",
       "4   80            11              58               NA             ⋯\n",
       "5   25             9              13               NA             ⋯\n",
       "6  120            70              15               NA             ⋯\n",
       "7  182            68              64               NA             ⋯\n",
       "8   42            35              71               NA             ⋯\n",
       "9   14            17              52               NA             ⋯\n",
       "10 449            54              70               NA             ⋯\n",
       "   speed_80_plus_mph speed_avg_mph total_vol longitude  latitude status type \n",
       "1  NA                NA              NA      -1.3061262 52.81381 Active midas\n",
       "2  NA                49             275      -0.6869716 52.37478 Active midas\n",
       "3  NA                NA              NA      -1.3236664 53.17836 Active midas\n",
       "4  NA                67             342      -1.1644052 52.37711 Active midas\n",
       "5  NA                68             725      -0.2042658 51.07080 Active tmu  \n",
       "6  NA                56             687      -0.3755260 51.48917 Active midas\n",
       "7  NA                64             804      -0.3806125 51.71636 Active midas\n",
       "8  NA                62             420      -1.0344285 53.35005 Active tmu  \n",
       "9  NA                64             426       0.3130592 52.21864 Active midas\n",
       "10 NA                45            1572      -0.5091933 51.63833 Active midas\n",
       "   direction      easting northing\n",
       "1  southbound     446864  324253  \n",
       "2  eastbound      489482  276002  \n",
       "3  southbound     445300  364795  \n",
       "4  southbound     456978  275779  \n",
       "5  southbound     525908  131697  \n",
       "6  eastbound      512881  177942  \n",
       "7  anti-clockwise 511968  203199  \n",
       "8  southbound     464373  384117  \n",
       "9  eastbound      558107  260345  \n",
       "10 clockwise      503263  194332  "
      ]
     },
     "metadata": {},
     "output_type": "display_data"
    }
   ],
   "source": [
    "# glue together\n",
    "readings <- cbind(readings, sites[mapping, -(1:3)])\n",
    "readings[sample(1:nrow(readings), 10), ]"
   ]
  },
  {
   "cell_type": "markdown",
   "metadata": {},
   "source": [
    "**warning** ^-- pushed R instance to ~70g memory. good job i have swap on an NVMe stick.."
   ]
  },
  {
   "cell_type": "code",
   "execution_count": 45,
   "metadata": {},
   "outputs": [
    {
     "data": {
      "text/html": [
       "<table>\n",
       "<caption>A data.table: 6 × 32</caption>\n",
       "<thead>\n",
       "\t<tr><th scope=col>site_id</th><th scope=col>site_name</th><th scope=col>report_date</th><th scope=col>time_period_end</th><th scope=col>interval</th><th scope=col>len_0_520_cm</th><th scope=col>len_521_660_cm</th><th scope=col>len_661_1160_cm</th><th scope=col>len_1160_plus_cm</th><th scope=col>speed_0_10_mph</th><th scope=col>⋯</th><th scope=col>speed_80_plus_mph</th><th scope=col>speed_avg_mph</th><th scope=col>total_vol</th><th scope=col>longitude</th><th scope=col>latitude</th><th scope=col>status</th><th scope=col>type</th><th scope=col>direction</th><th scope=col>easting</th><th scope=col>northing</th></tr>\n",
       "\t<tr><th scope=col>&lt;int&gt;</th><th scope=col>&lt;chr&gt;</th><th scope=col>&lt;chr&gt;</th><th scope=col>&lt;chr&gt;</th><th scope=col>&lt;int&gt;</th><th scope=col>&lt;int&gt;</th><th scope=col>&lt;int&gt;</th><th scope=col>&lt;int&gt;</th><th scope=col>&lt;int&gt;</th><th scope=col>&lt;int&gt;</th><th scope=col>⋯</th><th scope=col>&lt;int&gt;</th><th scope=col>&lt;int&gt;</th><th scope=col>&lt;int&gt;</th><th scope=col>&lt;dbl&gt;</th><th scope=col>&lt;dbl&gt;</th><th scope=col>&lt;chr&gt;</th><th scope=col>&lt;chr&gt;</th><th scope=col>&lt;chr&gt;</th><th scope=col>&lt;fct&gt;</th><th scope=col>&lt;fct&gt;</th></tr>\n",
       "</thead>\n",
       "<tbody>\n",
       "\t<tr><td>99</td><td>M1/2501A</td><td>2019-04-30T00:00:00</td><td>22:44:00</td><td>90</td><td>369</td><td>36</td><td>22</td><td>61</td><td>NA</td><td>⋯</td><td>NA</td><td>63</td><td>488</td><td>-0.4332477</td><td>51.86238</td><td>Active</td><td>midas</td><td>northbound</td><td>507983</td><td>219359</td></tr>\n",
       "\t<tr><td>99</td><td>M1/2501A</td><td>2019-04-30T00:00:00</td><td>22:59:00</td><td>91</td><td>286</td><td>62</td><td>21</td><td>79</td><td>NA</td><td>⋯</td><td>NA</td><td>63</td><td>448</td><td>-0.4332477</td><td>51.86238</td><td>Active</td><td>midas</td><td>northbound</td><td>507983</td><td>219359</td></tr>\n",
       "\t<tr><td>99</td><td>M1/2501A</td><td>2019-04-30T00:00:00</td><td>23:14:00</td><td>92</td><td>299</td><td>48</td><td>17</td><td>60</td><td>NA</td><td>⋯</td><td>NA</td><td>65</td><td>424</td><td>-0.4332477</td><td>51.86238</td><td>Active</td><td>midas</td><td>northbound</td><td>507983</td><td>219359</td></tr>\n",
       "\t<tr><td>99</td><td>M1/2501A</td><td>2019-04-30T00:00:00</td><td>23:29:00</td><td>93</td><td>253</td><td>36</td><td> 9</td><td>25</td><td>NA</td><td>⋯</td><td>NA</td><td>66</td><td>323</td><td>-0.4332477</td><td>51.86238</td><td>Active</td><td>midas</td><td>northbound</td><td>507983</td><td>219359</td></tr>\n",
       "\t<tr><td>99</td><td>M1/2501A</td><td>2019-04-30T00:00:00</td><td>23:44:00</td><td>94</td><td>308</td><td>34</td><td>13</td><td>25</td><td>NA</td><td>⋯</td><td>NA</td><td>67</td><td>380</td><td>-0.4332477</td><td>51.86238</td><td>Active</td><td>midas</td><td>northbound</td><td>507983</td><td>219359</td></tr>\n",
       "\t<tr><td>99</td><td>M1/2501A</td><td>2019-04-30T00:00:00</td><td>23:59:00</td><td>95</td><td>336</td><td>58</td><td>16</td><td>47</td><td>NA</td><td>⋯</td><td>NA</td><td>66</td><td>457</td><td>-0.4332477</td><td>51.86238</td><td>Active</td><td>midas</td><td>northbound</td><td>507983</td><td>219359</td></tr>\n",
       "</tbody>\n",
       "</table>\n"
      ],
      "text/latex": [
       "A data.table: 6 × 32\n",
       "\\begin{tabular}{r|llllllllllllllllllllllllllllllll}\n",
       " site\\_id & site\\_name & report\\_date & time\\_period\\_end & interval & len\\_0\\_520\\_cm & len\\_521\\_660\\_cm & len\\_661\\_1160\\_cm & len\\_1160\\_plus\\_cm & speed\\_0\\_10\\_mph & speed\\_11\\_15\\_mph & speed\\_16\\_20\\_mph & speed\\_21\\_25\\_mph & speed\\_26\\_30\\_mph & sped\\_31\\_35\\_mph & speed\\_36\\_40\\_mph & speed\\_41\\_45\\_mph & speed\\_46\\_50\\_mph & speed\\_51\\_55\\_mph & speed\\_56\\_60\\_mph & speed\\_61\\_70\\_mph & speed\\_71\\_80\\_mph & speed\\_80\\_plus\\_mph & speed\\_avg\\_mph & total\\_vol & longitude & latitude & status & type & direction & easting & northing\\\\\n",
       " <int> & <chr> & <chr> & <chr> & <int> & <int> & <int> & <int> & <int> & <int> & <int> & <int> & <int> & <int> & <int> & <int> & <int> & <int> & <int> & <int> & <int> & <int> & <int> & <int> & <int> & <dbl> & <dbl> & <chr> & <chr> & <chr> & <fct> & <fct>\\\\\n",
       "\\hline\n",
       "\t 99 & M1/2501A & 2019-04-30T00:00:00 & 22:44:00 & 90 & 369 & 36 & 22 & 61 & NA & NA & NA & NA & NA & NA & NA & NA & NA & NA & NA & NA & NA & NA & 63 & 488 & -0.4332477 & 51.86238 & Active & midas & northbound & 507983 & 219359\\\\\n",
       "\t 99 & M1/2501A & 2019-04-30T00:00:00 & 22:59:00 & 91 & 286 & 62 & 21 & 79 & NA & NA & NA & NA & NA & NA & NA & NA & NA & NA & NA & NA & NA & NA & 63 & 448 & -0.4332477 & 51.86238 & Active & midas & northbound & 507983 & 219359\\\\\n",
       "\t 99 & M1/2501A & 2019-04-30T00:00:00 & 23:14:00 & 92 & 299 & 48 & 17 & 60 & NA & NA & NA & NA & NA & NA & NA & NA & NA & NA & NA & NA & NA & NA & 65 & 424 & -0.4332477 & 51.86238 & Active & midas & northbound & 507983 & 219359\\\\\n",
       "\t 99 & M1/2501A & 2019-04-30T00:00:00 & 23:29:00 & 93 & 253 & 36 &  9 & 25 & NA & NA & NA & NA & NA & NA & NA & NA & NA & NA & NA & NA & NA & NA & 66 & 323 & -0.4332477 & 51.86238 & Active & midas & northbound & 507983 & 219359\\\\\n",
       "\t 99 & M1/2501A & 2019-04-30T00:00:00 & 23:44:00 & 94 & 308 & 34 & 13 & 25 & NA & NA & NA & NA & NA & NA & NA & NA & NA & NA & NA & NA & NA & NA & 67 & 380 & -0.4332477 & 51.86238 & Active & midas & northbound & 507983 & 219359\\\\\n",
       "\t 99 & M1/2501A & 2019-04-30T00:00:00 & 23:59:00 & 95 & 336 & 58 & 16 & 47 & NA & NA & NA & NA & NA & NA & NA & NA & NA & NA & NA & NA & NA & NA & 66 & 457 & -0.4332477 & 51.86238 & Active & midas & northbound & 507983 & 219359\\\\\n",
       "\\end{tabular}\n"
      ],
      "text/markdown": [
       "\n",
       "A data.table: 6 × 32\n",
       "\n",
       "| site_id &lt;int&gt; | site_name &lt;chr&gt; | report_date &lt;chr&gt; | time_period_end &lt;chr&gt; | interval &lt;int&gt; | len_0_520_cm &lt;int&gt; | len_521_660_cm &lt;int&gt; | len_661_1160_cm &lt;int&gt; | len_1160_plus_cm &lt;int&gt; | speed_0_10_mph &lt;int&gt; | ⋯ ⋯ | speed_80_plus_mph &lt;int&gt; | speed_avg_mph &lt;int&gt; | total_vol &lt;int&gt; | longitude &lt;dbl&gt; | latitude &lt;dbl&gt; | status &lt;chr&gt; | type &lt;chr&gt; | direction &lt;chr&gt; | easting &lt;fct&gt; | northing &lt;fct&gt; |\n",
       "|---|---|---|---|---|---|---|---|---|---|---|---|---|---|---|---|---|---|---|---|---|\n",
       "| 99 | M1/2501A | 2019-04-30T00:00:00 | 22:44:00 | 90 | 369 | 36 | 22 | 61 | NA | ⋯ | NA | 63 | 488 | -0.4332477 | 51.86238 | Active | midas | northbound | 507983 | 219359 |\n",
       "| 99 | M1/2501A | 2019-04-30T00:00:00 | 22:59:00 | 91 | 286 | 62 | 21 | 79 | NA | ⋯ | NA | 63 | 448 | -0.4332477 | 51.86238 | Active | midas | northbound | 507983 | 219359 |\n",
       "| 99 | M1/2501A | 2019-04-30T00:00:00 | 23:14:00 | 92 | 299 | 48 | 17 | 60 | NA | ⋯ | NA | 65 | 424 | -0.4332477 | 51.86238 | Active | midas | northbound | 507983 | 219359 |\n",
       "| 99 | M1/2501A | 2019-04-30T00:00:00 | 23:29:00 | 93 | 253 | 36 |  9 | 25 | NA | ⋯ | NA | 66 | 323 | -0.4332477 | 51.86238 | Active | midas | northbound | 507983 | 219359 |\n",
       "| 99 | M1/2501A | 2019-04-30T00:00:00 | 23:44:00 | 94 | 308 | 34 | 13 | 25 | NA | ⋯ | NA | 67 | 380 | -0.4332477 | 51.86238 | Active | midas | northbound | 507983 | 219359 |\n",
       "| 99 | M1/2501A | 2019-04-30T00:00:00 | 23:59:00 | 95 | 336 | 58 | 16 | 47 | NA | ⋯ | NA | 66 | 457 | -0.4332477 | 51.86238 | Active | midas | northbound | 507983 | 219359 |\n",
       "\n"
      ],
      "text/plain": [
       "  site_id site_name report_date         time_period_end interval len_0_520_cm\n",
       "1 99      M1/2501A  2019-04-30T00:00:00 22:44:00        90       369         \n",
       "2 99      M1/2501A  2019-04-30T00:00:00 22:59:00        91       286         \n",
       "3 99      M1/2501A  2019-04-30T00:00:00 23:14:00        92       299         \n",
       "4 99      M1/2501A  2019-04-30T00:00:00 23:29:00        93       253         \n",
       "5 99      M1/2501A  2019-04-30T00:00:00 23:44:00        94       308         \n",
       "6 99      M1/2501A  2019-04-30T00:00:00 23:59:00        95       336         \n",
       "  len_521_660_cm len_661_1160_cm len_1160_plus_cm speed_0_10_mph ⋯\n",
       "1 36             22              61               NA             ⋯\n",
       "2 62             21              79               NA             ⋯\n",
       "3 48             17              60               NA             ⋯\n",
       "4 36              9              25               NA             ⋯\n",
       "5 34             13              25               NA             ⋯\n",
       "6 58             16              47               NA             ⋯\n",
       "  speed_80_plus_mph speed_avg_mph total_vol longitude  latitude status type \n",
       "1 NA                63            488       -0.4332477 51.86238 Active midas\n",
       "2 NA                63            448       -0.4332477 51.86238 Active midas\n",
       "3 NA                65            424       -0.4332477 51.86238 Active midas\n",
       "4 NA                66            323       -0.4332477 51.86238 Active midas\n",
       "5 NA                67            380       -0.4332477 51.86238 Active midas\n",
       "6 NA                66            457       -0.4332477 51.86238 Active midas\n",
       "  direction  easting northing\n",
       "1 northbound 507983  219359  \n",
       "2 northbound 507983  219359  \n",
       "3 northbound 507983  219359  \n",
       "4 northbound 507983  219359  \n",
       "5 northbound 507983  219359  \n",
       "6 northbound 507983  219359  "
      ]
     },
     "metadata": {},
     "output_type": "display_data"
    }
   ],
   "source": [
    "tail(readings)"
   ]
  },
  {
   "cell_type": "code",
   "execution_count": 47,
   "metadata": {},
   "outputs": [
    {
     "data": {
      "text/html": [
       "28779744"
      ],
      "text/latex": [
       "28779744"
      ],
      "text/markdown": [
       "28779744"
      ],
      "text/plain": [
       "[1] 28779744"
      ]
     },
     "metadata": {},
     "output_type": "display_data"
    }
   ],
   "source": [
    "nrow(readings)"
   ]
  },
  {
   "cell_type": "code",
   "execution_count": 46,
   "metadata": {},
   "outputs": [],
   "source": [
    "# write this out and split by midas,tame,tmu later (need to free memory)\n",
    "fwrite(readings, \"../readings_combo.csv\", quote=F, row.names=F)"
   ]
  }
 ],
 "metadata": {
  "kernelspec": {
   "display_name": "R",
   "language": "R",
   "name": "ir"
  },
  "language_info": {
   "codemirror_mode": "r",
   "file_extension": ".r",
   "mimetype": "text/x-r-source",
   "name": "R",
   "pygments_lexer": "r",
   "version": "3.6.0"
  }
 },
 "nbformat": 4,
 "nbformat_minor": 2
}
